{
  "nbformat": 4,
  "nbformat_minor": 0,
  "metadata": {
    "colab": {
      "provenance": []
    },
    "kernelspec": {
      "name": "python3",
      "display_name": "Python 3"
    },
    "language_info": {
      "name": "python"
    }
  },
  "cells": [
    {
      "cell_type": "markdown",
      "metadata": {
        "id": "gGzI83b9PmnI"
      },
      "source": [
        "# Doing Astrophysics using Python\n",
        "\n",
        "- \"Doing Astrophysics using Python\"\n",
        "  - Instructor: Kinoshita Daisuke\n",
        "  - Classroom: S4-203\n",
        "  - Time: from 13:00 to 15:50 on Tuesday\n",
        "  - Semester: 2nd semester of academic year 2024\n",
        "    - from February 2025 to June 2025\n",
        "  - Course web page: https://s3b.astro.ncu.edu.tw/appy_202502/\n",
        "  - GitHub repository: https://github.com/kinoshitadaisuke/ncu_doing_astrophysics_using_python_202502\n"
      ]
    },
    {
      "cell_type": "markdown",
      "metadata": {
        "id": "Q7MvlbrC_tne"
      },
      "source": [
        "# Session 15: \"Classification of astronomical objects using machine learning\"\n",
        "\n",
        "## 11 June 2025\n",
        "\n",
        "## Instructor: Kinoshita Daisuke"
      ]
    },
    {
      "cell_type": "markdown",
      "source": [
        "# Type your name and student ID"
      ],
      "metadata": {
        "id": "wIi2FZFfTpKm"
      }
    },
    {
      "cell_type": "code",
      "source": [
        "# Run this cell to enter your name.\n",
        "\n",
        "# getting your name and student ID\n",
        "my_name = input (\"What is your name? \")\n",
        "my_id = input (\"What is your student ID? \")\n",
        "\n",
        "# printing your name and student ID\n",
        "print (f'')\n",
        "print (f'Name: {my_name}')\n",
        "print (f\"Student ID: {my_id}\")\n",
        "print (f'')\n",
        "\n",
        "# importing datetime module\n",
        "import datetime\n",
        "\n",
        "# getting current datetime\n",
        "now = datetime.datetime.now ()\n",
        "\n",
        "# printing curent date/time\n",
        "print (f'date/time = {now} (UT)')\n",
        "\n",
        "# importing random module\n",
        "import random\n",
        "\n",
        "# generating a random number\n",
        "n1 = random.randint (0, 1000000)\n",
        "n2 = random.randint (0, 1000000)\n",
        "print (f\"{n1} {n2}\")"
      ],
      "metadata": {
        "id": "YwfYDKEaRoP9"
      },
      "execution_count": null,
      "outputs": []
    },
    {
      "cell_type": "markdown",
      "metadata": {
        "id": "T_y7rto6Q5P8"
      },
      "source": [
        "# 0. Installation of Python interpreter"
      ]
    },
    {
      "cell_type": "code",
      "execution_count": null,
      "metadata": {
        "id": "MzmVLkC8QyGZ"
      },
      "outputs": [],
      "source": [
        "# Run this cell to install Python 3.13\n",
        "\n",
        "!apt update\n",
        "!apt upgrade\n",
        "!apt install python3.13 python3.13-dev python3.13-full libpython3.13-dev\n",
        "!update-alternatives --install /usr/bin/python3 python3 /usr/bin/python3.13 1\n",
        "!wget https://bootstrap.pypa.io/get-pip.py\n",
        "!python3.13 get-pip.py"
      ]
    },
    {
      "cell_type": "code",
      "execution_count": null,
      "metadata": {
        "id": "Vx-JYTyp3NMU"
      },
      "outputs": [],
      "source": [
        "# Run this cell to check the version of Python interpreter and pip command\n",
        "\n",
        "!python3.13 --version\n",
        "!pip --version"
      ]
    },
    {
      "cell_type": "code",
      "execution_count": null,
      "metadata": {
        "id": "7V5dCLx5F9QU"
      },
      "outputs": [],
      "source": [
        "# Run this cell to install external Python packages.\n",
        "\n",
        "!pip install matplotlib matplotlib-inline numpy scipy astropy astroquery importlib_metadata scikit-learn"
      ]
    },
    {
      "cell_type": "markdown",
      "metadata": {
        "id": "zvKZRFoF8A8k"
      },
      "source": [
        "# 1. Downloading a set of sample Python scripts for this course"
      ]
    },
    {
      "cell_type": "code",
      "execution_count": null,
      "metadata": {
        "id": "itsUqwak4-z4"
      },
      "outputs": [],
      "source": [
        "# Run this cell to download a set of sample Python scripts for this course.\n",
        "\n",
        "!git clone https://github.com/kinoshitadaisuke/ncu_doing_astrophysics_using_python_202502.git"
      ]
    },
    {
      "cell_type": "code",
      "execution_count": null,
      "metadata": {
        "id": "bREyxIP08RZG"
      },
      "outputs": [],
      "source": [
        "# Run this cell to move to the directory for this session.\n",
        "\n",
        "%cd ncu_doing_astrophysics_using_python_202502/s15"
      ]
    },
    {
      "cell_type": "code",
      "execution_count": null,
      "metadata": {
        "id": "fKxQ_X-D8dRN"
      },
      "outputs": [],
      "source": [
        "# Run this cell to show a list of files for this session.\n",
        "\n",
        "!ls -lF"
      ]
    },
    {
      "cell_type": "markdown",
      "metadata": {
        "id": "DJKJHgpbWGgZ"
      },
      "source": [
        "# 2. Classification using random forest classifier"
      ]
    },
    {
      "cell_type": "markdown",
      "metadata": {
        "id": "h5mNvY-CGk8e"
      },
      "source": [
        "## 2.1 Generation of synthetic training dta for classification"
      ]
    },
    {
      "cell_type": "code",
      "execution_count": null,
      "metadata": {
        "id": "Iy6sAdVlWfX5"
      },
      "outputs": [],
      "source": [
        "# Run this cell to show the source code of the script.\n",
        "\n",
        "!cat appy_s15_00_00.py"
      ]
    },
    {
      "cell_type": "code",
      "execution_count": null,
      "metadata": {
        "id": "9DMzwerfWys0"
      },
      "outputs": [],
      "source": [
        "# Run this cell to execute the script.\n",
        "\n",
        "!python3.13 appy_s15_00_00.py"
      ]
    },
    {
      "cell_type": "code",
      "source": [
        "# Run this cell to show the first 20 lines of newly created file.\n",
        "\n",
        "!head -20 appy_s15_00_00.data"
      ],
      "metadata": {
        "id": "4PmFvwR0LLYu"
      },
      "execution_count": null,
      "outputs": []
    },
    {
      "cell_type": "markdown",
      "metadata": {
        "id": "LwjW03VUGpJt"
      },
      "source": [
        "## 2.2 Visualisation of generated synthetic data"
      ]
    },
    {
      "cell_type": "code",
      "execution_count": null,
      "metadata": {
        "id": "7LBwGygmXBbt"
      },
      "outputs": [],
      "source": [
        "# Run this cell to show the source code of the script.\n",
        "\n",
        "!cat appy_s15_00_01.py"
      ]
    },
    {
      "cell_type": "code",
      "execution_count": null,
      "metadata": {
        "id": "rD4qHLrZXBbu"
      },
      "outputs": [],
      "source": [
        "# Run this cell to execute the script.\n",
        "\n",
        "!python3.13 appy_s15_00_01.py"
      ]
    },
    {
      "cell_type": "code",
      "execution_count": null,
      "metadata": {
        "id": "l_1yBzzxfyW2"
      },
      "outputs": [],
      "source": [
        "# Run this cell to display PNG image.\n",
        "\n",
        "# importing IPython.display module\n",
        "import IPython.display\n",
        "\n",
        "# displaying PNG file\n",
        "IPython.display.Image ('appy_s15_00_01.png')"
      ]
    },
    {
      "cell_type": "markdown",
      "metadata": {
        "id": "7HK4X3R4Guvl"
      },
      "source": [
        "## 2.3 Building a classifier by learning training dataset"
      ]
    },
    {
      "cell_type": "code",
      "execution_count": null,
      "metadata": {
        "id": "PiO6p_sSX5H2"
      },
      "outputs": [],
      "source": [
        "# Run this cell to show the source code of the script.\n",
        "\n",
        "!cat appy_s15_00_02.py"
      ]
    },
    {
      "cell_type": "code",
      "execution_count": null,
      "metadata": {
        "id": "x54CtvBmX5H8"
      },
      "outputs": [],
      "source": [
        "# Run this cell to execute the script.\n",
        "\n",
        "!python3.13 appy_s15_00_02.py"
      ]
    },
    {
      "cell_type": "code",
      "execution_count": null,
      "metadata": {
        "id": "AHcsi7v7X5H9"
      },
      "outputs": [],
      "source": [
        "# Run this cell to display PNG image.\n",
        "\n",
        "# importing IPython.display module\n",
        "import IPython.display\n",
        "\n",
        "# displaying PNG file\n",
        "IPython.display.Image ('appy_s15_00_02.png')"
      ]
    },
    {
      "cell_type": "markdown",
      "metadata": {
        "id": "Me7VxzwnG1RB"
      },
      "source": [
        "## 2.4 Generation of testing data for classification"
      ]
    },
    {
      "cell_type": "code",
      "execution_count": null,
      "metadata": {
        "id": "TDmTfm6UYF3b"
      },
      "outputs": [],
      "source": [
        "# Run this cell to show the source code of the script.\n",
        "\n",
        "!cat appy_s15_00_03.py"
      ]
    },
    {
      "cell_type": "code",
      "execution_count": null,
      "metadata": {
        "id": "iLofy0JcYF3g"
      },
      "outputs": [],
      "source": [
        "# Run this cell to execute the script.\n",
        "\n",
        "!python3.13 appy_s15_00_03.py"
      ]
    },
    {
      "cell_type": "code",
      "execution_count": null,
      "metadata": {
        "id": "9St1jCsWYF3h"
      },
      "outputs": [],
      "source": [
        "# Run this cell to display PNG image.\n",
        "\n",
        "# importing IPython.display module\n",
        "import IPython.display\n",
        "\n",
        "# displaying PNG file\n",
        "IPython.display.Image ('appy_s15_00_03.png')"
      ]
    },
    {
      "cell_type": "markdown",
      "metadata": {
        "id": "y5VmLOSpG7aR"
      },
      "source": [
        "## 2.5 Classification of testing data"
      ]
    },
    {
      "cell_type": "code",
      "execution_count": null,
      "metadata": {
        "id": "l8Ag7NO0YOdw"
      },
      "outputs": [],
      "source": [
        "# Run this cell to show the source code of the script.\n",
        "\n",
        "!cat appy_s15_00_04.py"
      ]
    },
    {
      "cell_type": "code",
      "execution_count": null,
      "metadata": {
        "id": "TeyfRJvBYOd2"
      },
      "outputs": [],
      "source": [
        "# Run this cell to execute the script.\n",
        "\n",
        "!python3.13 appy_s15_00_04.py"
      ]
    },
    {
      "cell_type": "code",
      "execution_count": null,
      "metadata": {
        "id": "kcteYGqzYOd3"
      },
      "outputs": [],
      "source": [
        "# Run this cell to display PNG image.\n",
        "\n",
        "# importing IPython.display module\n",
        "import IPython.display\n",
        "\n",
        "# displaying PNG file\n",
        "IPython.display.Image ('appy_s15_00_04.png')"
      ]
    },
    {
      "cell_type": "markdown",
      "metadata": {
        "id": "xof9bq9tYYVS"
      },
      "source": [
        "# 3. Classification using naive Bayes classifier"
      ]
    },
    {
      "cell_type": "markdown",
      "metadata": {
        "id": "isH5X6z1HEfp"
      },
      "source": [
        "## 3.1 Generation of synthetic data"
      ]
    },
    {
      "cell_type": "code",
      "execution_count": null,
      "metadata": {
        "id": "T0UO6-MmYhLN"
      },
      "outputs": [],
      "source": [
        "# Run this cell to show the source code of the script.\n",
        "\n",
        "!cat appy_s15_01_00.py"
      ]
    },
    {
      "cell_type": "code",
      "execution_count": null,
      "metadata": {
        "id": "30BBkKFTYhLR"
      },
      "outputs": [],
      "source": [
        "# Run this cell to execute the script.\n",
        "\n",
        "!python3.13 appy_s15_01_00.py"
      ]
    },
    {
      "cell_type": "code",
      "source": [
        "# Run this cell to show the first 20 lines of newly created file.\n",
        "\n",
        "!head -20 appy_s15_01_00.data"
      ],
      "metadata": {
        "id": "YddVS0D8Ll6Z"
      },
      "execution_count": null,
      "outputs": []
    },
    {
      "cell_type": "markdown",
      "metadata": {
        "id": "0TCdadzJHgXf"
      },
      "source": [
        "## 3.2 Visualisation of synthetic data"
      ]
    },
    {
      "cell_type": "code",
      "execution_count": null,
      "metadata": {
        "id": "9EBW9VOUYo2D"
      },
      "outputs": [],
      "source": [
        "# Run this cell to show the source code of the script.\n",
        "\n",
        "!cat appy_s15_01_01.py"
      ]
    },
    {
      "cell_type": "code",
      "execution_count": null,
      "metadata": {
        "id": "kHGG7C4sYo2E"
      },
      "outputs": [],
      "source": [
        "# Run this cell to execute the script.\n",
        "\n",
        "!python3.13 appy_s15_01_01.py"
      ]
    },
    {
      "cell_type": "code",
      "execution_count": null,
      "metadata": {
        "id": "fT8uJgjmYo2F"
      },
      "outputs": [],
      "source": [
        "# Run this cell to display PNG image.\n",
        "\n",
        "# importing IPython.display module\n",
        "import IPython.display\n",
        "\n",
        "# displaying PNG file\n",
        "IPython.display.Image ('appy_s15_01_01.png')"
      ]
    },
    {
      "cell_type": "markdown",
      "metadata": {
        "id": "9OAVFSRqHkh_"
      },
      "source": [
        "## 3.3 Dividing dataset for training and testing"
      ]
    },
    {
      "cell_type": "code",
      "execution_count": null,
      "metadata": {
        "id": "JHIW3ykcY7Np"
      },
      "outputs": [],
      "source": [
        "# Run this cell to show the source code of the script.\n",
        "\n",
        "!cat appy_s15_01_02.py"
      ]
    },
    {
      "cell_type": "code",
      "execution_count": null,
      "metadata": {
        "id": "bqNORek_Y7Nx"
      },
      "outputs": [],
      "source": [
        "# Run this cell to execute the script.\n",
        "\n",
        "!python3.13 appy_s15_01_02.py"
      ]
    },
    {
      "cell_type": "code",
      "source": [
        "# Run this cell to find newly created files.\n",
        "\n",
        "!ls -lF appy_s15_01_02_*.data"
      ],
      "metadata": {
        "id": "CDTp_fBPQk2y"
      },
      "execution_count": null,
      "outputs": []
    },
    {
      "cell_type": "markdown",
      "metadata": {
        "id": "T50CHJYzHpMe"
      },
      "source": [
        "## 3.4 Building a classifier by learning training dataset"
      ]
    },
    {
      "cell_type": "code",
      "execution_count": null,
      "metadata": {
        "id": "d4WrSRCIZIUH"
      },
      "outputs": [],
      "source": [
        "# Run this cell to show the source code of the script.\n",
        "\n",
        "!cat appy_s15_01_03.py"
      ]
    },
    {
      "cell_type": "code",
      "execution_count": null,
      "metadata": {
        "id": "BfNLqrN3ZIUM"
      },
      "outputs": [],
      "source": [
        "# Run this cell to execute the script.\n",
        "\n",
        "!python3.13 appy_s15_01_03.py"
      ]
    },
    {
      "cell_type": "code",
      "execution_count": null,
      "metadata": {
        "id": "1RCZzExFZIUN"
      },
      "outputs": [],
      "source": [
        "# Run this cell to display PNG image.\n",
        "\n",
        "# importing IPython.display module\n",
        "import IPython.display\n",
        "\n",
        "# displaying PNG file\n",
        "IPython.display.Image ('appy_s15_01_03.png')"
      ]
    },
    {
      "cell_type": "markdown",
      "metadata": {
        "id": "aB3T_oOgHu7b"
      },
      "source": [
        "## 3.5 Classification of testing data"
      ]
    },
    {
      "cell_type": "code",
      "execution_count": null,
      "metadata": {
        "id": "_6ssO2dAZP83"
      },
      "outputs": [],
      "source": [
        "# Run this cell to show the source code of the script.\n",
        "\n",
        "!cat appy_s15_01_04.py"
      ]
    },
    {
      "cell_type": "code",
      "execution_count": null,
      "metadata": {
        "id": "tu2uR8dXZP88"
      },
      "outputs": [],
      "source": [
        "# Run this cell to execute the script.\n",
        "\n",
        "!python3.13 appy_s15_01_04.py"
      ]
    },
    {
      "cell_type": "code",
      "execution_count": null,
      "metadata": {
        "id": "pRw2kl_uZP89"
      },
      "outputs": [],
      "source": [
        "# Run this cell to display PNG image.\n",
        "\n",
        "# importing IPython.display module\n",
        "import IPython.display\n",
        "\n",
        "# displaying PNG file\n",
        "IPython.display.Image ('appy_s15_01_04.png')"
      ]
    },
    {
      "cell_type": "markdown",
      "metadata": {
        "id": "mZUIvmrnZZvE"
      },
      "source": [
        "# 4. Classification using Gaussian process classifier"
      ]
    },
    {
      "cell_type": "markdown",
      "metadata": {
        "id": "R7pq62liH1F_"
      },
      "source": [
        "## 4.1 Generation of synthetic data"
      ]
    },
    {
      "cell_type": "code",
      "execution_count": null,
      "metadata": {
        "id": "ctHI9IfFZkWk"
      },
      "outputs": [],
      "source": [
        "# Run this cell to show the source code of the script.\n",
        "\n",
        "!cat appy_s15_02_00.py"
      ]
    },
    {
      "cell_type": "code",
      "execution_count": null,
      "metadata": {
        "id": "BKQHDqNFZkW3"
      },
      "outputs": [],
      "source": [
        "# Run this cell to execute the script.\n",
        "\n",
        "!python3.13 appy_s15_02_00.py"
      ]
    },
    {
      "cell_type": "code",
      "source": [
        "# Run this cell to show the first 20 lines of newly created file.\n",
        "\n",
        "!head -20 appy_s15_02_00.data"
      ],
      "metadata": {
        "id": "xHWOX-uVLza7"
      },
      "execution_count": null,
      "outputs": []
    },
    {
      "cell_type": "markdown",
      "metadata": {
        "id": "Q1kwEZGCH7WZ"
      },
      "source": [
        "## 4.2 Visualisation of synthetic data"
      ]
    },
    {
      "cell_type": "code",
      "execution_count": null,
      "metadata": {
        "id": "E3LOZ444ZkW3"
      },
      "outputs": [],
      "source": [
        "# Run this cell to show the source code of the script.\n",
        "\n",
        "!cat appy_s15_02_01.py"
      ]
    },
    {
      "cell_type": "code",
      "execution_count": null,
      "metadata": {
        "id": "a56DlgsMZkW4"
      },
      "outputs": [],
      "source": [
        "# Run this cell to execute the script.\n",
        "\n",
        "!python3.13 appy_s15_02_01.py"
      ]
    },
    {
      "cell_type": "code",
      "execution_count": null,
      "metadata": {
        "id": "_Io-UU_KZkW6"
      },
      "outputs": [],
      "source": [
        "# Run this cell to display PNG image.\n",
        "\n",
        "# importing IPython.display module\n",
        "import IPython.display\n",
        "\n",
        "# displaying PNG file\n",
        "IPython.display.Image ('appy_s15_02_01.png')"
      ]
    },
    {
      "cell_type": "markdown",
      "metadata": {
        "id": "SyDFQ7BsIBp8"
      },
      "source": [
        "## 4.3 Dividing dataset for training and testing"
      ]
    },
    {
      "cell_type": "code",
      "execution_count": null,
      "metadata": {
        "id": "lIW75vztZkW8"
      },
      "outputs": [],
      "source": [
        "# Run this cell to show the source code of the script.\n",
        "\n",
        "!cat appy_s15_02_02.py"
      ]
    },
    {
      "cell_type": "code",
      "execution_count": null,
      "metadata": {
        "id": "9JJKPVS6ZkW8"
      },
      "outputs": [],
      "source": [
        "# Run this cell to execute the script.\n",
        "\n",
        "!python3.13 appy_s15_02_02.py"
      ]
    },
    {
      "cell_type": "code",
      "source": [
        "# Run this cell to find newly created files.\n",
        "\n",
        "!ls -lF appy_s15_02_02_*.data"
      ],
      "metadata": {
        "id": "-ARBanBqQzWx"
      },
      "execution_count": null,
      "outputs": []
    },
    {
      "cell_type": "markdown",
      "metadata": {
        "id": "yBsxeH1ZIGBX"
      },
      "source": [
        "## 4.4 Building a classifier by learning training dataset"
      ]
    },
    {
      "cell_type": "code",
      "execution_count": null,
      "metadata": {
        "id": "3vB_UZsfZkW9"
      },
      "outputs": [],
      "source": [
        "# Run this cell to show the source code of the script.\n",
        "\n",
        "!cat appy_s15_02_03.py"
      ]
    },
    {
      "cell_type": "code",
      "execution_count": null,
      "metadata": {
        "id": "T-uUusu8ZkW-"
      },
      "outputs": [],
      "source": [
        "# Run this cell to execute the script.\n",
        "\n",
        "!python3.13 appy_s15_02_03.py"
      ]
    },
    {
      "cell_type": "code",
      "execution_count": null,
      "metadata": {
        "id": "jPqnrpqLZkW-"
      },
      "outputs": [],
      "source": [
        "# Run this cell to display PNG image.\n",
        "\n",
        "# importing IPython.display module\n",
        "import IPython.display\n",
        "\n",
        "# displaying PNG file\n",
        "IPython.display.Image ('appy_s15_02_03.png')"
      ]
    },
    {
      "cell_type": "markdown",
      "metadata": {
        "id": "IaZ5Cp_oILA2"
      },
      "source": [
        "## 4.5 Classification of testing data"
      ]
    },
    {
      "cell_type": "code",
      "execution_count": null,
      "metadata": {
        "id": "FOlIKEczZkW-"
      },
      "outputs": [],
      "source": [
        "# Run this cell to show the source code of the script.\n",
        "\n",
        "!cat appy_s15_02_04.py"
      ]
    },
    {
      "cell_type": "code",
      "execution_count": null,
      "metadata": {
        "id": "SfvegsF6ZkW_"
      },
      "outputs": [],
      "source": [
        "# Run this cell to execute the script.\n",
        "\n",
        "!python3.13 appy_s15_02_04.py"
      ]
    },
    {
      "cell_type": "code",
      "execution_count": null,
      "metadata": {
        "id": "RCCUVwZXZkW_"
      },
      "outputs": [],
      "source": [
        "# Run this cell to display PNG image.\n",
        "\n",
        "# importing IPython.display module\n",
        "import IPython.display\n",
        "\n",
        "# displaying PNG file\n",
        "IPython.display.Image ('appy_s15_02_04.png')"
      ]
    },
    {
      "cell_type": "markdown",
      "metadata": {
        "id": "0ActwkC5aJUc"
      },
      "source": [
        "# 5. Classification using neural network classifier"
      ]
    },
    {
      "cell_type": "markdown",
      "metadata": {
        "id": "W6KKcsqiIRdx"
      },
      "source": [
        "## 5.1 Generation of synthetic data"
      ]
    },
    {
      "cell_type": "code",
      "execution_count": null,
      "metadata": {
        "id": "4AFfwtw8aP23"
      },
      "outputs": [],
      "source": [
        "# Run this cell to show the source code of the script.\n",
        "\n",
        "!cat appy_s15_03_00.py"
      ]
    },
    {
      "cell_type": "code",
      "execution_count": null,
      "metadata": {
        "id": "WsikYKhqaP3A"
      },
      "outputs": [],
      "source": [
        "# Run this cell to execute the script.\n",
        "\n",
        "!python3.13 appy_s15_03_00.py"
      ]
    },
    {
      "cell_type": "code",
      "source": [
        "# Run this cell to show the first 20 lines of newly created file.\n",
        "\n",
        "!head -20 appy_s15_03_00.data"
      ],
      "metadata": {
        "id": "px2WD-tbMC_k"
      },
      "execution_count": null,
      "outputs": []
    },
    {
      "cell_type": "markdown",
      "metadata": {
        "id": "yJOM-ujgIWb3"
      },
      "source": [
        "## 5.2 Visualisation of synthetic data"
      ]
    },
    {
      "cell_type": "code",
      "execution_count": null,
      "metadata": {
        "id": "kmrcT3sWaP3B"
      },
      "outputs": [],
      "source": [
        "# Run this cell to show the source code of the script.\n",
        "\n",
        "!cat appy_s15_03_01.py"
      ]
    },
    {
      "cell_type": "code",
      "execution_count": null,
      "metadata": {
        "id": "x2CEGLymaP3C"
      },
      "outputs": [],
      "source": [
        "# Run this cell to execute the script.\n",
        "\n",
        "!python3.13 appy_s15_03_01.py"
      ]
    },
    {
      "cell_type": "code",
      "execution_count": null,
      "metadata": {
        "id": "EBhrBLLIaP3D"
      },
      "outputs": [],
      "source": [
        "# Run this cell to display PNG image.\n",
        "\n",
        "# importing IPython.display module\n",
        "import IPython.display\n",
        "\n",
        "# displaying PNG file\n",
        "IPython.display.Image ('appy_s15_03_01.png')"
      ]
    },
    {
      "cell_type": "markdown",
      "metadata": {
        "id": "NbX6bB8yIZuQ"
      },
      "source": [
        "## 5.3 Dividing dataset for training and testing"
      ]
    },
    {
      "cell_type": "code",
      "execution_count": null,
      "metadata": {
        "id": "NDUER1u5aP3E"
      },
      "outputs": [],
      "source": [
        "# Run this cell to show the source code of the script.\n",
        "\n",
        "!cat appy_s15_03_02.py"
      ]
    },
    {
      "cell_type": "code",
      "execution_count": null,
      "metadata": {
        "id": "5KqD2jLTaP3F"
      },
      "outputs": [],
      "source": [
        "# Run this cell to execute the script.\n",
        "\n",
        "!python3.13 appy_s15_03_02.py"
      ]
    },
    {
      "cell_type": "code",
      "source": [
        "# Run this cell to find newly created files.\n",
        "\n",
        "!ls -lF appy_s15_03_02_*.data"
      ],
      "metadata": {
        "id": "39cNNgKmQ6Tx"
      },
      "execution_count": null,
      "outputs": []
    },
    {
      "cell_type": "markdown",
      "metadata": {
        "id": "TCHrNYHsIdeW"
      },
      "source": [
        "## 5.4 Building a classifier by learning training dataset"
      ]
    },
    {
      "cell_type": "code",
      "execution_count": null,
      "metadata": {
        "id": "3OsweilmaP3G"
      },
      "outputs": [],
      "source": [
        "# Run this cell to show the source code of the script.\n",
        "\n",
        "!cat appy_s15_03_03.py"
      ]
    },
    {
      "cell_type": "code",
      "execution_count": null,
      "metadata": {
        "id": "t6guJLLnaP3H"
      },
      "outputs": [],
      "source": [
        "# Run this cell to execute the script.\n",
        "\n",
        "!python3.13 appy_s15_03_03.py"
      ]
    },
    {
      "cell_type": "code",
      "execution_count": null,
      "metadata": {
        "id": "wIkl3UvjaP3I"
      },
      "outputs": [],
      "source": [
        "# Run this cell to display PNG image.\n",
        "\n",
        "# importing IPython.display module\n",
        "import IPython.display\n",
        "\n",
        "# displaying PNG file\n",
        "IPython.display.Image ('appy_s15_03_03.png')"
      ]
    },
    {
      "cell_type": "markdown",
      "metadata": {
        "id": "uhJ5Q2uJIkXQ"
      },
      "source": [
        "## 5.5 Classification of testing data"
      ]
    },
    {
      "cell_type": "code",
      "execution_count": null,
      "metadata": {
        "id": "rCmbo8e1aP3K"
      },
      "outputs": [],
      "source": [
        "# Run this cell to show the source code of the script.\n",
        "\n",
        "!cat appy_s15_03_04.py"
      ]
    },
    {
      "cell_type": "code",
      "execution_count": null,
      "metadata": {
        "id": "X3F8ayjTaP3L"
      },
      "outputs": [],
      "source": [
        "# Run this cell to execute the script.\n",
        "\n",
        "!python3.13 appy_s15_03_04.py"
      ]
    },
    {
      "cell_type": "code",
      "execution_count": null,
      "metadata": {
        "id": "bTwrS0tOaP3L"
      },
      "outputs": [],
      "source": [
        "# Run this cell to display PNG image.\n",
        "\n",
        "# importing IPython.display module\n",
        "import IPython.display\n",
        "\n",
        "# displaying PNG file\n",
        "IPython.display.Image ('appy_s15_03_04.png')"
      ]
    },
    {
      "cell_type": "markdown",
      "metadata": {
        "id": "z2AmAPvYawU2"
      },
      "source": [
        "# 6. Classification into three groups"
      ]
    },
    {
      "cell_type": "markdown",
      "metadata": {
        "id": "UuTVw2X1IqBh"
      },
      "source": [
        "## 6.1 Generation of synthetic data"
      ]
    },
    {
      "cell_type": "code",
      "execution_count": null,
      "metadata": {
        "id": "IHvmYFWRa7He"
      },
      "outputs": [],
      "source": [
        "# Run this cell to show the source code of the script.\n",
        "\n",
        "!cat appy_s15_04_00.py"
      ]
    },
    {
      "cell_type": "code",
      "execution_count": null,
      "metadata": {
        "id": "eQe-41k8a7Hf"
      },
      "outputs": [],
      "source": [
        "# Run this cell to execute the script.\n",
        "\n",
        "!python3.13 appy_s15_04_00.py"
      ]
    },
    {
      "cell_type": "code",
      "source": [
        "# Run this cell to show the first 20 lines of newly created file.\n",
        "\n",
        "!head -20 appy_s15_04_00.data"
      ],
      "metadata": {
        "id": "8TPl3uD8MQJ9"
      },
      "execution_count": null,
      "outputs": []
    },
    {
      "cell_type": "markdown",
      "metadata": {
        "id": "Aq_m6LbbIyGT"
      },
      "source": [
        "## 6.2 Visualisation of synthetic data"
      ]
    },
    {
      "cell_type": "code",
      "execution_count": null,
      "metadata": {
        "id": "JzJiqD5ma7Hg"
      },
      "outputs": [],
      "source": [
        "# Run this cell to show the source code of the script.\n",
        "\n",
        "!cat appy_s15_04_01.py"
      ]
    },
    {
      "cell_type": "code",
      "execution_count": null,
      "metadata": {
        "id": "pjQESd8ma7Hh"
      },
      "outputs": [],
      "source": [
        "# Run this cell to execute the script.\n",
        "\n",
        "!python3.13 appy_s15_04_01.py"
      ]
    },
    {
      "cell_type": "code",
      "execution_count": null,
      "metadata": {
        "id": "Q2KDw52ba7Hh"
      },
      "outputs": [],
      "source": [
        "# Run this cell to display PNG image.\n",
        "\n",
        "# importing IPython.display module\n",
        "import IPython.display\n",
        "\n",
        "# displaying PNG file\n",
        "IPython.display.Image ('appy_s15_04_01.png')"
      ]
    },
    {
      "cell_type": "markdown",
      "metadata": {
        "id": "gy17VDVDI2eA"
      },
      "source": [
        "## 6.3 Dividing dataset for training and testing"
      ]
    },
    {
      "cell_type": "code",
      "execution_count": null,
      "metadata": {
        "id": "nUx-NgFga7Hj"
      },
      "outputs": [],
      "source": [
        "# Run this cell to show the source code of the script.\n",
        "\n",
        "!cat appy_s15_04_02.py"
      ]
    },
    {
      "cell_type": "code",
      "execution_count": null,
      "metadata": {
        "id": "FUphBJxaa7Hj"
      },
      "outputs": [],
      "source": [
        "# Run this cell to execute the script.\n",
        "\n",
        "!python3.13 appy_s15_04_02.py"
      ]
    },
    {
      "cell_type": "code",
      "source": [
        "# Run this cell to find newly created files.\n",
        "\n",
        "!ls -lF appy_s15_04_02_*.data"
      ],
      "metadata": {
        "id": "zPoV0gGnQ88b"
      },
      "execution_count": null,
      "outputs": []
    },
    {
      "cell_type": "markdown",
      "metadata": {
        "id": "FoizZGBlI65S"
      },
      "source": [
        "## 6.4 Building a classifier by learning training dataset"
      ]
    },
    {
      "cell_type": "code",
      "execution_count": null,
      "metadata": {
        "id": "-PWT8pO5a7Hk"
      },
      "outputs": [],
      "source": [
        "# Run this cell to show the source code of the script.\n",
        "\n",
        "!cat appy_s15_04_03.py"
      ]
    },
    {
      "cell_type": "code",
      "execution_count": null,
      "metadata": {
        "id": "6IO7yG5Qa7Hk"
      },
      "outputs": [],
      "source": [
        "# Run this cell to execute the script.\n",
        "\n",
        "!python3.13 appy_s15_04_03.py"
      ]
    },
    {
      "cell_type": "code",
      "execution_count": null,
      "metadata": {
        "id": "VIymwM4Da7Hl"
      },
      "outputs": [],
      "source": [
        "# Run this cell to display PNG image.\n",
        "\n",
        "# importing IPython.display module\n",
        "import IPython.display\n",
        "\n",
        "# displaying PNG file\n",
        "IPython.display.Image ('appy_s15_04_03.png')"
      ]
    },
    {
      "cell_type": "markdown",
      "metadata": {
        "id": "i3mYe5MTJBFR"
      },
      "source": [
        "## 6.5 Classification of testing data"
      ]
    },
    {
      "cell_type": "code",
      "execution_count": null,
      "metadata": {
        "id": "5PJ4RKSha7Hn"
      },
      "outputs": [],
      "source": [
        "# Run this cell to show the source code of the script.\n",
        "\n",
        "!cat appy_s15_04_04.py"
      ]
    },
    {
      "cell_type": "code",
      "execution_count": null,
      "metadata": {
        "id": "N_tO7oPEa7Ho"
      },
      "outputs": [],
      "source": [
        "# Run this cell to execute the script.\n",
        "\n",
        "!python3.13 appy_s15_04_04.py"
      ]
    },
    {
      "cell_type": "code",
      "execution_count": null,
      "metadata": {
        "id": "Qyisx2wNa7Ho"
      },
      "outputs": [],
      "source": [
        "# Run this cell to display PNG image.\n",
        "\n",
        "# importing IPython.display module\n",
        "import IPython.display\n",
        "\n",
        "# displaying PNG file\n",
        "IPython.display.Image ('appy_s15_04_04.png')"
      ]
    },
    {
      "cell_type": "markdown",
      "metadata": {
        "id": "KM2D3xWSbf7p"
      },
      "source": [
        "# 7. Classification using three features"
      ]
    },
    {
      "cell_type": "markdown",
      "metadata": {
        "id": "eqwcpKgvJGnz"
      },
      "source": [
        "## 7.1 Generation of synthetic data"
      ]
    },
    {
      "cell_type": "code",
      "execution_count": null,
      "metadata": {
        "id": "etBe0BYrbnBy"
      },
      "outputs": [],
      "source": [
        "# Run this cell to show the source code of the script.\n",
        "\n",
        "!cat appy_s15_05_00.py"
      ]
    },
    {
      "cell_type": "code",
      "execution_count": null,
      "metadata": {
        "id": "gvT3DPUTbnB1"
      },
      "outputs": [],
      "source": [
        "# Run this cell to execute the script.\n",
        "\n",
        "!python3.13 appy_s15_05_00.py"
      ]
    },
    {
      "cell_type": "code",
      "source": [
        "# Run this cell to show the first 20 lines of newly created file.\n",
        "\n",
        "!head -20 appy_s15_05_00.data"
      ],
      "metadata": {
        "id": "UmwZ5P8bMdA0"
      },
      "execution_count": null,
      "outputs": []
    },
    {
      "cell_type": "markdown",
      "metadata": {
        "id": "flcHwDtQJK6s"
      },
      "source": [
        "## 7.2 Visualisation of synthetic data"
      ]
    },
    {
      "cell_type": "code",
      "execution_count": null,
      "metadata": {
        "id": "BQDQUOYzbnB2"
      },
      "outputs": [],
      "source": [
        "# Run this cell to show the source code of the script.\n",
        "\n",
        "!cat appy_s15_05_01.py"
      ]
    },
    {
      "cell_type": "code",
      "execution_count": null,
      "metadata": {
        "id": "KC0Hd7dzbnB4"
      },
      "outputs": [],
      "source": [
        "# Run this cell to execute the script.\n",
        "\n",
        "!python3.13 appy_s15_05_01.py"
      ]
    },
    {
      "cell_type": "code",
      "execution_count": null,
      "metadata": {
        "id": "o9JnrB4rbnB4"
      },
      "outputs": [],
      "source": [
        "# Run this cell to display PNG image.\n",
        "\n",
        "# importing IPython.display module\n",
        "import IPython.display\n",
        "\n",
        "# displaying PNG file\n",
        "IPython.display.Image ('appy_s15_05_01.png')"
      ]
    },
    {
      "cell_type": "markdown",
      "metadata": {
        "id": "yuy--5l5JPFW"
      },
      "source": [
        "## 7.3 Dividing dataset for training and testing"
      ]
    },
    {
      "cell_type": "code",
      "execution_count": null,
      "metadata": {
        "id": "mcXH946KbnB6"
      },
      "outputs": [],
      "source": [
        "# Run this cell to show the source code of the script.\n",
        "\n",
        "!cat appy_s15_05_02.py"
      ]
    },
    {
      "cell_type": "code",
      "execution_count": null,
      "metadata": {
        "id": "wH0Mzo5IbnB8"
      },
      "outputs": [],
      "source": [
        "# Run this cell to execute the script.\n",
        "\n",
        "!python3.13 appy_s15_05_02.py"
      ]
    },
    {
      "cell_type": "code",
      "source": [
        "# Run this cell to find newly created files.\n",
        "\n",
        "!ls -lF appy_s15_05_02_*.data"
      ],
      "metadata": {
        "id": "2iDu7wtvQ_wz"
      },
      "execution_count": null,
      "outputs": []
    },
    {
      "cell_type": "markdown",
      "metadata": {
        "id": "JLf0zG6QJTLP"
      },
      "source": [
        "## 7.4 Building a classifier and carrying out classification"
      ]
    },
    {
      "cell_type": "code",
      "execution_count": null,
      "metadata": {
        "id": "U9frrj4LbnB9"
      },
      "outputs": [],
      "source": [
        "# Run this cell to show the source code of the script.\n",
        "\n",
        "!cat appy_s15_05_03.py"
      ]
    },
    {
      "cell_type": "code",
      "execution_count": null,
      "metadata": {
        "id": "-CRQN_FvbnB-"
      },
      "outputs": [],
      "source": [
        "# Run this cell to execute the script.\n",
        "\n",
        "!python3.13 appy_s15_05_03.py"
      ]
    },
    {
      "cell_type": "code",
      "execution_count": null,
      "metadata": {
        "id": "lYlaoHq-bnB_"
      },
      "outputs": [],
      "source": [
        "# Run this cell to display PNG image.\n",
        "\n",
        "# importing IPython.display module\n",
        "import IPython.display\n",
        "\n",
        "# displaying PNG file\n",
        "IPython.display.Image ('appy_s15_05_03.png')"
      ]
    },
    {
      "cell_type": "markdown",
      "metadata": {
        "id": "yaGixBnqJZiH"
      },
      "source": [
        "## 7.5 Examining results of classification of testing data"
      ]
    },
    {
      "cell_type": "code",
      "execution_count": null,
      "metadata": {
        "id": "A0VGnKTTbnCC"
      },
      "outputs": [],
      "source": [
        "# Run this cell to show the source code of the script.\n",
        "\n",
        "!cat appy_s15_05_04.py"
      ]
    },
    {
      "cell_type": "code",
      "execution_count": null,
      "metadata": {
        "id": "yevfO608bnCD"
      },
      "outputs": [],
      "source": [
        "# Run this cell to execute the script.\n",
        "\n",
        "!python3.13 appy_s15_05_04.py"
      ]
    },
    {
      "cell_type": "code",
      "source": [
        "# Run this cell to check the result of classification.\n",
        "\n",
        "!echo \"Wrong classification:\"\n",
        "!python3.13 appy_s15_05_04.py | grep BUT\n",
        "\n",
        "!echo \"Successful classification:\"\n",
        "!python3.13 appy_s15_05_04.py | grep and\n",
        "\n",
        "!echo \"number of wrong classifications\"\n",
        "!python3.13 appy_s15_05_04.py | grep BUT | wc\n",
        "!echo \"number of successful classifications\"\n",
        "!python3.13 appy_s15_05_04.py | grep and | wc"
      ],
      "metadata": {
        "id": "Tk91b810Mreh"
      },
      "execution_count": null,
      "outputs": []
    },
    {
      "cell_type": "markdown",
      "metadata": {
        "id": "t2DQXZwjJeR5"
      },
      "source": [
        "## 7.6 Generating synthetic dataset again"
      ]
    },
    {
      "cell_type": "code",
      "execution_count": null,
      "metadata": {
        "id": "eNqK7-t0cm3M"
      },
      "outputs": [],
      "source": [
        "# Run this cell to show the source code of the script.\n",
        "\n",
        "!cat appy_s15_05_05.py"
      ]
    },
    {
      "cell_type": "code",
      "execution_count": null,
      "metadata": {
        "id": "slUxspKvcm3Q"
      },
      "outputs": [],
      "source": [
        "# Run this cell to execute the script.\n",
        "\n",
        "!python3.13 appy_s15_05_05.py"
      ]
    },
    {
      "cell_type": "code",
      "source": [
        "# Run this cell to show the first 20 lines of newly created file.\n",
        "\n",
        "!head -20 appy_s15_05_05.data"
      ],
      "metadata": {
        "id": "LV3fbgNtNX-C"
      },
      "execution_count": null,
      "outputs": []
    },
    {
      "cell_type": "markdown",
      "metadata": {
        "id": "OyRm1inHJxoO"
      },
      "source": [
        "## 7.7 Visualisation of new synthetic data"
      ]
    },
    {
      "cell_type": "code",
      "execution_count": null,
      "metadata": {
        "id": "4IL1F5QrcwqO"
      },
      "outputs": [],
      "source": [
        "# Run this cell to show the source code of the script.\n",
        "\n",
        "!cat appy_s15_05_06.py"
      ]
    },
    {
      "cell_type": "code",
      "execution_count": null,
      "metadata": {
        "id": "99cs8LKFcwqR"
      },
      "outputs": [],
      "source": [
        "# Run this cell to execute the script.\n",
        "\n",
        "!python3.13 appy_s15_05_06.py"
      ]
    },
    {
      "cell_type": "code",
      "execution_count": null,
      "metadata": {
        "id": "sO3ni4jqcwqS"
      },
      "outputs": [],
      "source": [
        "# Run this cell to display PNG image.\n",
        "\n",
        "# importing IPython.display module\n",
        "import IPython.display\n",
        "\n",
        "# displaying PNG file\n",
        "IPython.display.Image ('appy_s15_05_06.png')"
      ]
    },
    {
      "cell_type": "markdown",
      "metadata": {
        "id": "8LoWB5z-J2Dy"
      },
      "source": [
        "## 7.8 Dividing new dataset for training and testing"
      ]
    },
    {
      "cell_type": "code",
      "execution_count": null,
      "metadata": {
        "id": "51ZPEO17c5OD"
      },
      "outputs": [],
      "source": [
        "# Run this cell to show the source code of the script.\n",
        "\n",
        "!cat appy_s15_05_07.py"
      ]
    },
    {
      "cell_type": "code",
      "execution_count": null,
      "metadata": {
        "id": "cHLDeWiec5OH"
      },
      "outputs": [],
      "source": [
        "# Run this cell to execute the script.\n",
        "\n",
        "!python3.13 appy_s15_05_07.py"
      ]
    },
    {
      "cell_type": "code",
      "source": [
        "# Run this cell to find newly created files.\n",
        "\n",
        "!ls -lF appy_s15_05_07_*.data"
      ],
      "metadata": {
        "id": "sA5wGv7BREJh"
      },
      "execution_count": null,
      "outputs": []
    },
    {
      "cell_type": "markdown",
      "metadata": {
        "id": "yCho5-DBJ6YS"
      },
      "source": [
        "## 7.9 Building a classifier and carrying out classification"
      ]
    },
    {
      "cell_type": "code",
      "execution_count": null,
      "metadata": {
        "id": "SmTR7vKndBDN"
      },
      "outputs": [],
      "source": [
        "# Run this cell to show the source code of the script.\n",
        "\n",
        "!cat appy_s15_05_08.py"
      ]
    },
    {
      "cell_type": "code",
      "execution_count": null,
      "metadata": {
        "id": "VSGOFkx-dBDP"
      },
      "outputs": [],
      "source": [
        "# Run this cell to execute the script.\n",
        "\n",
        "!python3.13 appy_s15_05_08.py"
      ]
    },
    {
      "cell_type": "code",
      "execution_count": null,
      "metadata": {
        "id": "0WeX5uuudJxu"
      },
      "outputs": [],
      "source": [
        "# Run this cell to display PNG image.\n",
        "\n",
        "# importing IPython.display module\n",
        "import IPython.display\n",
        "\n",
        "# displaying PNG file\n",
        "IPython.display.Image ('appy_s15_05_08.png')"
      ]
    },
    {
      "cell_type": "markdown",
      "metadata": {
        "id": "0h6c8OZqKAPt"
      },
      "source": [
        "## 7.10 Examining results of classification of testing data"
      ]
    },
    {
      "cell_type": "code",
      "execution_count": null,
      "metadata": {
        "id": "N2zVPyKldPtj"
      },
      "outputs": [],
      "source": [
        "# Run this cell to show the source code of the script.\n",
        "\n",
        "!cat appy_s15_05_09.py"
      ]
    },
    {
      "cell_type": "code",
      "execution_count": null,
      "metadata": {
        "id": "6_qYzBUYdPtp"
      },
      "outputs": [],
      "source": [
        "# Run this cell to execute the script.\n",
        "\n",
        "!python3.13 appy_s15_05_09.py"
      ]
    },
    {
      "cell_type": "code",
      "execution_count": null,
      "metadata": {
        "id": "sReyV9oCdWhF"
      },
      "outputs": [],
      "source": [
        "# Run this cell to execute the script.\n",
        "\n",
        "!python3.13 appy_s15_05_09.py | grep BUT\n",
        "!echo \"total number of data:\"\n",
        "!wc appy_s15_05_07_testing.data\n",
        "!echo \"number of wrong classifications:\"\n",
        "!python3.13 appy_s15_05_09.py | grep BUT | wc\n",
        "!echo \"number of successful classifications:\"\n",
        "!python3.13 appy_s15_05_09.py | grep and | wc"
      ]
    },
    {
      "cell_type": "markdown",
      "metadata": {
        "id": "3SW9nsXPdsYx"
      },
      "source": [
        "# 8. Colour indices and albedo of asteroids"
      ]
    },
    {
      "cell_type": "markdown",
      "metadata": {
        "id": "Hi6u6MU6KH1E"
      },
      "source": [
        "## 8.1 Downloading colour indices of asteroids"
      ]
    },
    {
      "cell_type": "code",
      "execution_count": null,
      "metadata": {
        "id": "b_DBFN7LdzID"
      },
      "outputs": [],
      "source": [
        "# Run this cell to show the source code of the script.\n",
        "\n",
        "!cat appy_s15_06_00.py"
      ]
    },
    {
      "cell_type": "code",
      "execution_count": null,
      "metadata": {
        "id": "jBP8OUxkdzIE"
      },
      "outputs": [],
      "source": [
        "# Run this cell to execute the script.\n",
        "\n",
        "!python3.13 appy_s15_06_00.py"
      ]
    },
    {
      "cell_type": "markdown",
      "metadata": {
        "id": "NW7Qw01pKNRq"
      },
      "source": [
        "## 8.2 Extracting files from a ZIP archive file"
      ]
    },
    {
      "cell_type": "code",
      "execution_count": null,
      "metadata": {
        "id": "pPSL13JNd55C"
      },
      "outputs": [],
      "source": [
        "# Run this cell to show the source code of the script.\n",
        "\n",
        "!cat appy_s15_06_01.py"
      ]
    },
    {
      "cell_type": "code",
      "execution_count": null,
      "metadata": {
        "id": "M-VOnq67d55I"
      },
      "outputs": [],
      "source": [
        "# Run this cell to execute the script.\n",
        "\n",
        "!python3.13 appy_s15_06_01.py -h"
      ]
    },
    {
      "cell_type": "code",
      "execution_count": null,
      "metadata": {
        "id": "yq1S2tnrd9Ni"
      },
      "outputs": [],
      "source": [
        "# Run this cell to execute the script.\n",
        "\n",
        "!python3.13 appy_s15_06_01.py colour_ubv.zip"
      ]
    },
    {
      "cell_type": "code",
      "execution_count": null,
      "metadata": {
        "id": "BBIsl-yBeDPU"
      },
      "outputs": [],
      "source": [
        "# Run this cell to show the source code of the script.\n",
        "\n",
        "!cat appy_s15_06_02.py"
      ]
    },
    {
      "cell_type": "code",
      "execution_count": null,
      "metadata": {
        "id": "0Hc69C9geDPV"
      },
      "outputs": [],
      "source": [
        "# Run this cell to execute the script.\n",
        "\n",
        "!python3.13 appy_s15_06_02.py -h"
      ]
    },
    {
      "cell_type": "code",
      "execution_count": null,
      "metadata": {
        "id": "PVchG8nBeDPV"
      },
      "outputs": [],
      "source": [
        "# Run this cell to execute the script.\n",
        "\n",
        "!python3.13 appy_s15_06_02.py colour_ubv.zip"
      ]
    },
    {
      "cell_type": "markdown",
      "metadata": {
        "id": "0yP6cVOBKZVh"
      },
      "source": [
        "## 8.3 Extracting colour indices from data file"
      ]
    },
    {
      "cell_type": "code",
      "execution_count": null,
      "metadata": {
        "id": "GQsNDoCCeM_u"
      },
      "outputs": [],
      "source": [
        "# Run this cell to show the source code of the script.\n",
        "\n",
        "!cat appy_s15_06_03.py"
      ]
    },
    {
      "cell_type": "code",
      "execution_count": null,
      "metadata": {
        "id": "X9GMkP8seM_3"
      },
      "outputs": [],
      "source": [
        "# Run this cell to execute the script.\n",
        "\n",
        "!python3.13 appy_s15_06_03.py"
      ]
    },
    {
      "cell_type": "markdown",
      "metadata": {
        "id": "n52hPuTxKcwV"
      },
      "source": [
        "## 8.4 Visualising colour indices distribution of asteroids"
      ]
    },
    {
      "cell_type": "code",
      "execution_count": null,
      "metadata": {
        "id": "I987nU6ceZoZ"
      },
      "outputs": [],
      "source": [
        "# Run this cell to show the source code of the script.\n",
        "\n",
        "!cat appy_s15_06_04.py"
      ]
    },
    {
      "cell_type": "code",
      "execution_count": null,
      "metadata": {
        "id": "xbvqUjTqeZok"
      },
      "outputs": [],
      "source": [
        "# Run this cell to execute the script.\n",
        "\n",
        "!python3.13 appy_s15_06_04.py"
      ]
    },
    {
      "cell_type": "code",
      "execution_count": null,
      "metadata": {
        "id": "P1_0e0Hresjd"
      },
      "outputs": [],
      "source": [
        "# Run this cell to display PNG image.\n",
        "\n",
        "# importing IPython.display module\n",
        "import IPython.display\n",
        "\n",
        "# displaying PNG file\n",
        "IPython.display.Image ('appy_s15_06_04.png')"
      ]
    },
    {
      "cell_type": "markdown",
      "metadata": {
        "id": "ucJ_Oyr9KiOq"
      },
      "source": [
        "## 8.5 Downloading asteroid taxonomic classification data"
      ]
    },
    {
      "cell_type": "code",
      "execution_count": null,
      "metadata": {
        "id": "tCHcsLZse16D"
      },
      "outputs": [],
      "source": [
        "# Run this cell to show the source code of the script.\n",
        "\n",
        "!cat appy_s15_06_05.py"
      ]
    },
    {
      "cell_type": "code",
      "execution_count": null,
      "metadata": {
        "id": "XGF7Ewebe16H"
      },
      "outputs": [],
      "source": [
        "# Run this cell to execute the script.\n",
        "\n",
        "!python3.13 appy_s15_06_05.py"
      ]
    },
    {
      "cell_type": "markdown",
      "metadata": {
        "id": "s0KHNfGtK4rv"
      },
      "source": [
        "## 8.6 Extracting a ZIP file"
      ]
    },
    {
      "cell_type": "code",
      "execution_count": null,
      "metadata": {
        "id": "5P8zYRWoe_Cd"
      },
      "outputs": [],
      "source": [
        "# Run this cell to execute the script.\n",
        "\n",
        "!python3.13 appy_s15_06_01.py taxonomy.zip"
      ]
    },
    {
      "cell_type": "code",
      "execution_count": null,
      "metadata": {
        "id": "sFazpgYifCds"
      },
      "outputs": [],
      "source": [
        "# Run this cell to execute the script.\n",
        "\n",
        "!python3.13 appy_s15_06_02.py taxonomy.zip"
      ]
    },
    {
      "cell_type": "markdown",
      "metadata": {
        "id": "zSxdVsAtK6jQ"
      },
      "source": [
        "## 8.7 Extracting asteroid sub-class from data file"
      ]
    },
    {
      "cell_type": "code",
      "execution_count": null,
      "metadata": {
        "id": "V2YkgCSkfMAH"
      },
      "outputs": [],
      "source": [
        "# Run this cell to show the source code of the script.\n",
        "\n",
        "!cat appy_s15_06_06.py"
      ]
    },
    {
      "cell_type": "code",
      "execution_count": null,
      "metadata": {
        "id": "7Vw_ubxOfMAO"
      },
      "outputs": [],
      "source": [
        "# Run this cell to execute the script.\n",
        "\n",
        "!python3.13 appy_s15_06_06.py"
      ]
    },
    {
      "cell_type": "markdown",
      "metadata": {
        "id": "R1lW1RnAK_Ob"
      },
      "source": [
        "## 8.8 Visualising colour indices for each sub-class"
      ]
    },
    {
      "cell_type": "code",
      "execution_count": null,
      "metadata": {
        "id": "oE_prXjgfXdT"
      },
      "outputs": [],
      "source": [
        "# Run this cell to show the source code of the script.\n",
        "\n",
        "!cat appy_s15_06_07.py"
      ]
    },
    {
      "cell_type": "code",
      "execution_count": null,
      "metadata": {
        "id": "LdC2tAiUfXdY"
      },
      "outputs": [],
      "source": [
        "# Run this cell to execute the script.\n",
        "\n",
        "!python3.13 appy_s15_06_07.py"
      ]
    },
    {
      "cell_type": "code",
      "execution_count": null,
      "metadata": {
        "id": "XSF8tGYzfXdZ"
      },
      "outputs": [],
      "source": [
        "# Run this cell to display PNG image.\n",
        "\n",
        "# importing IPython.display module\n",
        "import IPython.display\n",
        "\n",
        "# displaying PNG file\n",
        "IPython.display.Image ('appy_s15_06_07.png')"
      ]
    },
    {
      "cell_type": "markdown",
      "metadata": {
        "id": "gOdjvvROLHaa"
      },
      "source": [
        "## 8.9 Downloading asteroid albedo data"
      ]
    },
    {
      "cell_type": "code",
      "execution_count": null,
      "metadata": {
        "id": "IrjYiITehILn"
      },
      "outputs": [],
      "source": [
        "# Run this cell to show the source code of the script.\n",
        "\n",
        "!cat appy_s15_06_08.py"
      ]
    },
    {
      "cell_type": "code",
      "execution_count": null,
      "metadata": {
        "id": "nDj35sIPhILu"
      },
      "outputs": [],
      "source": [
        "# Run this cell to execute the script.\n",
        "\n",
        "!python3.13 appy_s15_06_08.py"
      ]
    },
    {
      "cell_type": "markdown",
      "metadata": {
        "id": "eRWQvNHgLOqb"
      },
      "source": [
        "## 8.10 Extracting a ZIP file"
      ]
    },
    {
      "cell_type": "code",
      "execution_count": null,
      "metadata": {
        "id": "TIbaSNQlhILv"
      },
      "outputs": [],
      "source": [
        "# Run this cell to execute the script.\n",
        "\n",
        "!python3.13 appy_s15_06_01.py albedo.zip"
      ]
    },
    {
      "cell_type": "code",
      "execution_count": null,
      "metadata": {
        "id": "fxE359wyhILv"
      },
      "outputs": [],
      "source": [
        "# Run this cell to execute the script.\n",
        "\n",
        "!python3.13 appy_s15_06_02.py albedo.zip"
      ]
    },
    {
      "cell_type": "markdown",
      "metadata": {
        "id": "SiTRjOcgLS2M"
      },
      "source": [
        "## 8.11 Extracting asteroid albedos from data file"
      ]
    },
    {
      "cell_type": "code",
      "execution_count": null,
      "metadata": {
        "id": "xNd6HjEOh8kw"
      },
      "outputs": [],
      "source": [
        "# Run this cell to show the source code of the script.\n",
        "\n",
        "!cat appy_s15_06_09.py"
      ]
    },
    {
      "cell_type": "code",
      "execution_count": null,
      "metadata": {
        "id": "FzP7P5zCh8k6"
      },
      "outputs": [],
      "source": [
        "# Run this cell to execute the script.\n",
        "\n",
        "!python3.13 appy_s15_06_09.py"
      ]
    },
    {
      "cell_type": "markdown",
      "metadata": {
        "id": "QEkeizafLYWj"
      },
      "source": [
        "## 8.12 Visualising colour indices and albedos for each sub-class"
      ]
    },
    {
      "cell_type": "code",
      "execution_count": null,
      "metadata": {
        "id": "ldunchaUiBbO"
      },
      "outputs": [],
      "source": [
        "# Run this cell to show the source code of the script.\n",
        "\n",
        "!cat appy_s15_06_10.py"
      ]
    },
    {
      "cell_type": "code",
      "execution_count": null,
      "metadata": {
        "id": "mcQ9C7PQiBbP"
      },
      "outputs": [],
      "source": [
        "# Run this cell to execute the script.\n",
        "\n",
        "!python3.13 appy_s15_06_10.py"
      ]
    },
    {
      "cell_type": "code",
      "execution_count": null,
      "metadata": {
        "id": "RYwQsXUfiOzL"
      },
      "outputs": [],
      "source": [
        "# Run this cell to display PNG image.\n",
        "\n",
        "# importing IPython.display module\n",
        "import IPython.display\n",
        "\n",
        "# displaying PNG file\n",
        "IPython.display.Image ('appy_s15_06_10.png')"
      ]
    },
    {
      "cell_type": "markdown",
      "metadata": {
        "id": "HmJSFxkCiS0z"
      },
      "source": [
        "# 9. Asteroid classification into sub-classes"
      ]
    },
    {
      "cell_type": "markdown",
      "metadata": {
        "id": "lvP40fdZLiQs"
      },
      "source": [
        "## 9.1 Downloading SDSS Moving Object Catalogue"
      ]
    },
    {
      "cell_type": "code",
      "execution_count": null,
      "metadata": {
        "id": "DZt1ylXGiXXW"
      },
      "outputs": [],
      "source": [
        "# Run this cell to show the source code of the script.\n",
        "\n",
        "!cat appy_s15_07_00.py"
      ]
    },
    {
      "cell_type": "code",
      "execution_count": null,
      "metadata": {
        "id": "zdKubUE_iXXY"
      },
      "outputs": [],
      "source": [
        "# Run this cell to execute the script.\n",
        "\n",
        "!python3.13 appy_s15_07_00.py"
      ]
    },
    {
      "cell_type": "markdown",
      "metadata": {
        "id": "JyU2oJJ5Lm-7"
      },
      "source": [
        "## 9.2 Extracting files from a ZIP file"
      ]
    },
    {
      "cell_type": "code",
      "execution_count": null,
      "metadata": {
        "id": "1B3stCNbidXQ"
      },
      "outputs": [],
      "source": [
        "# Run this cell to execute the script.\n",
        "\n",
        "!python3.13 appy_s15_06_01.py sdss_moc.zip"
      ]
    },
    {
      "cell_type": "code",
      "execution_count": null,
      "metadata": {
        "id": "hsCIU8VUihLx"
      },
      "outputs": [],
      "source": [
        "# Run this cell to execute the script.\n",
        "\n",
        "!python3.13 appy_s15_06_02.py sdss_moc.zip"
      ]
    },
    {
      "cell_type": "markdown",
      "metadata": {
        "id": "Kc5mRm2nLqh7"
      },
      "source": [
        "## 9.3 Finding colour indices of asteroids from data file"
      ]
    },
    {
      "cell_type": "code",
      "execution_count": null,
      "metadata": {
        "id": "vy5MOhN9ipkp"
      },
      "outputs": [],
      "source": [
        "# Run this cell to show the source code of the script.\n",
        "\n",
        "!cat appy_s15_07_01.py"
      ]
    },
    {
      "cell_type": "code",
      "execution_count": null,
      "metadata": {
        "id": "AzbsviyZipkv"
      },
      "outputs": [],
      "source": [
        "# Run this cell to execute the script.\n",
        "\n",
        "!python3.13 appy_s15_07_01.py"
      ]
    },
    {
      "cell_type": "markdown",
      "metadata": {
        "id": "7gY2pcpTLwHU"
      },
      "source": [
        "## 9.4 Visualising colour indices of asteroids"
      ]
    },
    {
      "cell_type": "code",
      "execution_count": null,
      "metadata": {
        "id": "iBJhF6sjizEh"
      },
      "outputs": [],
      "source": [
        "# Run this cell to show the source code of the script.\n",
        "\n",
        "!cat appy_s15_07_02.py"
      ]
    },
    {
      "cell_type": "code",
      "execution_count": null,
      "metadata": {
        "id": "uEROhZerizEw"
      },
      "outputs": [],
      "source": [
        "# Run this cell to execute the script.\n",
        "\n",
        "!python3.13 appy_s15_07_02.py"
      ]
    },
    {
      "cell_type": "code",
      "execution_count": null,
      "metadata": {
        "id": "iaVSTn3Zi12P"
      },
      "outputs": [],
      "source": [
        "# Run this cell to display PNG image.\n",
        "\n",
        "# importing IPython.display module\n",
        "import IPython.display\n",
        "\n",
        "# displaying PNG file\n",
        "IPython.display.Image ('appy_s15_07_02.png')"
      ]
    },
    {
      "cell_type": "markdown",
      "metadata": {
        "id": "18DXM8UtL5HM"
      },
      "source": [
        "## 9.5 Downloading NEOWISE Diameters and Albedos catalogue"
      ]
    },
    {
      "cell_type": "code",
      "execution_count": null,
      "metadata": {
        "id": "8sma_VOdjEPP"
      },
      "outputs": [],
      "source": [
        "# Run this cell to show the source code of the script.\n",
        "\n",
        "!cat appy_s15_07_03.py"
      ]
    },
    {
      "cell_type": "code",
      "execution_count": null,
      "metadata": {
        "id": "yPtorUO_jEPV"
      },
      "outputs": [],
      "source": [
        "# Run this cell to execute the script.\n",
        "\n",
        "!python3.13 appy_s15_07_03.py"
      ]
    },
    {
      "cell_type": "markdown",
      "metadata": {
        "id": "3HUMlU1hL9-s"
      },
      "source": [
        "## 9.6 Extracting files from a ZIP file"
      ]
    },
    {
      "cell_type": "code",
      "execution_count": null,
      "metadata": {
        "id": "58kSV0pljEPW"
      },
      "outputs": [],
      "source": [
        "# Run this cell to execute the script.\n",
        "\n",
        "!python3.13 appy_s15_06_01.py neowise_albedo.zip"
      ]
    },
    {
      "cell_type": "code",
      "execution_count": null,
      "metadata": {
        "id": "-LjBAh5JjEPW"
      },
      "outputs": [],
      "source": [
        "# Run this cell to execute the script.\n",
        "\n",
        "!python3.13 appy_s15_06_02.py neowise_albedo.zip"
      ]
    },
    {
      "cell_type": "markdown",
      "metadata": {
        "id": "Db4dEs28MB4F"
      },
      "source": [
        "## 9.7 Finding albedos of asteroids from data file"
      ]
    },
    {
      "cell_type": "code",
      "execution_count": null,
      "metadata": {
        "id": "YeLrvtX_jT0C"
      },
      "outputs": [],
      "source": [
        "# Run this cell to show the source code of the script.\n",
        "\n",
        "!cat appy_s15_07_04.py"
      ]
    },
    {
      "cell_type": "code",
      "execution_count": null,
      "metadata": {
        "id": "Hb_WB6w_jT0N"
      },
      "outputs": [],
      "source": [
        "# Run this cell to execute the script.\n",
        "\n",
        "!python3.13 appy_s15_07_04.py"
      ]
    },
    {
      "cell_type": "markdown",
      "metadata": {
        "id": "ozyVa65gMG9k"
      },
      "source": [
        "## 9.8 Finding asteroids with known colours, albedo, and taxonomy"
      ]
    },
    {
      "cell_type": "code",
      "execution_count": null,
      "metadata": {
        "id": "sLO9SB_djYiQ"
      },
      "outputs": [],
      "source": [
        "# Run this cell to show the source code of the script.\n",
        "\n",
        "!cat appy_s15_07_05.py"
      ]
    },
    {
      "cell_type": "code",
      "execution_count": null,
      "metadata": {
        "id": "vWoTxNpYjYiR"
      },
      "outputs": [],
      "source": [
        "# Run this cell to execute the script.\n",
        "\n",
        "!python3.13 appy_s15_07_05.py"
      ]
    },
    {
      "cell_type": "markdown",
      "metadata": {
        "id": "KSFmqJL1MNCJ"
      },
      "source": [
        "## 9.9 Visualising colour and albedo of selected asteroids"
      ]
    },
    {
      "cell_type": "code",
      "execution_count": null,
      "metadata": {
        "id": "_rJVcEJwjlh3"
      },
      "outputs": [],
      "source": [
        "# Run this cell to show the source code of the script.\n",
        "\n",
        "!cat appy_s15_07_06.py"
      ]
    },
    {
      "cell_type": "code",
      "execution_count": null,
      "metadata": {
        "id": "-lV71ZzqjliA"
      },
      "outputs": [],
      "source": [
        "# Run this cell to execute the script.\n",
        "\n",
        "!python3.13 appy_s15_07_06.py"
      ]
    },
    {
      "cell_type": "code",
      "execution_count": null,
      "metadata": {
        "id": "TbtHMU5Ajve2"
      },
      "outputs": [],
      "source": [
        "# Run this cell to display PNG image.\n",
        "\n",
        "# importing IPython.display module\n",
        "import IPython.display\n",
        "\n",
        "# displaying PNG file\n",
        "IPython.display.Image ('appy_s15_07_06.png')"
      ]
    },
    {
      "cell_type": "code",
      "execution_count": null,
      "metadata": {
        "id": "7D6ikYiQj0H4"
      },
      "outputs": [],
      "source": [
        "# Run this cell to show the source code of the script.\n",
        "\n",
        "!cat appy_s15_07_07.py"
      ]
    },
    {
      "cell_type": "code",
      "execution_count": null,
      "metadata": {
        "id": "sKsEZBNGj0IE"
      },
      "outputs": [],
      "source": [
        "# Run this cell to execute the script.\n",
        "\n",
        "!python3.13 appy_s15_07_07.py"
      ]
    },
    {
      "cell_type": "code",
      "execution_count": null,
      "metadata": {
        "id": "zk77KTiEj0IH"
      },
      "outputs": [],
      "source": [
        "# Run this cell to display PNG image.\n",
        "\n",
        "# importing IPython.display module\n",
        "import IPython.display\n",
        "\n",
        "# displaying PNG file\n",
        "IPython.display.Image ('appy_s15_07_07.png')"
      ]
    },
    {
      "cell_type": "markdown",
      "metadata": {
        "id": "eCzvuR7RMVxU"
      },
      "source": [
        "## 9.10 Preparation of training and testing datasets"
      ]
    },
    {
      "cell_type": "code",
      "execution_count": null,
      "metadata": {
        "id": "dW1y9WM8j-cr"
      },
      "outputs": [],
      "source": [
        "# Run this cell to show the source code of the script.\n",
        "\n",
        "!cat appy_s15_07_08.py"
      ]
    },
    {
      "cell_type": "code",
      "execution_count": null,
      "metadata": {
        "id": "clo3gRuqj-c8"
      },
      "outputs": [],
      "source": [
        "# Run this cell to execute the script.\n",
        "\n",
        "!python3.13 appy_s15_07_08.py"
      ]
    },
    {
      "cell_type": "markdown",
      "metadata": {
        "id": "1oArgTvQMbPj"
      },
      "source": [
        "## 9.11 Building a classifier and carrying out classification"
      ]
    },
    {
      "cell_type": "code",
      "execution_count": null,
      "metadata": {
        "id": "ZLKO7iLpkEzy"
      },
      "outputs": [],
      "source": [
        "# Run this cell to show the source code of the script.\n",
        "\n",
        "!cat appy_s15_07_09.py"
      ]
    },
    {
      "cell_type": "code",
      "execution_count": null,
      "metadata": {
        "id": "2PeLktvZkEz0"
      },
      "outputs": [],
      "source": [
        "# Run this cell to execute the script.\n",
        "\n",
        "!python3.13 appy_s15_07_09.py"
      ]
    },
    {
      "cell_type": "markdown",
      "metadata": {
        "id": "8wgjokVXMgU1"
      },
      "source": [
        "## 9.12 Visualising results of classification"
      ]
    },
    {
      "cell_type": "code",
      "execution_count": null,
      "metadata": {
        "id": "MOErqvH4kJHe"
      },
      "outputs": [],
      "source": [
        "# Run this cell to show the source code of the script.\n",
        "\n",
        "!cat appy_s15_07_10.py"
      ]
    },
    {
      "cell_type": "code",
      "execution_count": null,
      "metadata": {
        "id": "A2J-0IUkkJHf"
      },
      "outputs": [],
      "source": [
        "# Run this cell to execute the script.\n",
        "\n",
        "!python3.13 appy_s15_07_10.py"
      ]
    },
    {
      "cell_type": "code",
      "execution_count": null,
      "metadata": {
        "id": "5HmmYHnUkOpg"
      },
      "outputs": [],
      "source": [
        "# Run this cell to display PNG image.\n",
        "\n",
        "# importing IPython.display module\n",
        "import IPython.display\n",
        "\n",
        "# displaying PNG file\n",
        "IPython.display.Image ('appy_s15_07_10.png')"
      ]
    },
    {
      "cell_type": "markdown",
      "metadata": {
        "id": "nnXVxPkiMmDU"
      },
      "source": [
        "# 10. Finding clustering of data using unsupervised learning"
      ]
    },
    {
      "cell_type": "markdown",
      "metadata": {
        "id": "Og2lU7JmMqGt"
      },
      "source": [
        "## 10.1 Generating synthetic dataset for DBSCAN analysis"
      ]
    },
    {
      "cell_type": "code",
      "execution_count": null,
      "metadata": {
        "id": "UIU9rPXZMum8"
      },
      "outputs": [],
      "source": [
        "# Run this cell to show the source code of the script.\n",
        "\n",
        "!cat appy_s15_08_00.py"
      ]
    },
    {
      "cell_type": "code",
      "execution_count": null,
      "metadata": {
        "id": "EnhVxXPVMunP"
      },
      "outputs": [],
      "source": [
        "# Run this cell to execute the script.\n",
        "\n",
        "!python3.13 appy_s15_08_00.py"
      ]
    },
    {
      "cell_type": "markdown",
      "metadata": {
        "id": "kpGYTbdCM0A_"
      },
      "source": [
        "## 10.2 Visualising synthetic dataset"
      ]
    },
    {
      "cell_type": "code",
      "execution_count": null,
      "metadata": {
        "id": "Ldsr_wToM3Ab"
      },
      "outputs": [],
      "source": [
        "# Run this cell to show the source code of the script.\n",
        "\n",
        "!cat appy_s15_08_01.py"
      ]
    },
    {
      "cell_type": "code",
      "execution_count": null,
      "metadata": {
        "id": "XqRcP-x_M3Ae"
      },
      "outputs": [],
      "source": [
        "# Run this cell to execute the script.\n",
        "\n",
        "!python3.13 appy_s15_08_01.py"
      ]
    },
    {
      "cell_type": "code",
      "execution_count": null,
      "metadata": {
        "id": "ZYCwJK97M6jE"
      },
      "outputs": [],
      "source": [
        "# Run this cell to display PNG image.\n",
        "\n",
        "# importing IPython.display module\n",
        "import IPython.display\n",
        "\n",
        "# displaying PNG file\n",
        "IPython.display.Image ('appy_s15_08_01.png')"
      ]
    },
    {
      "cell_type": "markdown",
      "metadata": {
        "id": "CShi9UrjM_Qv"
      },
      "source": [
        "## 10.3 Carrying out DBSCAN analysis"
      ]
    },
    {
      "cell_type": "code",
      "execution_count": null,
      "metadata": {
        "id": "5JhsjFB9NFTU"
      },
      "outputs": [],
      "source": [
        "# Run this cell to show the source code of the script.\n",
        "\n",
        "!cat appy_s15_08_02.py"
      ]
    },
    {
      "cell_type": "code",
      "execution_count": null,
      "metadata": {
        "id": "5rIrB6tzNFTY"
      },
      "outputs": [],
      "source": [
        "# Run this cell to execute the script.\n",
        "\n",
        "!python3.13 appy_s15_08_02.py"
      ]
    },
    {
      "cell_type": "markdown",
      "metadata": {
        "id": "RrPzCKoONIFd"
      },
      "source": [
        "## 10.4 Visualising results of DBSCAN analysis"
      ]
    },
    {
      "cell_type": "code",
      "execution_count": null,
      "metadata": {
        "id": "2PVHyAbzNMT4"
      },
      "outputs": [],
      "source": [
        "# Run this cell to show the source code of the script.\n",
        "\n",
        "!cat appy_s15_08_03.py"
      ]
    },
    {
      "cell_type": "code",
      "execution_count": null,
      "metadata": {
        "id": "xHQIYo0pNMUA"
      },
      "outputs": [],
      "source": [
        "# Run this cell to execute the script.\n",
        "\n",
        "!python3.13 appy_s15_08_03.py"
      ]
    },
    {
      "cell_type": "code",
      "execution_count": null,
      "metadata": {
        "id": "Q9KQr2vHNPXh"
      },
      "outputs": [],
      "source": [
        "# Run this cell to display PNG image.\n",
        "\n",
        "# importing IPython.display module\n",
        "import IPython.display\n",
        "\n",
        "# displaying PNG file\n",
        "IPython.display.Image ('appy_s15_08_03.png')"
      ]
    },
    {
      "cell_type": "markdown",
      "metadata": {
        "id": "F9DDqfqONWYH"
      },
      "source": [
        "# 11. Finding star cluster members using DBSCAN"
      ]
    },
    {
      "cell_type": "markdown",
      "metadata": {
        "id": "GWV8vZekNZc-"
      },
      "source": [
        "## 11.1 Downloading data"
      ]
    },
    {
      "cell_type": "code",
      "execution_count": null,
      "metadata": {
        "id": "1_0THdpFNdtu"
      },
      "outputs": [],
      "source": [
        "# Run this cell to show the source code of the script.\n",
        "\n",
        "!cat appy_s15_09_00.py"
      ]
    },
    {
      "cell_type": "code",
      "execution_count": null,
      "metadata": {
        "id": "u6ZgAOQCNduB"
      },
      "outputs": [],
      "source": [
        "# Run this cell to execute the script.\n",
        "\n",
        "!python3.13 appy_s15_09_00.py -h"
      ]
    },
    {
      "cell_type": "code",
      "execution_count": null,
      "metadata": {
        "id": "7S7dyrndNhEB"
      },
      "outputs": [],
      "source": [
        "# Run this cell to execute the script.\n",
        "\n",
        "!python3.13 appy_s15_09_00.py -t M67 -r 60 -o m67.vot.gz"
      ]
    },
    {
      "cell_type": "markdown",
      "metadata": {
        "id": "_NXkR-anNs0n"
      },
      "source": [
        "## 11.2 Reading VOTable file"
      ]
    },
    {
      "cell_type": "code",
      "execution_count": null,
      "metadata": {
        "id": "7SfqKQURNxPk"
      },
      "outputs": [],
      "source": [
        "# Run this cell to show the source code of the script.\n",
        "\n",
        "!cat appy_s15_09_01.py"
      ]
    },
    {
      "cell_type": "code",
      "execution_count": null,
      "metadata": {
        "id": "Ob-RQMpRNxPq"
      },
      "outputs": [],
      "source": [
        "# Run this cell to execute the script.\n",
        "\n",
        "!python3.13 appy_s15_09_01.py -h"
      ]
    },
    {
      "cell_type": "code",
      "execution_count": null,
      "metadata": {
        "id": "7HsQ2SWTN0ce"
      },
      "outputs": [],
      "source": [
        "# Run this cell to execute the script.\n",
        "\n",
        "!python3.13 appy_s15_09_01.py -v -i m67.vot.gz -o m67.data"
      ]
    },
    {
      "cell_type": "markdown",
      "metadata": {
        "id": "QX4qf5lcN5Tf"
      },
      "source": [
        "## 11.3 Finding star cluster members using DBSCAN analysis"
      ]
    },
    {
      "cell_type": "code",
      "execution_count": null,
      "metadata": {
        "id": "cBd4FtQbN9f-"
      },
      "outputs": [],
      "source": [
        "# Run this cell to show the source code of the script.\n",
        "\n",
        "!cat appy_s15_09_02.py"
      ]
    },
    {
      "cell_type": "code",
      "execution_count": null,
      "metadata": {
        "id": "9zSqd507N9gM"
      },
      "outputs": [],
      "source": [
        "# Run this cell to execute the script.\n",
        "\n",
        "!python3.13 appy_s15_09_02.py -h"
      ]
    },
    {
      "cell_type": "code",
      "execution_count": null,
      "metadata": {
        "id": "M5uc5-_hOBbZ"
      },
      "outputs": [],
      "source": [
        "# Run this cell to execute the script.\n",
        "\n",
        "!python3.13 appy_s15_09_02.py -v -i m67.data -o m67_classified.data -e 1 -n 30"
      ]
    },
    {
      "cell_type": "markdown",
      "metadata": {
        "id": "BvxKljR2OHW2"
      },
      "source": [
        "## 11.4 Visualising results of DBSCAN analysis"
      ]
    },
    {
      "cell_type": "code",
      "execution_count": null,
      "metadata": {
        "id": "InvmhJDlONKj"
      },
      "outputs": [],
      "source": [
        "# Run this cell to show the source code of the script.\n",
        "\n",
        "!cat appy_s15_09_03.py"
      ]
    },
    {
      "cell_type": "code",
      "execution_count": null,
      "metadata": {
        "id": "AQINFM96ONKm"
      },
      "outputs": [],
      "source": [
        "# Run this cell to execute the script.\n",
        "\n",
        "!python3.13 appy_s15_09_03.py -h"
      ]
    },
    {
      "cell_type": "code",
      "execution_count": null,
      "metadata": {
        "id": "mDVm87izOPlJ"
      },
      "outputs": [],
      "source": [
        "# Run this cell to execute the script.\n",
        "\n",
        "!python3.13 appy_s15_09_03.py -i m67_classified.data -o m67_classified.png -t \"Open cluster M67\""
      ]
    },
    {
      "cell_type": "code",
      "execution_count": null,
      "metadata": {
        "id": "31DiwB1OOa61"
      },
      "outputs": [],
      "source": [
        "# Run this cell to display PNG image.\n",
        "\n",
        "# importing IPython.display module\n",
        "import IPython.display\n",
        "\n",
        "# displaying PNG file\n",
        "IPython.display.Image ('m67_classified.png')"
      ]
    },
    {
      "cell_type": "markdown",
      "source": [
        "# Type your name and student ID"
      ],
      "metadata": {
        "id": "5TaM62hjTjce"
      }
    },
    {
      "cell_type": "code",
      "source": [
        "# Run this cell to enter your name.\n",
        "\n",
        "# getting your name and student ID\n",
        "my_name = input (\"What is your name? \")\n",
        "my_id = input (\"What is your student ID? \")\n",
        "\n",
        "# printing your name and student ID\n",
        "print (f'')\n",
        "print (f'Name: {my_name}')\n",
        "print (f\"Student ID: {my_id}\")\n",
        "print (f'')\n",
        "\n",
        "# importing datetime module\n",
        "import datetime\n",
        "\n",
        "# getting current datetime\n",
        "now = datetime.datetime.now ()\n",
        "\n",
        "# printing curent date/time\n",
        "print (f'date/time = {now} (UT)')\n",
        "\n",
        "# importing random module\n",
        "import random\n",
        "\n",
        "# generating a random number\n",
        "n1 = random.randint (0, 1000000)\n",
        "n2 = random.randint (0, 1000000)\n",
        "print (f\"{n1} {n2}\")"
      ],
      "metadata": {
        "id": "V1Elc_ZXTiQg"
      },
      "execution_count": null,
      "outputs": []
    },
    {
      "cell_type": "markdown",
      "source": [
        "# Execute all the cells and print this page and hand it by 16:00 today."
      ],
      "metadata": {
        "id": "jszmz51WUmuh"
      }
    },
    {
      "cell_type": "markdown",
      "metadata": {
        "id": "saWRJ8q7kgFr"
      },
      "source": [
        "# End of this notebook"
      ]
    }
  ]
}