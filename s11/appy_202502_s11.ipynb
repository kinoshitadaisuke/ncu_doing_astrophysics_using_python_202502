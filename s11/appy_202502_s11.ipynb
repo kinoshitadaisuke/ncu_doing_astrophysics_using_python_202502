{
  "nbformat": 4,
  "nbformat_minor": 0,
  "metadata": {
    "colab": {
      "provenance": []
    },
    "kernelspec": {
      "name": "python3",
      "display_name": "Python 3"
    },
    "language_info": {
      "name": "python"
    }
  },
  "cells": [
    {
      "cell_type": "markdown",
      "source": [
        "# Doing Astrophysics using Python\n",
        "\n",
        "- \"Doing Astrophysics using Python\"\n",
        "  - Instructor: Kinoshita Daisuke\n",
        "  - Classroom: S4-203\n",
        "  - Time: from 13:00 to 15:50 on Tuesday\n",
        "  - Semester: 2nd semester of academic year 2024\n",
        "    - from February 2025 to June 2025\n",
        "  - Course web page: https://s3b.astro.ncu.edu.tw/appy_202502/\n",
        "  - GitHub repository: https://github.com/kinoshitadaisuke/ncu_doing_astrophysics_using_python_202502\n"
      ],
      "metadata": {
        "id": "gGzI83b9PmnI"
      }
    },
    {
      "cell_type": "markdown",
      "source": [
        "# Session 11: \"Estimating ages of star clusters\"\n",
        "\n",
        "## 14 May 2025\n",
        "\n",
        "## Instructor: Kinoshita Daisuke"
      ],
      "metadata": {
        "id": "Q7MvlbrC_tne"
      }
    },
    {
      "cell_type": "markdown",
      "source": [
        "# 0. Installation of Python interpreter"
      ],
      "metadata": {
        "id": "T_y7rto6Q5P8"
      }
    },
    {
      "cell_type": "code",
      "source": [
        "# Run this cell to install Python 3.13\n",
        "\n",
        "!apt update\n",
        "!apt upgrade\n",
        "!apt install python3.13 python3.13-dev python3.13-full libpython3.13-dev\n",
        "!update-alternatives --install /usr/bin/python3 python3 /usr/bin/python3.13 1\n",
        "!wget https://bootstrap.pypa.io/get-pip.py\n",
        "!python3.13 get-pip.py"
      ],
      "metadata": {
        "id": "MzmVLkC8QyGZ"
      },
      "execution_count": null,
      "outputs": []
    },
    {
      "cell_type": "code",
      "source": [
        "# Run this cell to check the version of Python interpreter and pip command\n",
        "\n",
        "!python3.13 --version\n",
        "!pip --version"
      ],
      "metadata": {
        "id": "Vx-JYTyp3NMU"
      },
      "execution_count": null,
      "outputs": []
    },
    {
      "cell_type": "code",
      "source": [
        "# Run this cell to install external Python packages.\n",
        "\n",
        "!pip install matplotlib matplotlib-inline numpy scipy astropy astroquery importlib_metadata"
      ],
      "metadata": {
        "id": "7V5dCLx5F9QU"
      },
      "execution_count": null,
      "outputs": []
    },
    {
      "cell_type": "markdown",
      "source": [
        "# 1. Downloading a set of sample Python scripts for this course"
      ],
      "metadata": {
        "id": "zvKZRFoF8A8k"
      }
    },
    {
      "cell_type": "code",
      "source": [
        "# Run this cell to download a set of sample Python scripts for this course.\n",
        "\n",
        "!git clone https://github.com/kinoshitadaisuke/ncu_doing_astrophysics_using_python_202502.git"
      ],
      "metadata": {
        "id": "itsUqwak4-z4"
      },
      "execution_count": null,
      "outputs": []
    },
    {
      "cell_type": "code",
      "source": [
        "# Run this cell to move to the directory for this session.\n",
        "\n",
        "%cd ncu_doing_astrophysics_using_python_202502/s11"
      ],
      "metadata": {
        "id": "bREyxIP08RZG"
      },
      "execution_count": null,
      "outputs": []
    },
    {
      "cell_type": "code",
      "source": [
        "# Run this cell to show a list of files for this session.\n",
        "\n",
        "!ls -lF"
      ],
      "metadata": {
        "id": "fKxQ_X-D8dRN"
      },
      "execution_count": null,
      "outputs": []
    },
    {
      "cell_type": "markdown",
      "source": [
        "# 2. Check of availability of required Python packages"
      ],
      "metadata": {
        "id": "xXMSeaV73rP_"
      }
    },
    {
      "cell_type": "markdown",
      "source": [
        "## 2.1 Availability check of astroquery package"
      ],
      "metadata": {
        "id": "4vw6iiE03x6U"
      }
    },
    {
      "cell_type": "code",
      "source": [
        "# Run this cell to show the source code of this script.\n",
        "\n",
        "!cat appy_s11_00_00.py"
      ],
      "metadata": {
        "id": "g9pEphpR3uom"
      },
      "execution_count": null,
      "outputs": []
    },
    {
      "cell_type": "code",
      "source": [
        "# Run this cell to execute the script.\n",
        "\n",
        "!python3.13 appy_s11_00_00.py"
      ],
      "metadata": {
        "id": "qpZLbPs63712"
      },
      "execution_count": null,
      "outputs": []
    },
    {
      "cell_type": "markdown",
      "source": [
        "## 2.2 More flexible Python script for availability check of packages"
      ],
      "metadata": {
        "id": "f2pFBf4_4CuE"
      }
    },
    {
      "cell_type": "code",
      "source": [
        "# Run this cell to show the source code of this script.\n",
        "\n",
        "!cat appy_s11_00_01.py"
      ],
      "metadata": {
        "id": "eQ_lm3Mt4HVb"
      },
      "execution_count": null,
      "outputs": []
    },
    {
      "cell_type": "code",
      "source": [
        "# Run this cell to execute the script.\n",
        "\n",
        "!python3.13 appy_s11_00_01.py -h"
      ],
      "metadata": {
        "id": "En_Ac1CX4HVc"
      },
      "execution_count": null,
      "outputs": []
    },
    {
      "cell_type": "code",
      "source": [
        "# Run this cell to execute the script.\n",
        "\n",
        "!python3.13 appy_s11_00_01.py astropy"
      ],
      "metadata": {
        "id": "f23KHhHl4Ljh"
      },
      "execution_count": null,
      "outputs": []
    },
    {
      "cell_type": "code",
      "source": [
        "# Run this cell to execute the script.\n",
        "\n",
        "!python3.13 appy_s11_00_01.py numpy scipy matplotlib"
      ],
      "metadata": {
        "id": "OUySwtrX4OUY"
      },
      "execution_count": null,
      "outputs": []
    },
    {
      "cell_type": "markdown",
      "source": [
        "# 3. Using a name resolver"
      ],
      "metadata": {
        "id": "t8m962-r4ROa"
      }
    },
    {
      "cell_type": "markdown",
      "source": [
        "## 3.1 Using Astroquery to get the coordinate"
      ],
      "metadata": {
        "id": "GqmjbS-l4T7N"
      }
    },
    {
      "cell_type": "markdown",
      "source": [
        "### --- IMPORTANT NOTE ---\n",
        "\n",
        "To execute the script \"appy_s11_01_00.py\", make sure to install the latest version of Astroquery.\n",
        "\n",
        "https://pypi.org/project/astroquery/"
      ],
      "metadata": {
        "id": "KTLZgcntBlR7"
      }
    },
    {
      "cell_type": "code",
      "source": [
        "# Run this cell to show the source code of this script.\n",
        "\n",
        "!cat appy_s11_01_00.py"
      ],
      "metadata": {
        "id": "ZawM7An-4YG_"
      },
      "execution_count": null,
      "outputs": []
    },
    {
      "cell_type": "code",
      "source": [
        "# Run this cell to execute the script.\n",
        "\n",
        "!python3.13 appy_s11_01_00.py"
      ],
      "metadata": {
        "id": "gDrE1jHU4YHE"
      },
      "execution_count": null,
      "outputs": []
    },
    {
      "cell_type": "markdown",
      "source": [
        "## 3.2 Making a flexible script for name resolving"
      ],
      "metadata": {
        "id": "3LBqEfeM4b9u"
      }
    },
    {
      "cell_type": "code",
      "source": [
        "# Run this cell to show the source code of this script.\n",
        "\n",
        "!cat appy_s11_01_01.py"
      ],
      "metadata": {
        "id": "Tevu-1Df4gIC"
      },
      "execution_count": null,
      "outputs": []
    },
    {
      "cell_type": "code",
      "source": [
        "# Run this cell to execute the script.\n",
        "\n",
        "!python3.13 appy_s11_01_01.py -h"
      ],
      "metadata": {
        "id": "5R7rSgeh4gIE"
      },
      "execution_count": null,
      "outputs": []
    },
    {
      "cell_type": "code",
      "source": [
        "# Run this cell to execute the script.\n",
        "\n",
        "!python3.13 appy_s11_01_01.py Betelgeuse"
      ],
      "metadata": {
        "id": "IPhfZR-74i7x"
      },
      "execution_count": null,
      "outputs": []
    },
    {
      "cell_type": "code",
      "source": [
        "# Run this cell to execute the script.\n",
        "\n",
        "!python3.13 appy_s11_01_01.py \"Crab Nebula\""
      ],
      "metadata": {
        "id": "7NBTxAO542JD"
      },
      "execution_count": null,
      "outputs": []
    },
    {
      "cell_type": "code",
      "source": [
        "# Run this cell to execute the script.\n",
        "\n",
        "!python3.13 appy_s11_01_01.py M1"
      ],
      "metadata": {
        "id": "6eHpTbtW447a"
      },
      "execution_count": null,
      "outputs": []
    },
    {
      "cell_type": "code",
      "source": [
        "# Run this cell to execute the script.\n",
        "\n",
        "!python3.13 appy_s11_01_01.py \"Sgr A*\""
      ],
      "metadata": {
        "id": "aQWCgtZk47u1"
      },
      "execution_count": null,
      "outputs": []
    },
    {
      "cell_type": "code",
      "source": [
        "# Run this cell to execute the script.\n",
        "\n",
        "!python3.13 appy_s11_01_01.py \"SN 1987A\""
      ],
      "metadata": {
        "id": "o39p11z95ANC"
      },
      "execution_count": null,
      "outputs": []
    },
    {
      "cell_type": "code",
      "source": [
        "# Run this cell to execute the script.\n",
        "\n",
        "!python3.13 appy_s11_01_01.py \"3C 273\""
      ],
      "metadata": {
        "id": "3h0kDIK25D6n"
      },
      "execution_count": null,
      "outputs": []
    },
    {
      "cell_type": "code",
      "source": [
        "# Run this cell to execute the script.\n",
        "\n",
        "!python3.13 appy_s11_01_01.py Vega Altair"
      ],
      "metadata": {
        "id": "GBXgwGLm5G3C"
      },
      "execution_count": null,
      "outputs": []
    },
    {
      "cell_type": "code",
      "source": [
        "# Run this cell to execute the script.\n",
        "\n",
        "!python3.13 appy_s11_01_01.py \"Andromeda Galaxy\" Praesepe Pleiades"
      ],
      "metadata": {
        "id": "_hIKPxqE5JEl"
      },
      "execution_count": null,
      "outputs": []
    },
    {
      "cell_type": "markdown",
      "source": [
        "# 4. Downloading DSS images"
      ],
      "metadata": {
        "id": "n8iWCGMy5OMv"
      }
    },
    {
      "cell_type": "markdown",
      "source": [
        "## 4.1 Downloading DSS images using Astroquery"
      ],
      "metadata": {
        "id": "dQmrqXXZ5QPO"
      }
    },
    {
      "cell_type": "code",
      "source": [
        "# Run this cell to show the source code of this script.\n",
        "\n",
        "!cat appy_s11_02_00.py"
      ],
      "metadata": {
        "id": "uyyV3Iy85WgM"
      },
      "execution_count": null,
      "outputs": []
    },
    {
      "cell_type": "code",
      "source": [
        "# Run this cell to execute the script.\n",
        "\n",
        "!python3.13 appy_s11_02_00.py"
      ],
      "metadata": {
        "id": "aBO0dPow5Wga"
      },
      "execution_count": null,
      "outputs": []
    },
    {
      "cell_type": "code",
      "source": [
        "# Run this cell to find newly downloaded file.\n",
        "\n",
        "!ls -lF *.fits"
      ],
      "metadata": {
        "id": "Y09JpcQt5-W7"
      },
      "execution_count": null,
      "outputs": []
    },
    {
      "cell_type": "code",
      "source": [
        "# Run this cell to show the source code of this script.\n",
        "\n",
        "!cat appy_s11_02_01.py"
      ],
      "metadata": {
        "id": "V2OAtoAS5b95"
      },
      "execution_count": null,
      "outputs": []
    },
    {
      "cell_type": "code",
      "source": [
        "# Run this cell to execute the script.\n",
        "\n",
        "!python3.13 appy_s11_02_01.py"
      ],
      "metadata": {
        "id": "YEBYHO4k5b99"
      },
      "execution_count": null,
      "outputs": []
    },
    {
      "cell_type": "code",
      "source": [
        "# Run this cell to display image file.\n",
        "\n",
        "# importing IPython module\n",
        "import IPython.display\n",
        "\n",
        "# displaying image file\n",
        "IPython.display.Image ('m1.png')"
      ],
      "metadata": {
        "id": "H2dbraxD4-ug"
      },
      "execution_count": null,
      "outputs": []
    },
    {
      "cell_type": "markdown",
      "source": [
        "## 4.2 Downloading DSS image of a given celestial object"
      ],
      "metadata": {
        "id": "8amRHQ5k5tmX"
      }
    },
    {
      "cell_type": "code",
      "source": [
        "# Run this cell to show the source code of this script.\n",
        "\n",
        "!cat appy_s11_02_02.py"
      ],
      "metadata": {
        "id": "pdptBC6_5zS-"
      },
      "execution_count": null,
      "outputs": []
    },
    {
      "cell_type": "code",
      "source": [
        "# Run this cell to execute the script.\n",
        "\n",
        "!python3.13 appy_s11_02_02.py -h"
      ],
      "metadata": {
        "id": "v2dxQnkt5zTA"
      },
      "execution_count": null,
      "outputs": []
    },
    {
      "cell_type": "code",
      "source": [
        "# Run this cell to execute the script.\n",
        "\n",
        "!python3.13 appy_s11_02_02.py -s \"DSS2 Red\" -t M2 -f 30 -o m2.fits"
      ],
      "metadata": {
        "id": "cmt2DH8c53g-"
      },
      "execution_count": null,
      "outputs": []
    },
    {
      "cell_type": "code",
      "source": [
        "# Run this cell to find newly downloaded file.\n",
        "\n",
        "!ls -lF *.fits"
      ],
      "metadata": {
        "id": "mJHEkWxV6El2"
      },
      "execution_count": null,
      "outputs": []
    },
    {
      "cell_type": "code",
      "source": [
        "# Run this cell to show the source code of this script.\n",
        "\n",
        "!cat appy_s11_02_03.py"
      ],
      "metadata": {
        "id": "KehnFPf76KIH"
      },
      "execution_count": null,
      "outputs": []
    },
    {
      "cell_type": "code",
      "source": [
        "# Run this cell to execute the script.\n",
        "\n",
        "!python3.13 appy_s11_02_03.py -h"
      ],
      "metadata": {
        "id": "bf2N-G1U6KIL"
      },
      "execution_count": null,
      "outputs": []
    },
    {
      "cell_type": "code",
      "source": [
        "# Run this cell to execute the script.\n",
        "\n",
        "!python3.13 appy_s11_02_03.py -i m2.fits -o m2.png -c cool -n \"Globular Cluster M2\""
      ],
      "metadata": {
        "id": "FA_BgnYU6KIM"
      },
      "execution_count": null,
      "outputs": []
    },
    {
      "cell_type": "code",
      "source": [
        "# Run this cell to display image file.\n",
        "\n",
        "# importing IPython module\n",
        "import IPython.display\n",
        "\n",
        "# displaying image file\n",
        "IPython.display.Image ('m2.png')"
      ],
      "metadata": {
        "id": "F-KYkgGx6WU_"
      },
      "execution_count": null,
      "outputs": []
    },
    {
      "cell_type": "markdown",
      "source": [
        "## 4.3 Making a PNG file without saving a FITS file"
      ],
      "metadata": {
        "id": "MTb4Ltt06ZKZ"
      }
    },
    {
      "cell_type": "code",
      "source": [
        "# Run this cell to show the source code of this script.\n",
        "\n",
        "!cat appy_s11_02_04.py"
      ],
      "metadata": {
        "id": "D9GbCXGf6gaD"
      },
      "execution_count": null,
      "outputs": []
    },
    {
      "cell_type": "code",
      "source": [
        "# Run this cell to execute the script.\n",
        "\n",
        "!python3.13 appy_s11_02_04.py -h"
      ],
      "metadata": {
        "id": "bxanM7en6gaE"
      },
      "execution_count": null,
      "outputs": []
    },
    {
      "cell_type": "code",
      "source": [
        "# Run this cell to execute the script.\n",
        "\n",
        "!python3.13 appy_s11_02_04.py -t M81 -o m81.png -s SDSSg -f 40 -c inferno -n \"Spiral Galaxy M81\""
      ],
      "metadata": {
        "id": "4kQl8km36gaF"
      },
      "execution_count": null,
      "outputs": []
    },
    {
      "cell_type": "code",
      "source": [
        "# Run this cell to display image file.\n",
        "\n",
        "# importing IPython module\n",
        "import IPython.display\n",
        "\n",
        "# displaying image file\n",
        "IPython.display.Image ('m81.png')"
      ],
      "metadata": {
        "id": "glAGo16W6gaG"
      },
      "execution_count": null,
      "outputs": []
    },
    {
      "cell_type": "code",
      "source": [
        "# Run this cell to execute the script.\n",
        "\n",
        "!python3.13 appy_s11_02_04.py -t \"Stephan's Quintet\" -o quintet.png -s SDSSr -c ocean -f 30 -n \"Stephan's Quintet\""
      ],
      "metadata": {
        "id": "NSmQMWaR625z"
      },
      "execution_count": null,
      "outputs": []
    },
    {
      "cell_type": "code",
      "source": [
        "# Run this cell to display image file.\n",
        "\n",
        "# importing IPython module\n",
        "import IPython.display\n",
        "\n",
        "# displaying image file\n",
        "IPython.display.Image ('quintet.png')"
      ],
      "metadata": {
        "id": "LH2US5Re6253"
      },
      "execution_count": null,
      "outputs": []
    },
    {
      "cell_type": "markdown",
      "source": [
        "# 5. Downloading Gaia DR3 Catalogue"
      ],
      "metadata": {
        "id": "ZDU6O3E07IYM"
      }
    },
    {
      "cell_type": "markdown",
      "source": [
        "## 5.1 Retrieving Gaia Catalogue"
      ],
      "metadata": {
        "id": "wJhxdPej7Lex"
      }
    },
    {
      "cell_type": "code",
      "source": [
        "# Run this cell to show the source code of this script.\n",
        "\n",
        "!cat appy_s11_03_00.py"
      ],
      "metadata": {
        "id": "aSVSEg387RyF"
      },
      "execution_count": null,
      "outputs": []
    },
    {
      "cell_type": "code",
      "source": [
        "# Run this cell to execute the script.\n",
        "\n",
        "!python3.13 appy_s11_03_00.py"
      ],
      "metadata": {
        "id": "PetjbDOO7RyT"
      },
      "execution_count": null,
      "outputs": []
    },
    {
      "cell_type": "code",
      "source": [
        "# Run this cell to find newly downloaded file.\n",
        "\n",
        "!ls -lF *.vot.gz"
      ],
      "metadata": {
        "id": "nqrgxXmX5rRK"
      },
      "execution_count": null,
      "outputs": []
    },
    {
      "cell_type": "code",
      "source": [
        "# Run this cell to find newly downloaded file.\n",
        "\n",
        "!file m3.vot.gz"
      ],
      "metadata": {
        "id": "jUHBuwYW7gyH"
      },
      "execution_count": null,
      "outputs": []
    },
    {
      "cell_type": "markdown",
      "source": [
        "## 5.2 Making a flexible script to download Gaia DR3 data"
      ],
      "metadata": {
        "id": "apF2QsTK7mzM"
      }
    },
    {
      "cell_type": "code",
      "source": [
        "# Run this cell to show the source code of this script.\n",
        "\n",
        "!cat appy_s11_03_01.py"
      ],
      "metadata": {
        "id": "VtbXFz6E7sb0"
      },
      "execution_count": null,
      "outputs": []
    },
    {
      "cell_type": "code",
      "source": [
        "# Run this cell to execute the script.\n",
        "\n",
        "!python3.13 appy_s11_03_01.py -h"
      ],
      "metadata": {
        "id": "6f0LVOGy7sb3"
      },
      "execution_count": null,
      "outputs": []
    },
    {
      "cell_type": "code",
      "source": [
        "# Run this cell to execute the script.\n",
        "\n",
        "!python3.13 appy_s11_03_01.py -t M4 -o m4.vot.gz -r 30"
      ],
      "metadata": {
        "id": "sVkTPnAM7w-8"
      },
      "execution_count": null,
      "outputs": []
    },
    {
      "cell_type": "code",
      "source": [
        "# Run this cell to find newly downloaded file.\n",
        "\n",
        "!ls -lF *.vot.gz"
      ],
      "metadata": {
        "id": "1IrupE0D8RHj"
      },
      "execution_count": null,
      "outputs": []
    },
    {
      "cell_type": "code",
      "source": [
        "# Run this cell to find newly downloaded file.\n",
        "\n",
        "!file m4.vot.gz"
      ],
      "metadata": {
        "id": "mvlU2Zzb8RH2"
      },
      "execution_count": null,
      "outputs": []
    },
    {
      "cell_type": "markdown",
      "source": [
        "# 6. Reading VOTable files"
      ],
      "metadata": {
        "id": "d0SO-G7y8U1o"
      }
    },
    {
      "cell_type": "markdown",
      "source": [
        "## 6.1 Reading a VOTable file"
      ],
      "metadata": {
        "id": "SPMQPwxX8XMS"
      }
    },
    {
      "cell_type": "code",
      "source": [
        "# Run this cell to show the source code of this script.\n",
        "\n",
        "!cat appy_s11_04_00.py"
      ],
      "metadata": {
        "id": "PdqU4UBA8bu8"
      },
      "execution_count": null,
      "outputs": []
    },
    {
      "cell_type": "code",
      "source": [
        "# Run this cell to execute the script.\n",
        "\n",
        "!python3.13 appy_s11_04_00.py"
      ],
      "metadata": {
        "id": "fMLOyVb58bvB"
      },
      "execution_count": null,
      "outputs": []
    },
    {
      "cell_type": "code",
      "source": [
        "# Run this cell to show the source code of this script.\n",
        "\n",
        "!cat appy_s11_04_01.py"
      ],
      "metadata": {
        "id": "FjOPm0Qs8mS5"
      },
      "execution_count": null,
      "outputs": []
    },
    {
      "cell_type": "code",
      "source": [
        "# Run this cell to execute the script.\n",
        "\n",
        "!python3.13 appy_s11_04_01.py"
      ],
      "metadata": {
        "id": "S6ZRkAzi8mS8"
      },
      "execution_count": null,
      "outputs": []
    },
    {
      "cell_type": "code",
      "source": [
        "# Run this cell to show the source code of this script.\n",
        "\n",
        "!cat appy_s11_04_02.py"
      ],
      "metadata": {
        "id": "yQ-KQYcA8qZL"
      },
      "execution_count": null,
      "outputs": []
    },
    {
      "cell_type": "code",
      "source": [
        "# Run this cell to execute the script.\n",
        "\n",
        "!python3.13 appy_s11_04_02.py"
      ],
      "metadata": {
        "id": "LHnAh9kv8qZU"
      },
      "execution_count": null,
      "outputs": []
    },
    {
      "cell_type": "code",
      "source": [
        "# Run this cell to show the source code of this script.\n",
        "\n",
        "!cat appy_s11_04_03.py"
      ],
      "metadata": {
        "id": "g1_SexFu8urq"
      },
      "execution_count": null,
      "outputs": []
    },
    {
      "cell_type": "code",
      "source": [
        "# Run this cell to execute the script.\n",
        "\n",
        "!python3.13 appy_s11_04_03.py"
      ],
      "metadata": {
        "id": "9AV8bsJp8uru"
      },
      "execution_count": null,
      "outputs": []
    },
    {
      "cell_type": "code",
      "source": [
        "# Run this cell to find newly created file.\n",
        "\n",
        "!ls -lF m3.*"
      ],
      "metadata": {
        "id": "nOCapWSh8xl_"
      },
      "execution_count": null,
      "outputs": []
    },
    {
      "cell_type": "code",
      "source": [
        "# Run this cell to show the file \"m3.list\".\n",
        "\n",
        "!head -20 m3.list"
      ],
      "metadata": {
        "id": "hQrX9M9n7k37"
      },
      "execution_count": null,
      "outputs": []
    },
    {
      "cell_type": "markdown",
      "source": [
        "## 6.2 Reading a VOTable file specified by a command-line argument"
      ],
      "metadata": {
        "id": "VNo942D09DFz"
      }
    },
    {
      "cell_type": "code",
      "source": [
        "# Run this cell to show the source code of this script.\n",
        "\n",
        "!cat appy_s11_04_04.py"
      ],
      "metadata": {
        "id": "HBu0Vrll9M5v"
      },
      "execution_count": null,
      "outputs": []
    },
    {
      "cell_type": "code",
      "source": [
        "# Run this cell to execute the script.\n",
        "\n",
        "!python3.13 appy_s11_04_04.py -h"
      ],
      "metadata": {
        "id": "yq9w5Exh9M59"
      },
      "execution_count": null,
      "outputs": []
    },
    {
      "cell_type": "code",
      "source": [
        "# Run this cell to execute the script.\n",
        "\n",
        "!python3.13 appy_s11_04_04.py -v -i m4.vot.gz -o m4.list"
      ],
      "metadata": {
        "id": "vWxSTA2w9P80"
      },
      "execution_count": null,
      "outputs": []
    },
    {
      "cell_type": "code",
      "source": [
        "# Run this cell to find newly created file.\n",
        "\n",
        "!ls -lF *.list"
      ],
      "metadata": {
        "id": "6PUo6jGq9VhT"
      },
      "execution_count": null,
      "outputs": []
    },
    {
      "cell_type": "code",
      "source": [
        "# Run this cell to show the file \"m3.list\".\n",
        "\n",
        "!head -20 m4.list"
      ],
      "metadata": {
        "id": "7Fj-menz9VhV"
      },
      "execution_count": null,
      "outputs": []
    },
    {
      "cell_type": "markdown",
      "source": [
        "# 7. HR diagram of open cluster NGC 2547"
      ],
      "metadata": {
        "id": "c6jUgnIa9iC0"
      }
    },
    {
      "cell_type": "markdown",
      "source": [
        "## 7.1 Downloading DSS image of NGC 2547"
      ],
      "metadata": {
        "id": "P-sE5raK9kgl"
      }
    },
    {
      "cell_type": "code",
      "source": [
        "# Run this cell to execute the script.\n",
        "\n",
        "!python3.13 appy_s11_02_04.py -t \"NGC 2547\" -f 60 -o ngc2547.png -n \"NGC 2547\" -s \"DSS2 Red\" -c inferno"
      ],
      "metadata": {
        "id": "OxfEApBl9F9l"
      },
      "execution_count": null,
      "outputs": []
    },
    {
      "cell_type": "code",
      "source": [
        "# Run this cell to display image file.\n",
        "\n",
        "# importing IPython module\n",
        "import IPython.display\n",
        "\n",
        "# displaying image file\n",
        "IPython.display.Image ('ngc2547.png')"
      ],
      "metadata": {
        "id": "rZb9q_SU9_E4"
      },
      "execution_count": null,
      "outputs": []
    },
    {
      "cell_type": "markdown",
      "source": [
        "## 7.2 Downloading Gaia DR3 catalogue"
      ],
      "metadata": {
        "id": "s2tFA6PC-D7E"
      }
    },
    {
      "cell_type": "code",
      "source": [
        "# Run this cell to execute the script.\n",
        "\n",
        "!python3.13 appy_s11_03_01.py -t \"NGC 2547\" -o ngc2547.vot.gz -r 45"
      ],
      "metadata": {
        "id": "1Psnk0u593wa"
      },
      "execution_count": null,
      "outputs": []
    },
    {
      "cell_type": "markdown",
      "source": [
        "## 7.3 Visualising positions of stars"
      ],
      "metadata": {
        "id": "TSFQD_V1-fyM"
      }
    },
    {
      "cell_type": "code",
      "source": [
        "# Run this cell to show the source code of this script.\n",
        "\n",
        "!cat appy_s11_05_00.py"
      ],
      "metadata": {
        "id": "kOkYkSpK-k2g"
      },
      "execution_count": null,
      "outputs": []
    },
    {
      "cell_type": "code",
      "source": [
        "# Run this cell to execute the script.\n",
        "\n",
        "!python3.13 appy_s11_05_00.py -h"
      ],
      "metadata": {
        "id": "kP6l9n0H-k2r"
      },
      "execution_count": null,
      "outputs": []
    },
    {
      "cell_type": "code",
      "source": [
        "# Run this cell to execute the script.\n",
        "\n",
        "!python3.13 appy_s11_05_00.py -i ngc2547.vot.gz -o ngc2547_stars.png -t \"NGC 2547\""
      ],
      "metadata": {
        "id": "DjL_v_Zi-wMi"
      },
      "execution_count": null,
      "outputs": []
    },
    {
      "cell_type": "code",
      "source": [
        "# Run this cell to display image file.\n",
        "\n",
        "# importing IPython module\n",
        "import IPython.display\n",
        "\n",
        "# displaying image file\n",
        "IPython.display.Image ('ngc2547_stars.png')"
      ],
      "metadata": {
        "id": "gCqLlmYT-5fI"
      },
      "execution_count": null,
      "outputs": []
    },
    {
      "cell_type": "markdown",
      "source": [
        "## 7.4 Errors of Gaia measurements"
      ],
      "metadata": {
        "id": "0gm5ZaQe-95l"
      }
    },
    {
      "cell_type": "code",
      "source": [
        "# Run this cell to show the source code of this script.\n",
        "\n",
        "!cat appy_s11_05_01.py"
      ],
      "metadata": {
        "id": "2hnU1i5M_IVk"
      },
      "execution_count": null,
      "outputs": []
    },
    {
      "cell_type": "code",
      "source": [
        "# Run this cell to execute the script.\n",
        "\n",
        "!python3.13 appy_s11_05_01.py -i ngc2547.vot.gz -o ngc2547_err_ra.png -t \"Errors of RA measurements\""
      ],
      "metadata": {
        "id": "-DCPl1sa_IVl"
      },
      "execution_count": null,
      "outputs": []
    },
    {
      "cell_type": "code",
      "source": [
        "# Run this cell to display image file.\n",
        "\n",
        "# importing IPython module\n",
        "import IPython.display\n",
        "\n",
        "# displaying image file\n",
        "IPython.display.Image ('ngc2547_err_ra.png')"
      ],
      "metadata": {
        "id": "hNtginT7_Xi0"
      },
      "execution_count": null,
      "outputs": []
    },
    {
      "cell_type": "code",
      "source": [
        "# Run this cell to show the source code of this script.\n",
        "\n",
        "!cat appy_s11_05_02.py"
      ],
      "metadata": {
        "id": "c91nuKsp_vN1"
      },
      "execution_count": null,
      "outputs": []
    },
    {
      "cell_type": "code",
      "source": [
        "# Run this cell to execute the script.\n",
        "\n",
        "!python3.13 appy_s11_05_02.py -i ngc2547.vot.gz -o ngc2547_err_dec.png -t \"Errors of Dec measurements\""
      ],
      "metadata": {
        "id": "Y8UK4zmH_vN9"
      },
      "execution_count": null,
      "outputs": []
    },
    {
      "cell_type": "code",
      "source": [
        "# Run this cell to display image file.\n",
        "\n",
        "# importing IPython module\n",
        "import IPython.display\n",
        "\n",
        "# displaying image file\n",
        "IPython.display.Image ('ngc2547_err_dec.png')"
      ],
      "metadata": {
        "id": "BOXVB_5W_vN_"
      },
      "execution_count": null,
      "outputs": []
    },
    {
      "cell_type": "code",
      "source": [
        "# Run this cell to show the source code of this script.\n",
        "\n",
        "!cat appy_s11_05_03.py"
      ],
      "metadata": {
        "id": "7yJhqfRJ_82S"
      },
      "execution_count": null,
      "outputs": []
    },
    {
      "cell_type": "code",
      "source": [
        "# Run this cell to execute the script.\n",
        "\n",
        "!python3.13 appy_s11_05_03.py -i ngc2547.vot.gz -o ngc2547_err_pm_ra.png -t \"Proper motion relative error in RA\""
      ],
      "metadata": {
        "id": "KKwlZ72j_82i"
      },
      "execution_count": null,
      "outputs": []
    },
    {
      "cell_type": "code",
      "source": [
        "# Run this cell to display image file.\n",
        "\n",
        "# importing IPython module\n",
        "import IPython.display\n",
        "\n",
        "# displaying image file\n",
        "IPython.display.Image ('ngc2547_err_pm_ra.png')"
      ],
      "metadata": {
        "id": "CIziwAry_82l"
      },
      "execution_count": null,
      "outputs": []
    },
    {
      "cell_type": "code",
      "source": [
        "# Run this cell to show the source code of this script.\n",
        "\n",
        "!cat appy_s11_05_04.py"
      ],
      "metadata": {
        "id": "mkE19iFLAH6p"
      },
      "execution_count": null,
      "outputs": []
    },
    {
      "cell_type": "code",
      "source": [
        "# Run this cell to execute the script.\n",
        "\n",
        "!python3.13 appy_s11_05_04.py -i ngc2547.vot.gz -o ngc2547_err_pm_dec.png -t \"Proper motion relative error in Dec\""
      ],
      "metadata": {
        "id": "lW-Ii2KzAH6t"
      },
      "execution_count": null,
      "outputs": []
    },
    {
      "cell_type": "code",
      "source": [
        "# Run this cell to display image file.\n",
        "\n",
        "# importing IPython module\n",
        "import IPython.display\n",
        "\n",
        "# displaying image file\n",
        "IPython.display.Image ('ngc2547_err_pm_dec.png')"
      ],
      "metadata": {
        "id": "RkixIaipAH6u"
      },
      "execution_count": null,
      "outputs": []
    },
    {
      "cell_type": "code",
      "source": [
        "# Run this cell to show the source code of this script.\n",
        "\n",
        "!cat appy_s11_05_05.py"
      ],
      "metadata": {
        "id": "j1SE5ySMATeL"
      },
      "execution_count": null,
      "outputs": []
    },
    {
      "cell_type": "code",
      "source": [
        "# Run this cell to execute the script.\n",
        "\n",
        "!python3.13 appy_s11_05_05.py -i ngc2547.vot.gz -o ngc2547_err_parallax.png -t \"SNR of parallax measurements\""
      ],
      "metadata": {
        "id": "Nd_qgWhsATeS"
      },
      "execution_count": null,
      "outputs": []
    },
    {
      "cell_type": "code",
      "source": [
        "# Run this cell to display image file.\n",
        "\n",
        "# importing IPython module\n",
        "import IPython.display\n",
        "\n",
        "# displaying image file\n",
        "IPython.display.Image ('ngc2547_err_parallax.png')"
      ],
      "metadata": {
        "id": "aZ20aygpATeU"
      },
      "execution_count": null,
      "outputs": []
    },
    {
      "cell_type": "code",
      "source": [
        "# Run this cell to show the source code of this script.\n",
        "\n",
        "!cat appy_s11_05_06.py"
      ],
      "metadata": {
        "id": "W9yExV0hAmt-"
      },
      "execution_count": null,
      "outputs": []
    },
    {
      "cell_type": "code",
      "source": [
        "# Run this cell to execute the script.\n",
        "\n",
        "!python3.13 appy_s11_05_06.py -i ngc2547.vot.gz -o ngc2547_err_g.png -t \"SNR of g-band measurements\""
      ],
      "metadata": {
        "id": "m5qVUor1AmuB"
      },
      "execution_count": null,
      "outputs": []
    },
    {
      "cell_type": "code",
      "source": [
        "# Run this cell to display image file.\n",
        "\n",
        "# importing IPython module\n",
        "import IPython.display\n",
        "\n",
        "# displaying image file\n",
        "IPython.display.Image ('ngc2547_err_g.png')"
      ],
      "metadata": {
        "id": "BydlLgWjAmuE"
      },
      "execution_count": null,
      "outputs": []
    },
    {
      "cell_type": "code",
      "source": [
        "# Run this cell to show the source code of this script.\n",
        "\n",
        "!cat appy_s11_05_07.py"
      ],
      "metadata": {
        "id": "UyJJYPclAzn_"
      },
      "execution_count": null,
      "outputs": []
    },
    {
      "cell_type": "code",
      "source": [
        "# Run this cell to execute the script.\n",
        "\n",
        "!python3.13 appy_s11_05_07.py -i ngc2547.vot.gz -o ngc2547_err_b.png -t \"SNR of b-band measurements\""
      ],
      "metadata": {
        "id": "gRL6u6hWAzoC"
      },
      "execution_count": null,
      "outputs": []
    },
    {
      "cell_type": "code",
      "source": [
        "# Run this cell to display image file.\n",
        "\n",
        "# importing IPython module\n",
        "import IPython.display\n",
        "\n",
        "# displaying image file\n",
        "IPython.display.Image ('ngc2547_err_b.png')"
      ],
      "metadata": {
        "id": "ARddZG9nAzoD"
      },
      "execution_count": null,
      "outputs": []
    },
    {
      "cell_type": "code",
      "source": [
        "# Run this cell to show the source code of this script.\n",
        "\n",
        "!cat appy_s11_05_08.py"
      ],
      "metadata": {
        "id": "QlF9c3OxA7vm"
      },
      "execution_count": null,
      "outputs": []
    },
    {
      "cell_type": "code",
      "source": [
        "# Run this cell to execute the script.\n",
        "\n",
        "!python3.13 appy_s11_05_08.py -i ngc2547.vot.gz -o ngc2547_err_r.png -t \"SNR of r-band measurements\""
      ],
      "metadata": {
        "id": "CjDH_-GzA7vo"
      },
      "execution_count": null,
      "outputs": []
    },
    {
      "cell_type": "code",
      "source": [
        "# Run this cell to display image file.\n",
        "\n",
        "# importing IPython module\n",
        "import IPython.display\n",
        "\n",
        "# displaying image file\n",
        "IPython.display.Image ('ngc2547_err_r.png')"
      ],
      "metadata": {
        "id": "T0PJrLkdA7vo"
      },
      "execution_count": null,
      "outputs": []
    },
    {
      "cell_type": "markdown",
      "source": [
        "## 7.5 Distribution of distances of stars"
      ],
      "metadata": {
        "id": "XCK-6W86BD2T"
      }
    },
    {
      "cell_type": "code",
      "source": [
        "# Run this cell to show the source code of this script.\n",
        "\n",
        "!cat appy_s11_05_09.py"
      ],
      "metadata": {
        "id": "jAGD0aJBBKl0"
      },
      "execution_count": null,
      "outputs": []
    },
    {
      "cell_type": "code",
      "source": [
        "# Run this cell to execute the script.\n",
        "\n",
        "!python3.13 appy_s11_05_09.py -h"
      ],
      "metadata": {
        "id": "4YOz4Ad3BKmE"
      },
      "execution_count": null,
      "outputs": []
    },
    {
      "cell_type": "code",
      "source": [
        "# Run this cell to execute the script.\n",
        "\n",
        "!python3.13 appy_s11_05_09.py -i ngc2547.vot.gz -o ngc2547_dist.png -a 0 -b 1000 -n 100"
      ],
      "metadata": {
        "id": "thCWoFZZBRdd"
      },
      "execution_count": null,
      "outputs": []
    },
    {
      "cell_type": "code",
      "source": [
        "# Run this cell to display image file.\n",
        "\n",
        "# importing IPython module\n",
        "import IPython.display\n",
        "\n",
        "# displaying image file\n",
        "IPython.display.Image ('ngc2547_dist.png')"
      ],
      "metadata": {
        "id": "Hiow9D1-BXqH"
      },
      "execution_count": null,
      "outputs": []
    },
    {
      "cell_type": "code",
      "source": [
        "# Run this cell to execute the script.\n",
        "\n",
        "!python3.13 appy_s11_05_09.py -i ngc2547.vot.gz -o ngc2547_dist2.png -a 300 -b 500 -n 40"
      ],
      "metadata": {
        "id": "KmAF75zKBght"
      },
      "execution_count": null,
      "outputs": []
    },
    {
      "cell_type": "code",
      "source": [
        "# Run this cell to display image file.\n",
        "\n",
        "# importing IPython module\n",
        "import IPython.display\n",
        "\n",
        "# displaying image file\n",
        "IPython.display.Image ('ngc2547_dist2.png')"
      ],
      "metadata": {
        "id": "Srv36AiYBnza"
      },
      "execution_count": null,
      "outputs": []
    },
    {
      "cell_type": "markdown",
      "source": [
        "## 7.6 Selecting stars by distance"
      ],
      "metadata": {
        "id": "Jt8qAju2BvUK"
      }
    },
    {
      "cell_type": "code",
      "source": [
        "# Run this cell to show the source code of this script.\n",
        "\n",
        "!cat appy_s11_05_10.py"
      ],
      "metadata": {
        "id": "xzjKQ8bQB2gI"
      },
      "execution_count": null,
      "outputs": []
    },
    {
      "cell_type": "code",
      "source": [
        "# Run this cell to execute the script.\n",
        "\n",
        "!python3.13 appy_s11_05_10.py -h"
      ],
      "metadata": {
        "id": "ofOVT9ADB2gL"
      },
      "execution_count": null,
      "outputs": []
    },
    {
      "cell_type": "code",
      "source": [
        "# Run this cell to execute the script.\n",
        "\n",
        "!python3.13 appy_s11_05_10.py -i ngc2547.vot.gz -o ngc2547_candidates.list -a 365 -b 415"
      ],
      "metadata": {
        "id": "kjsvVIL7B6pW"
      },
      "execution_count": null,
      "outputs": []
    },
    {
      "cell_type": "code",
      "source": [
        "# Find newly created file.\n",
        "\n",
        "!ls -lF *.list"
      ],
      "metadata": {
        "id": "SmkgYkd_-LAr"
      },
      "execution_count": null,
      "outputs": []
    },
    {
      "cell_type": "markdown",
      "source": [
        "## 7.7 Proper motion of selected stars"
      ],
      "metadata": {
        "id": "ewjkWBQLCKeZ"
      }
    },
    {
      "cell_type": "code",
      "source": [
        "# Run this cell to show the source code of this script.\n",
        "\n",
        "!cat appy_s11_05_11.py"
      ],
      "metadata": {
        "id": "11aJzqwRCfHp"
      },
      "execution_count": null,
      "outputs": []
    },
    {
      "cell_type": "code",
      "source": [
        "# Run this cell to execute the script.\n",
        "\n",
        "!python3.13 appy_s11_05_11.py -h"
      ],
      "metadata": {
        "id": "vByW4aoQCfHt"
      },
      "execution_count": null,
      "outputs": []
    },
    {
      "cell_type": "code",
      "source": [
        "# Run this cell to execute the script.\n",
        "\n",
        "!python3.13 appy_s11_05_11.py -i ngc2547_candidates.list -o ngc2547_pm1.png"
      ],
      "metadata": {
        "id": "-vZiZs3pCjKl"
      },
      "execution_count": null,
      "outputs": []
    },
    {
      "cell_type": "code",
      "source": [
        "# Run this cell to display image file.\n",
        "\n",
        "# importing IPython module\n",
        "import IPython.display\n",
        "\n",
        "# displaying image file\n",
        "IPython.display.Image ('ngc2547_pm1.png')"
      ],
      "metadata": {
        "id": "iOdsMuKFCpqR"
      },
      "execution_count": null,
      "outputs": []
    },
    {
      "cell_type": "code",
      "source": [
        "# Run this cell to show the source code of this script.\n",
        "\n",
        "!cat appy_s11_05_12.py"
      ],
      "metadata": {
        "id": "OD8xjJA8CxJA"
      },
      "execution_count": null,
      "outputs": []
    },
    {
      "cell_type": "code",
      "source": [
        "# Run this cell to execute the script.\n",
        "\n",
        "!python3.13 appy_s11_05_12.py -h"
      ],
      "metadata": {
        "id": "mJW6R4R1CxJN"
      },
      "execution_count": null,
      "outputs": []
    },
    {
      "cell_type": "code",
      "source": [
        "# Run this cell to execute the script.\n",
        "\n",
        "!python3.13 appy_s11_05_12.py -i ngc2547_candidates.list -o ngc2547_pm2.png -a1 -12 -a2 -3 -d1 2 -d2 11"
      ],
      "metadata": {
        "id": "Vjzow8_cCzP-"
      },
      "execution_count": null,
      "outputs": []
    },
    {
      "cell_type": "code",
      "source": [
        "# Run this cell to display image file.\n",
        "\n",
        "# importing IPython module\n",
        "import IPython.display\n",
        "\n",
        "# displaying image file\n",
        "IPython.display.Image ('ngc2547_pm2.png')"
      ],
      "metadata": {
        "id": "r4CBCV1GC8MD"
      },
      "execution_count": null,
      "outputs": []
    },
    {
      "cell_type": "code",
      "source": [
        "# Run this cell to execute the script.\n",
        "\n",
        "!python3.13 appy_s11_05_12.py -i ngc2547_candidates.list -o ngc2547_pm3.png -a1 -10 -a2 -7 -d1 3 -d2 6"
      ],
      "metadata": {
        "id": "COTYc5xzDM6b"
      },
      "execution_count": null,
      "outputs": []
    },
    {
      "cell_type": "code",
      "source": [
        "# Run this cell to display image file.\n",
        "\n",
        "# importing IPython module\n",
        "import IPython.display\n",
        "\n",
        "# displaying image file\n",
        "IPython.display.Image ('ngc2547_pm3.png')"
      ],
      "metadata": {
        "id": "5n0fFKdmDM6p"
      },
      "execution_count": null,
      "outputs": []
    },
    {
      "cell_type": "markdown",
      "source": [
        "## 7.8 Further selection of stars by proper motion"
      ],
      "metadata": {
        "id": "PKcO7fCcDXWr"
      }
    },
    {
      "cell_type": "code",
      "source": [
        "# Run this cell to show the source code of this script.\n",
        "\n",
        "!cat appy_s11_05_13.py"
      ],
      "metadata": {
        "id": "Elzbgm2_Dcin"
      },
      "execution_count": null,
      "outputs": []
    },
    {
      "cell_type": "code",
      "source": [
        "# Run this cell to execute the script.\n",
        "\n",
        "!python3.13 appy_s11_05_13.py -h"
      ],
      "metadata": {
        "id": "iyQgkA4XDcir"
      },
      "execution_count": null,
      "outputs": []
    },
    {
      "cell_type": "code",
      "source": [
        "# Run this cell to execute the script.\n",
        "\n",
        "!python3.13 appy_s11_05_13.py -i ngc2547_candidates.list -a1 -9.5 -a2 -8.0 -d1 3.5 -d2 5.0"
      ],
      "metadata": {
        "id": "A6OieqLoDgBh"
      },
      "execution_count": null,
      "outputs": []
    },
    {
      "cell_type": "code",
      "source": [
        "# Run this cell to show the source code of this script.\n",
        "\n",
        "!cat appy_s11_05_14.py"
      ],
      "metadata": {
        "id": "Bp76Rm3BDqt3"
      },
      "execution_count": null,
      "outputs": []
    },
    {
      "cell_type": "code",
      "source": [
        "# Run this cell to execute the script.\n",
        "\n",
        "!python3.13 appy_s11_05_14.py -h"
      ],
      "metadata": {
        "id": "IVU21ulgDqt8"
      },
      "execution_count": null,
      "outputs": []
    },
    {
      "cell_type": "code",
      "source": [
        "# Run this cell to execute the script.\n",
        "\n",
        "!python3.13 appy_s11_05_14.py -i ngc2547_candidates.list -o ngc2547_pm4.png -a1 -10 -a2 -7 -d1 3 -d2 6 0.50 0.75 1.00 1.25 1.50"
      ],
      "metadata": {
        "id": "uxPd4DOIDt45"
      },
      "execution_count": null,
      "outputs": []
    },
    {
      "cell_type": "code",
      "source": [
        "# Run this cell to display image file.\n",
        "\n",
        "# importing IPython module\n",
        "import IPython.display\n",
        "\n",
        "# displaying image file\n",
        "IPython.display.Image ('ngc2547_pm4.png')"
      ],
      "metadata": {
        "id": "Sm0rXjkyD4_-"
      },
      "execution_count": null,
      "outputs": []
    },
    {
      "cell_type": "code",
      "source": [
        "# Run this cell to show the source code of this script.\n",
        "\n",
        "!cat appy_s11_05_15.py"
      ],
      "metadata": {
        "id": "XhiRDYqfD_8W"
      },
      "execution_count": null,
      "outputs": []
    },
    {
      "cell_type": "code",
      "source": [
        "# Run this cell to execute the script.\n",
        "\n",
        "!python3.13 appy_s11_05_15.py -h"
      ],
      "metadata": {
        "id": "gQXATqs_D_8l"
      },
      "execution_count": null,
      "outputs": []
    },
    {
      "cell_type": "code",
      "source": [
        "# Run this cell to execute the script.\n",
        "\n",
        "!python3.13 appy_s11_05_15.py -i ngc2547_candidates.list -o ngc2547_candidates2.list -a1 -10 -a2 -7 -d1 3 -d2 6 -r 0.75"
      ],
      "metadata": {
        "id": "dJYiPWf4ECfv"
      },
      "execution_count": null,
      "outputs": []
    },
    {
      "cell_type": "code",
      "source": [
        "# Run this cell to find newly created file.\n",
        "\n",
        "!ls -lF ngc2547*.list"
      ],
      "metadata": {
        "id": "msd-1vI1CM-U"
      },
      "execution_count": null,
      "outputs": []
    },
    {
      "cell_type": "code",
      "source": [
        "# Run this cell to show the source code of this script.\n",
        "\n",
        "!cat appy_s11_05_16.py"
      ],
      "metadata": {
        "id": "ohHb5-pxEQ46"
      },
      "execution_count": null,
      "outputs": []
    },
    {
      "cell_type": "code",
      "source": [
        "# Run this cell to execute the script.\n",
        "\n",
        "!python3.13 appy_s11_05_16.py -h"
      ],
      "metadata": {
        "id": "b9VTwVz6EQ4-"
      },
      "execution_count": null,
      "outputs": []
    },
    {
      "cell_type": "code",
      "source": [
        "# Run this cell to execute the script.\n",
        "\n",
        "!python3.13 appy_s11_05_16.py -i ngc2547_candidates2.list -o ngc2547_pm5.png"
      ],
      "metadata": {
        "id": "L8oQSa39ETg6"
      },
      "execution_count": null,
      "outputs": []
    },
    {
      "cell_type": "code",
      "source": [
        "# Run this cell to display image file.\n",
        "\n",
        "# importing IPython module\n",
        "import IPython.display\n",
        "\n",
        "# displaying image file\n",
        "IPython.display.Image ('ngc2547_pm5.png')"
      ],
      "metadata": {
        "id": "t2Zh2aUAEgLH"
      },
      "execution_count": null,
      "outputs": []
    },
    {
      "cell_type": "code",
      "source": [
        "# Run this cell to show the source code of this script.\n",
        "\n",
        "!cat appy_s11_05_17.py"
      ],
      "metadata": {
        "id": "n7NR36R6EoUL"
      },
      "execution_count": null,
      "outputs": []
    },
    {
      "cell_type": "code",
      "source": [
        "# Run this cell to execute the script.\n",
        "\n",
        "!python3.13 appy_s11_05_17.py -h"
      ],
      "metadata": {
        "id": "UVqShCA1EoUM"
      },
      "execution_count": null,
      "outputs": []
    },
    {
      "cell_type": "code",
      "source": [
        "# Run this cell to execute the script.\n",
        "\n",
        "!python3.13 appy_s11_05_17.py -i ngc2547_candidates2.list -o ngc2547_hr.png -t \"Open cluster NGC 2547\""
      ],
      "metadata": {
        "id": "SWt_1ioGErZE"
      },
      "execution_count": null,
      "outputs": []
    },
    {
      "cell_type": "code",
      "source": [
        "# Run this cell to display image file.\n",
        "\n",
        "# importing IPython module\n",
        "import IPython.display\n",
        "\n",
        "# displaying image file\n",
        "IPython.display.Image ('ngc2547_hr.png')"
      ],
      "metadata": {
        "id": "JCughUFrExh5"
      },
      "execution_count": null,
      "outputs": []
    },
    {
      "cell_type": "markdown",
      "source": [
        "# 8. Constraining the age of NGC 2547"
      ],
      "metadata": {
        "id": "oSvO_agdE7c4"
      }
    },
    {
      "cell_type": "markdown",
      "source": [
        "## 8.1 Downloading data"
      ],
      "metadata": {
        "id": "NuSXc-kmE-aW"
      }
    },
    {
      "cell_type": "code",
      "source": [
        "# Run this cell to show the source code of this script.\n",
        "\n",
        "!cat appy_s11_06_00.py"
      ],
      "metadata": {
        "id": "iV2lEf7OFCuE"
      },
      "execution_count": null,
      "outputs": []
    },
    {
      "cell_type": "code",
      "source": [
        "# Run this cell to execute the script.\n",
        "\n",
        "!python3.13 appy_s11_06_00.py"
      ],
      "metadata": {
        "id": "5thk9CDdFCuG"
      },
      "execution_count": null,
      "outputs": []
    },
    {
      "cell_type": "markdown",
      "source": [
        "## 8.2 Reading data file"
      ],
      "metadata": {
        "id": "rYwAE6gxFG99"
      }
    },
    {
      "cell_type": "code",
      "source": [
        "# Run this cell to show the source code of this script.\n",
        "\n",
        "!cat appy_s11_06_01.py"
      ],
      "metadata": {
        "id": "TdoehDFzFLWC"
      },
      "execution_count": null,
      "outputs": []
    },
    {
      "cell_type": "code",
      "source": [
        "# Run this cell to execute the script.\n",
        "\n",
        "!python3.13 appy_s11_06_01.py"
      ],
      "metadata": {
        "id": "wRzkIDQGFLWU"
      },
      "execution_count": null,
      "outputs": []
    },
    {
      "cell_type": "markdown",
      "source": [
        "## 8.3 Visualising location of the main-sequence"
      ],
      "metadata": {
        "id": "EvJ5VSleFPIH"
      }
    },
    {
      "cell_type": "code",
      "source": [
        "# Run this cell to show the source code of this script.\n",
        "\n",
        "!cat appy_s11_06_02.py"
      ],
      "metadata": {
        "id": "ktIjXcioFVMx"
      },
      "execution_count": null,
      "outputs": []
    },
    {
      "cell_type": "code",
      "source": [
        "# Run this cell to execute the script.\n",
        "\n",
        "!python3.13 appy_s11_06_02.py -h"
      ],
      "metadata": {
        "id": "7GZCqwdOFVM1"
      },
      "execution_count": null,
      "outputs": []
    },
    {
      "cell_type": "code",
      "source": [
        "# Run this cell to execute the script.\n",
        "\n",
        "!python3.13 appy_s11_06_02.py -i ngc2547_candidates2.list -m ms.data -o ngc2547_hr2.png -t \"Open cluster NGC 2547\""
      ],
      "metadata": {
        "id": "vRgCUUoFFYsJ"
      },
      "execution_count": null,
      "outputs": []
    },
    {
      "cell_type": "code",
      "source": [
        "# Run this cell to display image file.\n",
        "\n",
        "# importing IPython module\n",
        "import IPython.display\n",
        "\n",
        "# displaying image file\n",
        "IPython.display.Image ('ngc2547_hr2.png')"
      ],
      "metadata": {
        "id": "E2ofeQORFiCN"
      },
      "execution_count": null,
      "outputs": []
    },
    {
      "cell_type": "markdown",
      "source": [
        "# 9. HR diagram of open cluster M39"
      ],
      "metadata": {
        "id": "svLQDjwiNreJ"
      }
    },
    {
      "cell_type": "markdown",
      "source": [
        "## 9.1. Downloading DSS image of M39"
      ],
      "metadata": {
        "id": "B6S5wMGoNwIB"
      }
    },
    {
      "cell_type": "code",
      "source": [
        "# Run this cell to execute the script.\n",
        "\n",
        "!python3.13 appy_s11_02_04.py -t M39 -f 90 -o m39.png -n M39 -s \"DSS2 Red\" -c bone"
      ],
      "metadata": {
        "id": "AJXfYmMEOGan"
      },
      "execution_count": null,
      "outputs": []
    },
    {
      "cell_type": "code",
      "source": [
        "# Run this cell to find downloaded file.\n",
        "\n",
        "!ls -lF m39.png"
      ],
      "metadata": {
        "id": "oNvXBBxQOslA"
      },
      "execution_count": null,
      "outputs": []
    },
    {
      "cell_type": "code",
      "source": [
        "# Run this cell to display image file.\n",
        "\n",
        "# importing IPython module\n",
        "import IPython.display\n",
        "\n",
        "# displaying image file\n",
        "IPython.display.Image ('m39.png')"
      ],
      "metadata": {
        "id": "oSVZ8cdIO2GB"
      },
      "execution_count": null,
      "outputs": []
    },
    {
      "cell_type": "markdown",
      "source": [
        "## 9.2. Downloading Gaia DR3 data"
      ],
      "metadata": {
        "id": "AFfiTLahO-Hg"
      }
    },
    {
      "cell_type": "code",
      "source": [
        "# Run this cell to execute the script.\n",
        "\n",
        "!python3.13 appy_s11_03_01.py -t M39 -o m39.vot.gz -r 45"
      ],
      "metadata": {
        "id": "X88WeKVtPFlH"
      },
      "execution_count": null,
      "outputs": []
    },
    {
      "cell_type": "code",
      "source": [
        "# Run this cell to find downloaded file.\n",
        "\n",
        "!ls -lF *.vot.gz"
      ],
      "metadata": {
        "id": "YBfSst90PMXk"
      },
      "execution_count": null,
      "outputs": []
    },
    {
      "cell_type": "markdown",
      "source": [
        "## 9.3. Visualising distance distribution of stars"
      ],
      "metadata": {
        "id": "quNIJoBxPSYE"
      }
    },
    {
      "cell_type": "code",
      "source": [
        "# Run this cell to execute the script.\n",
        "\n",
        "!python3.13 appy_s11_05_09.py -i m39.vot.gz -o m39_dist.png -a 0 -b 1000 -n 200"
      ],
      "metadata": {
        "id": "0IcMe6dSPhrH"
      },
      "execution_count": null,
      "outputs": []
    },
    {
      "cell_type": "code",
      "source": [
        "# Run this cell to find downloaded file.\n",
        "\n",
        "!ls -lF m39*.png"
      ],
      "metadata": {
        "id": "rkQHomqoPqBB"
      },
      "execution_count": null,
      "outputs": []
    },
    {
      "cell_type": "code",
      "source": [
        "# Run this cell to display image file.\n",
        "\n",
        "# importing IPython module\n",
        "import IPython.display\n",
        "\n",
        "# displaying image file\n",
        "IPython.display.Image ('m39_dist.png')"
      ],
      "metadata": {
        "id": "WymFAQdtPydE"
      },
      "execution_count": null,
      "outputs": []
    },
    {
      "cell_type": "code",
      "source": [
        "# Run this cell to execute the script.\n",
        "\n",
        "!python3.13 appy_s11_05_09.py -i m39.vot.gz -o m39_dist2.png -a 250 -b 350 -n 50"
      ],
      "metadata": {
        "id": "KGcv_O1iP5Oj"
      },
      "execution_count": null,
      "outputs": []
    },
    {
      "cell_type": "code",
      "source": [
        "# Run this cell to find downloaded file.\n",
        "\n",
        "!ls -lF m39*.png"
      ],
      "metadata": {
        "id": "LwAbrsrlQDJ-"
      },
      "execution_count": null,
      "outputs": []
    },
    {
      "cell_type": "code",
      "source": [
        "# Run this cell to display image file.\n",
        "\n",
        "# importing IPython module\n",
        "import IPython.display\n",
        "\n",
        "# displaying image file\n",
        "IPython.display.Image ('m39_dist2.png')"
      ],
      "metadata": {
        "id": "x9lFEJnbQMt0"
      },
      "execution_count": null,
      "outputs": []
    },
    {
      "cell_type": "markdown",
      "source": [
        "## 9.4. Selecting stars by distance"
      ],
      "metadata": {
        "id": "Po8V3v5PQgSi"
      }
    },
    {
      "cell_type": "code",
      "source": [
        "# Run this cell to execute the script.\n",
        "\n",
        "!python3.13 appy_s11_05_10.py -i m39.vot.gz -o m39_candidates.list -a 280 -b 310"
      ],
      "metadata": {
        "id": "h53yQ0vNQkrJ"
      },
      "execution_count": null,
      "outputs": []
    },
    {
      "cell_type": "code",
      "source": [
        "# Run this cell to find newly created file.\n",
        "\n",
        "!ls -lF *.list"
      ],
      "metadata": {
        "id": "o4fzHgLoQsdv"
      },
      "execution_count": null,
      "outputs": []
    },
    {
      "cell_type": "code",
      "source": [
        "# Run this cell to show first 20 lines of newly created file.\n",
        "\n",
        "!head -20 m39_candidates.list | cut -b -80"
      ],
      "metadata": {
        "id": "qYHYhIXDRIYn"
      },
      "execution_count": null,
      "outputs": []
    },
    {
      "cell_type": "code",
      "source": [
        "# Run this cell to count number of selected stars.\n",
        "\n",
        "!grep -v '#' m39_candidates.list | wc"
      ],
      "metadata": {
        "id": "fKppjhyyRO6w"
      },
      "execution_count": null,
      "outputs": []
    },
    {
      "cell_type": "markdown",
      "source": [
        "## 9.5. Proper motion of star cluster member candidates"
      ],
      "metadata": {
        "id": "Ecepb2DRRW0b"
      }
    },
    {
      "cell_type": "code",
      "source": [
        "# Run this cell to execute the script.\n",
        "\n",
        "!python3.13 appy_s11_05_11.py -i m39_candidates.list -o m39_pm1.png"
      ],
      "metadata": {
        "id": "Wi4_8-_iR3io"
      },
      "execution_count": null,
      "outputs": []
    },
    {
      "cell_type": "code",
      "source": [
        "# Run this cell to find newly created file.\n",
        "\n",
        "!ls -lF m39*.png"
      ],
      "metadata": {
        "id": "KpycZkNVR7iF"
      },
      "execution_count": null,
      "outputs": []
    },
    {
      "cell_type": "code",
      "source": [
        "# Run this cell to display image file.\n",
        "\n",
        "# importing IPython module\n",
        "import IPython.display\n",
        "\n",
        "# displaying image file\n",
        "IPython.display.Image ('m39_pm1.png')"
      ],
      "metadata": {
        "id": "56nVOD8xSDpj"
      },
      "execution_count": null,
      "outputs": []
    },
    {
      "cell_type": "code",
      "source": [
        "# Run this cell to execute the script.\n",
        "\n",
        "!python3.13 appy_s11_05_12.py -i m39_candidates.list -o m39_pm2.png -a1 -12 -a2 -2 -d1 -25 -d2 -15"
      ],
      "metadata": {
        "id": "j4hbE7DSSi6T"
      },
      "execution_count": null,
      "outputs": []
    },
    {
      "cell_type": "code",
      "source": [
        "# Run this cell to find newly created file.\n",
        "\n",
        "!ls -lF m39*.png"
      ],
      "metadata": {
        "id": "6ISNQVezSi6a"
      },
      "execution_count": null,
      "outputs": []
    },
    {
      "cell_type": "code",
      "source": [
        "# Run this cell to display image file.\n",
        "\n",
        "# importing IPython module\n",
        "import IPython.display\n",
        "\n",
        "# displaying image file\n",
        "IPython.display.Image ('m39_pm2.png')"
      ],
      "metadata": {
        "id": "q15sseG1Si6c"
      },
      "execution_count": null,
      "outputs": []
    },
    {
      "cell_type": "code",
      "source": [
        "# Run this cell to execute the script.\n",
        "\n",
        "!python3.13 appy_s11_05_12.py -i m39_candidates.list -o m39_pm3.png -a1 -10 -a2 -5 -d1 -22 -d2 -17"
      ],
      "metadata": {
        "id": "Nj9Rx9PFSzcB"
      },
      "execution_count": null,
      "outputs": []
    },
    {
      "cell_type": "code",
      "source": [
        "# Run this cell to find newly created file.\n",
        "\n",
        "!ls -lF m39*.png"
      ],
      "metadata": {
        "id": "mChKHSkqSzcH"
      },
      "execution_count": null,
      "outputs": []
    },
    {
      "cell_type": "code",
      "source": [
        "# Run this cell to display image file.\n",
        "\n",
        "# importing IPython module\n",
        "import IPython.display\n",
        "\n",
        "# displaying image file\n",
        "IPython.display.Image ('m39_pm3.png')"
      ],
      "metadata": {
        "id": "qU6QarH7SzcJ"
      },
      "execution_count": null,
      "outputs": []
    },
    {
      "cell_type": "markdown",
      "source": [
        "## 9.6. Further selection of stars by proper motion"
      ],
      "metadata": {
        "id": "BIVmb4m4S-Pz"
      }
    },
    {
      "cell_type": "code",
      "source": [
        "# Run this cell to execute the script.\n",
        "\n",
        "!python3.13 appy_s11_05_13.py -i m39_candidates.list -a1 -8.5 -a2 -6.5 -d1 -21 -d2 -19"
      ],
      "metadata": {
        "id": "fQdM9QpwTE6x"
      },
      "execution_count": null,
      "outputs": []
    },
    {
      "cell_type": "code",
      "source": [
        "# Run this cell to execute the script.\n",
        "\n",
        "!python3.13 appy_s11_05_14.py -i m39_candidates.list -o m39_pm4.png -a1 -8.5 -a2 -6.5 -d1 -20.75 -d2 -18.75 0.50 0.75 1.00 1.25 1.50"
      ],
      "metadata": {
        "id": "_OGC4JNITMsI"
      },
      "execution_count": null,
      "outputs": []
    },
    {
      "cell_type": "code",
      "source": [
        "# Run this cell to find newly created file.\n",
        "\n",
        "!ls -lF m39*.png"
      ],
      "metadata": {
        "id": "ETmsSzF3TXzM"
      },
      "execution_count": null,
      "outputs": []
    },
    {
      "cell_type": "code",
      "source": [
        "# Run this cell to display image file.\n",
        "\n",
        "# importing IPython module\n",
        "import IPython.display\n",
        "\n",
        "# displaying image file\n",
        "IPython.display.Image ('m39_pm4.png')"
      ],
      "metadata": {
        "id": "GHThzZC_TXzQ"
      },
      "execution_count": null,
      "outputs": []
    },
    {
      "cell_type": "code",
      "source": [
        "# Run this cell to execute the script.\n",
        "\n",
        "!python3.13 appy_s11_05_15.py -i m39_candidates.list -o m39_candidates2.list -a1 -8.5 -a2 -6.5 -d1 -20.75 -d2 -18.75 -r 0.75"
      ],
      "metadata": {
        "id": "YelxCO04Tk3n"
      },
      "execution_count": null,
      "outputs": []
    },
    {
      "cell_type": "code",
      "source": [
        "# Run this cell to find newly created file.\n",
        "\n",
        "!ls -lF m39*.list"
      ],
      "metadata": {
        "id": "jkjtuPVCTrYx"
      },
      "execution_count": null,
      "outputs": []
    },
    {
      "cell_type": "code",
      "source": [
        "# Run this cell to show first 20 lines of newly created file.\n",
        "\n",
        "!head -20 m39_candidates2.list | cut -b -80"
      ],
      "metadata": {
        "id": "nFQDxSFFTz9_"
      },
      "execution_count": null,
      "outputs": []
    },
    {
      "cell_type": "code",
      "source": [
        "# Run this cell to count the number of selected stars.\n",
        "\n",
        "!grep -v '#' m39_candidates2.list | wc"
      ],
      "metadata": {
        "id": "ummp9lLFT87A"
      },
      "execution_count": null,
      "outputs": []
    },
    {
      "cell_type": "code",
      "source": [
        "# Run this cell to execute the script.\n",
        "\n",
        "!python3.13 appy_s11_05_16.py -i m39_candidates2.list -o m39_pm5.png"
      ],
      "metadata": {
        "id": "4lqFU3JgULcH"
      },
      "execution_count": null,
      "outputs": []
    },
    {
      "cell_type": "code",
      "source": [
        "# Run this cell to find newly created file.\n",
        "\n",
        "!ls -lF m39*.png"
      ],
      "metadata": {
        "id": "n2buLk4bULcP"
      },
      "execution_count": null,
      "outputs": []
    },
    {
      "cell_type": "code",
      "source": [
        "# Run this cell to display image file.\n",
        "\n",
        "# importing IPython module\n",
        "import IPython.display\n",
        "\n",
        "# displaying image file\n",
        "IPython.display.Image ('m39_pm5.png')"
      ],
      "metadata": {
        "id": "Yx5s44urULcT"
      },
      "execution_count": null,
      "outputs": []
    },
    {
      "cell_type": "markdown",
      "source": [
        "## 9.7. Constructing HR diagram of M39"
      ],
      "metadata": {
        "id": "gC6fk1rXUWWn"
      }
    },
    {
      "cell_type": "code",
      "source": [
        "# Run this cell to execute the script.\n",
        "\n",
        "!python3.13 appy_s11_05_17.py -i m39_candidates2.list -o m39_hr.png -t \"Open cluster M39\""
      ],
      "metadata": {
        "id": "IYD7GdwxUegS"
      },
      "execution_count": null,
      "outputs": []
    },
    {
      "cell_type": "code",
      "source": [
        "# Run this cell to find newly created file.\n",
        "\n",
        "!ls -lF m39*.png"
      ],
      "metadata": {
        "id": "mYOP0TyGUegb"
      },
      "execution_count": null,
      "outputs": []
    },
    {
      "cell_type": "code",
      "source": [
        "# Run this cell to display image file.\n",
        "\n",
        "# importing IPython module\n",
        "import IPython.display\n",
        "\n",
        "# displaying image file\n",
        "IPython.display.Image ('m39_hr.png')"
      ],
      "metadata": {
        "id": "FgnzrlOfUegd"
      },
      "execution_count": null,
      "outputs": []
    },
    {
      "cell_type": "markdown",
      "source": [
        "## 9.8. Superimposing synthetic main-sequence"
      ],
      "metadata": {
        "id": "-9ytuAjQUpAD"
      }
    },
    {
      "cell_type": "code",
      "source": [
        "# Run this cell to execute the script.\n",
        "\n",
        "!python3.13 appy_s11_06_02.py -i m39_candidates2.list -o m39_hr2.png -t \"Open cluster M39\""
      ],
      "metadata": {
        "id": "DDMcJIg4UxCh"
      },
      "execution_count": null,
      "outputs": []
    },
    {
      "cell_type": "code",
      "source": [
        "# Run this cell to find newly created file.\n",
        "\n",
        "!ls -lF m39*.png"
      ],
      "metadata": {
        "id": "k-r-NW1sUxCp"
      },
      "execution_count": null,
      "outputs": []
    },
    {
      "cell_type": "code",
      "source": [
        "# Run this cell to display image file.\n",
        "\n",
        "# importing IPython module\n",
        "import IPython.display\n",
        "\n",
        "# displaying image file\n",
        "IPython.display.Image ('m39_hr2.png')"
      ],
      "metadata": {
        "id": "taqPzcYtUxCs"
      },
      "execution_count": null,
      "outputs": []
    },
    {
      "cell_type": "markdown",
      "source": [
        "# 10. HR diagram of open cluster IC 4756"
      ],
      "metadata": {
        "id": "RRqXW73uU-1I"
      }
    },
    {
      "cell_type": "markdown",
      "source": [
        "## 10.1. Downloading DSS image of IC 4756"
      ],
      "metadata": {
        "id": "I3ua_N7zVDiS"
      }
    },
    {
      "cell_type": "code",
      "source": [
        "# Run this cell to execute the script.\n",
        "\n",
        "!python3.13 appy_s11_02_04.py -t \"IC 4756\" -f 90 -o ic4756.png -n \"IC 4756\" -s \"DSS2 Red\" -c inferno"
      ],
      "metadata": {
        "id": "dw4BMWUbVIVU"
      },
      "execution_count": null,
      "outputs": []
    },
    {
      "cell_type": "code",
      "source": [
        "# Run this cell to find downloaded file.\n",
        "\n",
        "!ls -lF ic4756*.png"
      ],
      "metadata": {
        "id": "Z8OzGqSPV1Al"
      },
      "execution_count": null,
      "outputs": []
    },
    {
      "cell_type": "code",
      "source": [
        "# Run this cell to display image file.\n",
        "\n",
        "# importing IPython module\n",
        "import IPython.display\n",
        "\n",
        "# displaying image file\n",
        "IPython.display.Image ('ic4756.png')"
      ],
      "metadata": {
        "id": "cSWiCSW0V82f"
      },
      "execution_count": null,
      "outputs": []
    },
    {
      "cell_type": "markdown",
      "source": [
        "## 10.2. Downloading Gaia DR3 data"
      ],
      "metadata": {
        "id": "qVLX35pHWFR_"
      }
    },
    {
      "cell_type": "code",
      "source": [
        "# Run this cell to execute the script.\n",
        "\n",
        "!python3.13 appy_s11_03_01.py -t \"IC 4756\" -o ic4756.vot.gz -r 30"
      ],
      "metadata": {
        "id": "zOoVdhJOWKnx"
      },
      "execution_count": null,
      "outputs": []
    },
    {
      "cell_type": "code",
      "source": [
        "# Run this cell to find newly downloaded file.\n",
        "\n",
        "!ls -lF *.vot.gz"
      ],
      "metadata": {
        "id": "meNtcTTSWSQ3"
      },
      "execution_count": null,
      "outputs": []
    },
    {
      "cell_type": "markdown",
      "source": [
        "## 10.3. Visualising distance distribution of stars"
      ],
      "metadata": {
        "id": "uIa-bO8MWa2I"
      }
    },
    {
      "cell_type": "code",
      "source": [
        "# Run this cell to execute the script.\n",
        "\n",
        "!python3.13 appy_s11_05_09.py -i ic4756.vot.gz -o ic4756_dist.png -a 0 -b 1000 -n 200"
      ],
      "metadata": {
        "id": "npnR_LTmWjWZ"
      },
      "execution_count": null,
      "outputs": []
    },
    {
      "cell_type": "code",
      "source": [
        "# Run this cell to find newly created file.\n",
        "\n",
        "!ls -lF ic4756*.png"
      ],
      "metadata": {
        "id": "s9tS5gbXWjWa"
      },
      "execution_count": null,
      "outputs": []
    },
    {
      "cell_type": "code",
      "source": [
        "# Run this cell to display image file.\n",
        "\n",
        "# importing IPython module\n",
        "import IPython.display\n",
        "\n",
        "# displaying image file\n",
        "IPython.display.Image ('ic4756_dist.png')"
      ],
      "metadata": {
        "id": "20acVnZlWjWc"
      },
      "execution_count": null,
      "outputs": []
    },
    {
      "cell_type": "code",
      "source": [
        "# Run this cell to execute the script.\n",
        "\n",
        "!python3.13 appy_s11_05_09.py -i ic4756.vot.gz -o ic4756_dist2.png -a 400 -b 560 -n 80"
      ],
      "metadata": {
        "id": "mmKHdnYrWxnu"
      },
      "execution_count": null,
      "outputs": []
    },
    {
      "cell_type": "code",
      "source": [
        "# Run this cell to find newly created file.\n",
        "\n",
        "!ls -lF ic4756*.png"
      ],
      "metadata": {
        "id": "T3l_zL-bWxnx"
      },
      "execution_count": null,
      "outputs": []
    },
    {
      "cell_type": "code",
      "source": [
        "# Run this cell to display image file.\n",
        "\n",
        "# importing IPython module\n",
        "import IPython.display\n",
        "\n",
        "# displaying image file\n",
        "IPython.display.Image ('ic4756_dist2.png')"
      ],
      "metadata": {
        "id": "JGai61pnWxnz"
      },
      "execution_count": null,
      "outputs": []
    },
    {
      "cell_type": "markdown",
      "source": [
        "## 10.4. Selecting stars by distance"
      ],
      "metadata": {
        "id": "JHwgOsN1W9d2"
      }
    },
    {
      "cell_type": "code",
      "source": [
        "# Run this cell to execute the script.\n",
        "\n",
        "!python3.13 appy_s11_05_10.py -i ic4756.vot.gz -o ic4756_candidates.list -a 430 -b 510"
      ],
      "metadata": {
        "id": "as1PpUX8XFMJ"
      },
      "execution_count": null,
      "outputs": []
    },
    {
      "cell_type": "code",
      "source": [
        "# Run this cell to find newly created file.\n",
        "\n",
        "!ls -lF ic4756*.list"
      ],
      "metadata": {
        "id": "Vad1TFZAXKt1"
      },
      "execution_count": null,
      "outputs": []
    },
    {
      "cell_type": "code",
      "source": [
        "# Run this cell to show first 20 lines of newly created file.\n",
        "\n",
        "!head -20 ic4756_candidates.list | cut -b -80"
      ],
      "metadata": {
        "id": "bI3-mhAPXPWk"
      },
      "execution_count": null,
      "outputs": []
    },
    {
      "cell_type": "code",
      "source": [
        "# Run this cell to count the number of selected stars.\n",
        "\n",
        "!grep -v '#' ic4756_candidates.list | wc"
      ],
      "metadata": {
        "id": "GiVXJiOXXVao"
      },
      "execution_count": null,
      "outputs": []
    },
    {
      "cell_type": "markdown",
      "source": [
        "## 10.5. Proper motion of star cluster member candidates"
      ],
      "metadata": {
        "id": "8vsa5OGlX2oR"
      }
    },
    {
      "cell_type": "code",
      "source": [
        "# Run this cell to execute the script.\n",
        "\n",
        "!python3.13 appy_s11_05_11.py -i ic4756_candidates.list -o ic4756_pm1.png"
      ],
      "metadata": {
        "id": "_SxFh8IFX762"
      },
      "execution_count": null,
      "outputs": []
    },
    {
      "cell_type": "code",
      "source": [
        "# Run this cell to find newly created file.\n",
        "\n",
        "!ls -lF ic4756*.png"
      ],
      "metadata": {
        "id": "j9E6eJuRYN3Q"
      },
      "execution_count": null,
      "outputs": []
    },
    {
      "cell_type": "code",
      "source": [
        "# Run this cell to display image file.\n",
        "\n",
        "# importing IPython module\n",
        "import IPython.display\n",
        "\n",
        "# displaying image file\n",
        "IPython.display.Image ('ic4756_pm1.png')"
      ],
      "metadata": {
        "id": "fRziwrw3YVes"
      },
      "execution_count": null,
      "outputs": []
    },
    {
      "cell_type": "code",
      "source": [
        "# Run this cell to execute the script.\n",
        "\n",
        "!python3.13 appy_s11_05_12.py -i ic4756_candidates.list -o ic4756_pm2.png -a1 -15 -a2 15 -d1 -20 -d2 10"
      ],
      "metadata": {
        "id": "9VC-I85ZY6Y5"
      },
      "execution_count": null,
      "outputs": []
    },
    {
      "cell_type": "code",
      "source": [
        "# Run this cell to find newly created file.\n",
        "\n",
        "!ls -lF ic4756*.png"
      ],
      "metadata": {
        "id": "ypn2GeriY6Y_"
      },
      "execution_count": null,
      "outputs": []
    },
    {
      "cell_type": "code",
      "source": [
        "# Run this cell to display image file.\n",
        "\n",
        "# importing IPython module\n",
        "import IPython.display\n",
        "\n",
        "# displaying image file\n",
        "IPython.display.Image ('ic4756_pm2.png')"
      ],
      "metadata": {
        "id": "XOEc8Yg3Y6ZC"
      },
      "execution_count": null,
      "outputs": []
    },
    {
      "cell_type": "code",
      "source": [
        "# Run this cell to execute the script.\n",
        "\n",
        "!python3.13 appy_s11_05_12.py -i ic4756_candidates.list -o ic4756_pm3.png -a1 -1 -a2 4 -d1 -7.5 -d2 -2.5"
      ],
      "metadata": {
        "id": "xClEPwlvZIQm"
      },
      "execution_count": null,
      "outputs": []
    },
    {
      "cell_type": "code",
      "source": [
        "# Run this cell to find newly created file.\n",
        "\n",
        "!ls -lF ic4756*.png"
      ],
      "metadata": {
        "id": "QC71WkZ2ZIQs"
      },
      "execution_count": null,
      "outputs": []
    },
    {
      "cell_type": "code",
      "source": [
        "# Run this cell to display image file.\n",
        "\n",
        "# importing IPython module\n",
        "import IPython.display\n",
        "\n",
        "# displaying image file\n",
        "IPython.display.Image ('ic4756_pm3.png')"
      ],
      "metadata": {
        "id": "uuTQxMGJZIQv"
      },
      "execution_count": null,
      "outputs": []
    },
    {
      "cell_type": "markdown",
      "source": [
        "## 10.6. Further selection of stars by proper motion"
      ],
      "metadata": {
        "id": "OnnDO8ObZU9y"
      }
    },
    {
      "cell_type": "code",
      "source": [
        "# Run this cell to execute the script.\n",
        "\n",
        "!python3.13 appy_s11_05_13.py -i ic4756_candidates.list -a1 0 -a2 3 -d1 -6.5 -d2 -3.5"
      ],
      "metadata": {
        "id": "mehtFVNHZbR-"
      },
      "execution_count": null,
      "outputs": []
    },
    {
      "cell_type": "code",
      "source": [
        "# Run this cell to execute the script.\n",
        "\n",
        "!python3.13 appy_s11_05_14.py -i ic4756_candidates.list -o ic4756_pm4.png -a1 0 -a2 3 -d1 -6.5 -d2 -3.5 0.50 0.75 1.00 1.25 1.50"
      ],
      "metadata": {
        "id": "xdDfbPJiZ8or"
      },
      "execution_count": null,
      "outputs": []
    },
    {
      "cell_type": "code",
      "source": [
        "# Run this cell to find newly created file.\n",
        "\n",
        "!ls -lF ic4756*.png"
      ],
      "metadata": {
        "id": "TPOjslbIZ8oy"
      },
      "execution_count": null,
      "outputs": []
    },
    {
      "cell_type": "code",
      "source": [
        "# Run this cell to display image file.\n",
        "\n",
        "# importing IPython module\n",
        "import IPython.display\n",
        "\n",
        "# displaying image file\n",
        "IPython.display.Image ('ic4756_pm4.png')"
      ],
      "metadata": {
        "id": "eZXXDJFgZ8o0"
      },
      "execution_count": null,
      "outputs": []
    },
    {
      "cell_type": "code",
      "source": [
        "# Run this cell to execute the script.\n",
        "\n",
        "!python3.13 appy_s11_05_15.py -i ic4756_candidates.list -o ic4756_candidates2.list -a1 0 -a2 3 -d1 -6.5 -d2 -3.5 -r 0.75"
      ],
      "metadata": {
        "id": "6m7vo-TOaXrk"
      },
      "execution_count": null,
      "outputs": []
    },
    {
      "cell_type": "code",
      "source": [
        "# Run this cell to find newly created file.\n",
        "\n",
        "!ls -lF ic4756*.list"
      ],
      "metadata": {
        "id": "oROcAL-kajO5"
      },
      "execution_count": null,
      "outputs": []
    },
    {
      "cell_type": "code",
      "source": [
        "# Run this cell to show first 20 lines of newly created file.\n",
        "\n",
        "!head -20 ic4756_candidates2.list | cut -b -80"
      ],
      "metadata": {
        "id": "e0sferuPao4n"
      },
      "execution_count": null,
      "outputs": []
    },
    {
      "cell_type": "code",
      "source": [
        "# Run this cell to count the number of selected stars.\n",
        "\n",
        "!grep -v '#' ic4756_candidates2.list | wc"
      ],
      "metadata": {
        "id": "M-pzmrLNavzm"
      },
      "execution_count": null,
      "outputs": []
    },
    {
      "cell_type": "code",
      "source": [
        "# Run this cell to execute the script.\n",
        "\n",
        "!python3.13 appy_s11_05_16.py -i ic4756_candidates2.list -o ic4756_pm5.png"
      ],
      "metadata": {
        "id": "TRcxB8xra-2l"
      },
      "execution_count": null,
      "outputs": []
    },
    {
      "cell_type": "code",
      "source": [
        "# Run this cell to find newly created file.\n",
        "\n",
        "!ls -lF ic4756*.png"
      ],
      "metadata": {
        "id": "y_rgZ-Bxa-2o"
      },
      "execution_count": null,
      "outputs": []
    },
    {
      "cell_type": "code",
      "source": [
        "# Run this cell to display image file.\n",
        "\n",
        "# importing IPython module\n",
        "import IPython.display\n",
        "\n",
        "# displaying image file\n",
        "IPython.display.Image ('ic4756_pm5.png')"
      ],
      "metadata": {
        "id": "6HET9mkfa-2y"
      },
      "execution_count": null,
      "outputs": []
    },
    {
      "cell_type": "markdown",
      "source": [
        "## 10.7. Constructing HR diagram of IC 4756"
      ],
      "metadata": {
        "id": "uR1JWr8nbMmF"
      }
    },
    {
      "cell_type": "code",
      "source": [
        "# Run this cell to execute the script.\n",
        "\n",
        "!python3.13 appy_s11_05_17.py -i ic4756_candidates2.list -o ic4756_hr.png -t \"Open Cluster IC 4756\""
      ],
      "metadata": {
        "id": "WwQqdWSkbTYh"
      },
      "execution_count": null,
      "outputs": []
    },
    {
      "cell_type": "code",
      "source": [
        "# Run this cell to find newly created file.\n",
        "\n",
        "!ls -lF ic4756*.png"
      ],
      "metadata": {
        "id": "X7KrZU7hbTYi"
      },
      "execution_count": null,
      "outputs": []
    },
    {
      "cell_type": "code",
      "source": [
        "# Run this cell to display image file.\n",
        "\n",
        "# importing IPython module\n",
        "import IPython.display\n",
        "\n",
        "# displaying image file\n",
        "IPython.display.Image ('ic4756_hr.png')"
      ],
      "metadata": {
        "id": "XDgyOAqXbTYk"
      },
      "execution_count": null,
      "outputs": []
    },
    {
      "cell_type": "markdown",
      "source": [
        "## 10.8. Superimposing synthetic main-sequence"
      ],
      "metadata": {
        "id": "PfuMW1EZbifh"
      }
    },
    {
      "cell_type": "code",
      "source": [
        "# Run this cell to execute the script.\n",
        "\n",
        "!python3.13 appy_s11_06_02.py -i ic4756_candidates2.list -m ms.data -o ic4756_hr2.png -t \"Open Cluster IC 4756\""
      ],
      "metadata": {
        "id": "5w_m-adtbpYA"
      },
      "execution_count": null,
      "outputs": []
    },
    {
      "cell_type": "code",
      "source": [
        "# Run this cell to find newly created file.\n",
        "\n",
        "!ls -lF ic4756*.png"
      ],
      "metadata": {
        "id": "CHFFeZohbpYD"
      },
      "execution_count": null,
      "outputs": []
    },
    {
      "cell_type": "code",
      "source": [
        "# Run this cell to display image file.\n",
        "\n",
        "# importing IPython module\n",
        "import IPython.display\n",
        "\n",
        "# displaying image file\n",
        "IPython.display.Image ('ic4756_hr2.png')"
      ],
      "metadata": {
        "id": "mH8MvngcbpYF"
      },
      "execution_count": null,
      "outputs": []
    },
    {
      "cell_type": "markdown",
      "source": [
        "# 11. HR diagram of open cluster M67"
      ],
      "metadata": {
        "id": "EMK1Lua2cNtx"
      }
    },
    {
      "cell_type": "markdown",
      "source": [
        "## 11.1. Downloading SDSS image of M67"
      ],
      "metadata": {
        "id": "6Bh8qpB_cNuA"
      }
    },
    {
      "cell_type": "code",
      "source": [
        "# Run this cell to execute the script.\n",
        "\n",
        "!python3.13 appy_s11_02_04.py -t M67 -f 90 -o m67.png -n M67 -s SDSSr -c magma"
      ],
      "metadata": {
        "id": "JGxe3gzWcNuD"
      },
      "execution_count": null,
      "outputs": []
    },
    {
      "cell_type": "code",
      "source": [
        "# Run this cell to find downloaded file.\n",
        "\n",
        "!ls -lF m67*.png"
      ],
      "metadata": {
        "id": "uIpxVuI-cNuG"
      },
      "execution_count": null,
      "outputs": []
    },
    {
      "cell_type": "code",
      "source": [
        "# Run this cell to display image file.\n",
        "\n",
        "# importing IPython module\n",
        "import IPython.display\n",
        "\n",
        "# displaying image file\n",
        "IPython.display.Image ('m67.png')"
      ],
      "metadata": {
        "id": "yw2Agt-XcNuI"
      },
      "execution_count": null,
      "outputs": []
    },
    {
      "cell_type": "markdown",
      "source": [
        "## 11.2. Downloading Gaia DR3 data"
      ],
      "metadata": {
        "id": "Hkff6aX5cNuK"
      }
    },
    {
      "cell_type": "code",
      "source": [
        "# Run this cell to execute the script.\n",
        "\n",
        "!python3.13 appy_s11_03_01.py -t M67 -o m67.vot.gz -r 45"
      ],
      "metadata": {
        "id": "MurgJ_8UcNuK"
      },
      "execution_count": null,
      "outputs": []
    },
    {
      "cell_type": "code",
      "source": [
        "# Run this cell to find newly downloaded file.\n",
        "\n",
        "!ls -lF *.vot.gz"
      ],
      "metadata": {
        "id": "UrX7xNOecNuM"
      },
      "execution_count": null,
      "outputs": []
    },
    {
      "cell_type": "markdown",
      "source": [
        "## 11.3. Visualising distance distribution of stars"
      ],
      "metadata": {
        "id": "AY0P_QqDcNuN"
      }
    },
    {
      "cell_type": "code",
      "source": [
        "# Run this cell to execute the script.\n",
        "\n",
        "!python3.13 appy_s11_05_09.py -i m67.vot.gz -o m67_dist.png -a 0 -b 1500 -n 150"
      ],
      "metadata": {
        "id": "WDOm2x23cNuP"
      },
      "execution_count": null,
      "outputs": []
    },
    {
      "cell_type": "code",
      "source": [
        "# Run this cell to find newly created file.\n",
        "\n",
        "!ls -lF m67*.png"
      ],
      "metadata": {
        "id": "Oo1Pry-BcNuQ"
      },
      "execution_count": null,
      "outputs": []
    },
    {
      "cell_type": "code",
      "source": [
        "# Run this cell to display image file.\n",
        "\n",
        "# importing IPython module\n",
        "import IPython.display\n",
        "\n",
        "# displaying image file\n",
        "IPython.display.Image ('m67_dist.png')"
      ],
      "metadata": {
        "id": "8x3he1GFcNuR"
      },
      "execution_count": null,
      "outputs": []
    },
    {
      "cell_type": "code",
      "source": [
        "# Run this cell to execute the script.\n",
        "\n",
        "!python3.13 appy_s11_05_09.py -i m67.vot.gz -o m67_dist2.png -a 700 -b 1050 -n 70"
      ],
      "metadata": {
        "id": "_LQVGJkjcNuR"
      },
      "execution_count": null,
      "outputs": []
    },
    {
      "cell_type": "code",
      "source": [
        "# Run this cell to find newly created file.\n",
        "\n",
        "!ls -lF m67*.png"
      ],
      "metadata": {
        "id": "V46j9xSicNuS"
      },
      "execution_count": null,
      "outputs": []
    },
    {
      "cell_type": "code",
      "source": [
        "# Run this cell to display image file.\n",
        "\n",
        "# importing IPython module\n",
        "import IPython.display\n",
        "\n",
        "# displaying image file\n",
        "IPython.display.Image ('m67_dist2.png')"
      ],
      "metadata": {
        "id": "3XIK6l8GcNuT"
      },
      "execution_count": null,
      "outputs": []
    },
    {
      "cell_type": "markdown",
      "source": [
        "## 11.4. Selecting stars by distance"
      ],
      "metadata": {
        "id": "cGggNI5OcNuU"
      }
    },
    {
      "cell_type": "code",
      "source": [
        "# Run this cell to execute the script.\n",
        "\n",
        "!python3.13 appy_s11_05_10.py -i m67.vot.gz -o m67_candidates.list -a 750 -b 1000"
      ],
      "metadata": {
        "id": "7EnZpfX1cNuU"
      },
      "execution_count": null,
      "outputs": []
    },
    {
      "cell_type": "code",
      "source": [
        "# Run this cell to find newly created file.\n",
        "\n",
        "!ls -lF m67*.list"
      ],
      "metadata": {
        "id": "qrXR2SV_cNuV"
      },
      "execution_count": null,
      "outputs": []
    },
    {
      "cell_type": "code",
      "source": [
        "# Run this cell to show first 20 lines of newly created file.\n",
        "\n",
        "!head -20 m67_candidates.list | cut -b -80"
      ],
      "metadata": {
        "id": "Ag4jWBI0cNuW"
      },
      "execution_count": null,
      "outputs": []
    },
    {
      "cell_type": "code",
      "source": [
        "# Run this cell to count the number of selected stars.\n",
        "\n",
        "!grep -v '#' m67_candidates.list | wc"
      ],
      "metadata": {
        "id": "GXEr4R3PcNuX"
      },
      "execution_count": null,
      "outputs": []
    },
    {
      "cell_type": "markdown",
      "source": [
        "## 11.5. Proper motion of star cluster member candidates"
      ],
      "metadata": {
        "id": "EXdq0PIScNuY"
      }
    },
    {
      "cell_type": "code",
      "source": [
        "# Run this cell to execute the script.\n",
        "\n",
        "!python3.13 appy_s11_05_11.py -i m67_candidates.list -o m67_pm1.png"
      ],
      "metadata": {
        "id": "AuJCZFW5cNuY"
      },
      "execution_count": null,
      "outputs": []
    },
    {
      "cell_type": "code",
      "source": [
        "# Run this cell to find newly created file.\n",
        "\n",
        "!ls -lF m67*.png"
      ],
      "metadata": {
        "id": "9HJINtJOcNuZ"
      },
      "execution_count": null,
      "outputs": []
    },
    {
      "cell_type": "code",
      "source": [
        "# Run this cell to display image file.\n",
        "\n",
        "# importing IPython module\n",
        "import IPython.display\n",
        "\n",
        "# displaying image file\n",
        "IPython.display.Image ('m67_pm1.png')"
      ],
      "metadata": {
        "id": "UzVs3ktTcNuZ"
      },
      "execution_count": null,
      "outputs": []
    },
    {
      "cell_type": "code",
      "source": [
        "# Run this cell to execute the script.\n",
        "\n",
        "!python3.13 appy_s11_05_12.py -i m67_candidates.list -o m67_pm2.png -a1 -16 -a2 -6 -d1 -8 -d2 2"
      ],
      "metadata": {
        "id": "M0DLMk3rcNua"
      },
      "execution_count": null,
      "outputs": []
    },
    {
      "cell_type": "code",
      "source": [
        "# Run this cell to find newly created file.\n",
        "\n",
        "!ls -lF m67*.png"
      ],
      "metadata": {
        "id": "2_f_FiE5cNub"
      },
      "execution_count": null,
      "outputs": []
    },
    {
      "cell_type": "code",
      "source": [
        "# Run this cell to display image file.\n",
        "\n",
        "# importing IPython module\n",
        "import IPython.display\n",
        "\n",
        "# displaying image file\n",
        "IPython.display.Image ('m67_pm2.png')"
      ],
      "metadata": {
        "id": "IML4TBrEcNuc"
      },
      "execution_count": null,
      "outputs": []
    },
    {
      "cell_type": "code",
      "source": [
        "# Run this cell to execute the script.\n",
        "\n",
        "!python3.13 appy_s11_05_12.py -i m67_candidates.list -o m67_pm3.png -a1 -13.5 -a2 -8.5 -d1 -5.5 -d2 -0.5"
      ],
      "metadata": {
        "id": "mpQL40obcNud"
      },
      "execution_count": null,
      "outputs": []
    },
    {
      "cell_type": "code",
      "source": [
        "# Run this cell to find newly created file.\n",
        "\n",
        "!ls -lF m67*.png"
      ],
      "metadata": {
        "id": "q1CjmboTcNud"
      },
      "execution_count": null,
      "outputs": []
    },
    {
      "cell_type": "code",
      "source": [
        "# Run this cell to display image file.\n",
        "\n",
        "# importing IPython module\n",
        "import IPython.display\n",
        "\n",
        "# displaying image file\n",
        "IPython.display.Image ('m67_pm3.png')"
      ],
      "metadata": {
        "id": "ZBQCPctAcNue"
      },
      "execution_count": null,
      "outputs": []
    },
    {
      "cell_type": "markdown",
      "source": [
        "## 11.6. Further selection of stars by proper motion"
      ],
      "metadata": {
        "id": "_TH5jsHDcNue"
      }
    },
    {
      "cell_type": "code",
      "source": [
        "# Run this cell to execute the script.\n",
        "\n",
        "!python3.13 appy_s11_05_13.py -i m67_candidates.list -a1 -13.5 -a2 -8.5 -d1 -5.5 -d2 -0.5"
      ],
      "metadata": {
        "id": "iEJQJ0rscNuf"
      },
      "execution_count": null,
      "outputs": []
    },
    {
      "cell_type": "code",
      "source": [
        "# Run this cell to execute the script.\n",
        "\n",
        "!python3.13 appy_s11_05_14.py -i m67_candidates.list -o m67_pm4.png -a1 -13.5 -a2 -8.5 -d1 -5.5 -d2 -0.5 0.50 0.75 1.00 1.25 1.50"
      ],
      "metadata": {
        "id": "pOC6D3CccNuf"
      },
      "execution_count": null,
      "outputs": []
    },
    {
      "cell_type": "code",
      "source": [
        "# Run this cell to find newly created file.\n",
        "\n",
        "!ls -lF m67*.png"
      ],
      "metadata": {
        "id": "g-RkpjhPcNug"
      },
      "execution_count": null,
      "outputs": []
    },
    {
      "cell_type": "code",
      "source": [
        "# Run this cell to display image file.\n",
        "\n",
        "# importing IPython module\n",
        "import IPython.display\n",
        "\n",
        "# displaying image file\n",
        "IPython.display.Image ('m67_pm4.png')"
      ],
      "metadata": {
        "id": "9qZM3_wNcNuh"
      },
      "execution_count": null,
      "outputs": []
    },
    {
      "cell_type": "code",
      "source": [
        "# Run this cell to execute the script.\n",
        "\n",
        "!python3.13 appy_s11_05_15.py -i m67_candidates.list -o m67_candidates2.list -a1 -13.5 -a2 -8.5 -d1 -5.5 -d2 -0.5 -r 0.75"
      ],
      "metadata": {
        "id": "KbhO9ZLfcNui"
      },
      "execution_count": null,
      "outputs": []
    },
    {
      "cell_type": "code",
      "source": [
        "# Run this cell to find newly created file.\n",
        "\n",
        "!ls -lF m67*.list"
      ],
      "metadata": {
        "id": "TCNjfh11cNuj"
      },
      "execution_count": null,
      "outputs": []
    },
    {
      "cell_type": "code",
      "source": [
        "# Run this cell to show first 20 lines of newly created file.\n",
        "\n",
        "!head -20 m67_candidates2.list | cut -b -80"
      ],
      "metadata": {
        "id": "pqBz8U8xcNuj"
      },
      "execution_count": null,
      "outputs": []
    },
    {
      "cell_type": "code",
      "source": [
        "# Run this cell to count the number of selected stars.\n",
        "\n",
        "!grep -v '#' m67_candidates2.list | wc"
      ],
      "metadata": {
        "id": "-6nAVNVjcNuk"
      },
      "execution_count": null,
      "outputs": []
    },
    {
      "cell_type": "code",
      "source": [
        "# Run this cell to execute the script.\n",
        "\n",
        "!python3.13 appy_s11_05_16.py -i m67_candidates2.list -o m67_pm5.png"
      ],
      "metadata": {
        "id": "7WviAp0xcNul"
      },
      "execution_count": null,
      "outputs": []
    },
    {
      "cell_type": "code",
      "source": [
        "# Run this cell to find newly created file.\n",
        "\n",
        "!ls -lF m67*.png"
      ],
      "metadata": {
        "id": "riRuz-QQcNul"
      },
      "execution_count": null,
      "outputs": []
    },
    {
      "cell_type": "code",
      "source": [
        "# Run this cell to display image file.\n",
        "\n",
        "# importing IPython module\n",
        "import IPython.display\n",
        "\n",
        "# displaying image file\n",
        "IPython.display.Image ('m67_pm5.png')"
      ],
      "metadata": {
        "id": "ccPIrEupcNum"
      },
      "execution_count": null,
      "outputs": []
    },
    {
      "cell_type": "markdown",
      "source": [
        "## 11.7. Constructing HR diagram of M67"
      ],
      "metadata": {
        "id": "SZpQXGgqcNum"
      }
    },
    {
      "cell_type": "code",
      "source": [
        "# Run this cell to execute the script.\n",
        "\n",
        "!python3.13 appy_s11_05_17.py -i m67_candidates2.list -o m67_hr.png -t \"Open Cluster M67\""
      ],
      "metadata": {
        "id": "pszws07pcNun"
      },
      "execution_count": null,
      "outputs": []
    },
    {
      "cell_type": "code",
      "source": [
        "# Run this cell to find newly created file.\n",
        "\n",
        "!ls -lF m67*.png"
      ],
      "metadata": {
        "id": "VBCWAqsDcNun"
      },
      "execution_count": null,
      "outputs": []
    },
    {
      "cell_type": "code",
      "source": [
        "# Run this cell to display image file.\n",
        "\n",
        "# importing IPython module\n",
        "import IPython.display\n",
        "\n",
        "# displaying image file\n",
        "IPython.display.Image ('m67_hr.png')"
      ],
      "metadata": {
        "id": "fFP1UwcHcNuo"
      },
      "execution_count": null,
      "outputs": []
    },
    {
      "cell_type": "markdown",
      "source": [
        "## 11.8. Superimposing synthetic main-sequence"
      ],
      "metadata": {
        "id": "JbcO4EW3cNup"
      }
    },
    {
      "cell_type": "code",
      "source": [
        "# Run this cell to execute the script.\n",
        "\n",
        "!python3.13 appy_s11_06_02.py -i m67_candidates2.list -o m67_hr2.png -t \"Open Cluster M67\""
      ],
      "metadata": {
        "id": "ttZbTMVDcNup"
      },
      "execution_count": null,
      "outputs": []
    },
    {
      "cell_type": "code",
      "source": [
        "# Run this cell to find newly created file.\n",
        "\n",
        "!ls -lF m67*.png"
      ],
      "metadata": {
        "id": "gL-OydwycNuq"
      },
      "execution_count": null,
      "outputs": []
    },
    {
      "cell_type": "code",
      "source": [
        "# Run this cell to display image file.\n",
        "\n",
        "# importing IPython module\n",
        "import IPython.display\n",
        "\n",
        "# displaying image file\n",
        "IPython.display.Image ('m67_hr2.png')"
      ],
      "metadata": {
        "id": "9Sqkb2rucNuq"
      },
      "execution_count": null,
      "outputs": []
    },
    {
      "cell_type": "markdown",
      "source": [
        "# 12. HR diagram of globular cluster M4"
      ],
      "metadata": {
        "id": "8db_AO0Yu-3E"
      }
    },
    {
      "cell_type": "markdown",
      "source": [
        "## 12.1. Downloading DSS image of M4"
      ],
      "metadata": {
        "id": "4j2pJMeRu-3L"
      }
    },
    {
      "cell_type": "code",
      "source": [
        "# Run this cell to execute the script.\n",
        "\n",
        "!python3.13 appy_s11_02_04.py -t M4 -f 90 -o m4.png -n M4 -s \"DSS2 Red\" -c copper"
      ],
      "metadata": {
        "id": "1FBm7YCTu-3O"
      },
      "execution_count": null,
      "outputs": []
    },
    {
      "cell_type": "code",
      "source": [
        "# Run this cell to find downloaded file.\n",
        "\n",
        "!ls -lF m4*.png"
      ],
      "metadata": {
        "id": "GB0wczBLu-3Q"
      },
      "execution_count": null,
      "outputs": []
    },
    {
      "cell_type": "code",
      "source": [
        "# Run this cell to display image file.\n",
        "\n",
        "# importing IPython module\n",
        "import IPython.display\n",
        "\n",
        "# displaying image file\n",
        "IPython.display.Image ('m4.png')"
      ],
      "metadata": {
        "id": "CJIh16TRu-3Q"
      },
      "execution_count": null,
      "outputs": []
    },
    {
      "cell_type": "markdown",
      "source": [
        "## 12.2. Downloading Gaia DR3 data"
      ],
      "metadata": {
        "id": "uC_K3soku-3R"
      }
    },
    {
      "cell_type": "code",
      "source": [
        "# Run this cell to execute the script.\n",
        "\n",
        "!python3.13 appy_s11_03_01.py -t M4 -o m4.vot.gz -r 45"
      ],
      "metadata": {
        "id": "ivpp7TXmu-3S"
      },
      "execution_count": null,
      "outputs": []
    },
    {
      "cell_type": "code",
      "source": [
        "# Run this cell to find newly downloaded file.\n",
        "\n",
        "!ls -lF *.vot.gz"
      ],
      "metadata": {
        "id": "xA8BCcScu-3S"
      },
      "execution_count": null,
      "outputs": []
    },
    {
      "cell_type": "markdown",
      "source": [
        "## 12.3. Visualising distance distribution of stars"
      ],
      "metadata": {
        "id": "Q4zIxtr5u-3T"
      }
    },
    {
      "cell_type": "code",
      "source": [
        "# Run this cell to execute the script.\n",
        "\n",
        "!python3.13 appy_s11_05_09.py -i m4.vot.gz -o m4_dist.png -a 0 -b 5000 -n 250"
      ],
      "metadata": {
        "id": "2iiJXIrZu-3T"
      },
      "execution_count": null,
      "outputs": []
    },
    {
      "cell_type": "code",
      "source": [
        "# Run this cell to find newly created file.\n",
        "\n",
        "!ls -lF m4*.png"
      ],
      "metadata": {
        "id": "Ai6rIABmu-3U"
      },
      "execution_count": null,
      "outputs": []
    },
    {
      "cell_type": "code",
      "source": [
        "# Run this cell to display image file.\n",
        "\n",
        "# importing IPython module\n",
        "import IPython.display\n",
        "\n",
        "# displaying image file\n",
        "IPython.display.Image ('m4_dist.png')"
      ],
      "metadata": {
        "id": "ypfWdV0ju-3U"
      },
      "execution_count": null,
      "outputs": []
    },
    {
      "cell_type": "code",
      "source": [
        "# Run this cell to execute the script.\n",
        "\n",
        "!python3.13 appy_s11_05_09.py -i m4.vot.gz -o m4_dist2.png -a 1200 -b 2400 -n 120"
      ],
      "metadata": {
        "id": "67A_4V9Vu-3V"
      },
      "execution_count": null,
      "outputs": []
    },
    {
      "cell_type": "code",
      "source": [
        "# Run this cell to find newly created file.\n",
        "\n",
        "!ls -lF m4*.png"
      ],
      "metadata": {
        "id": "L4N9eD5eu-3V"
      },
      "execution_count": null,
      "outputs": []
    },
    {
      "cell_type": "code",
      "source": [
        "# Run this cell to display image file.\n",
        "\n",
        "# importing IPython module\n",
        "import IPython.display\n",
        "\n",
        "# displaying image file\n",
        "IPython.display.Image ('m4_dist2.png')"
      ],
      "metadata": {
        "id": "sYI_dG_lu-3V"
      },
      "execution_count": null,
      "outputs": []
    },
    {
      "cell_type": "markdown",
      "source": [
        "## 12.4. Selecting stars by distance"
      ],
      "metadata": {
        "id": "lzyGZ0CTu-3W"
      }
    },
    {
      "cell_type": "code",
      "source": [
        "# Run this cell to execute the script.\n",
        "\n",
        "!python3.13 appy_s11_05_10.py -i m4.vot.gz -o m4_candidates.list -a 1400 -b 2200"
      ],
      "metadata": {
        "id": "h7dBMzzsu-3W"
      },
      "execution_count": null,
      "outputs": []
    },
    {
      "cell_type": "code",
      "source": [
        "# Run this cell to find newly created file.\n",
        "\n",
        "!ls -lF m4*.list"
      ],
      "metadata": {
        "id": "0lTHRtKYu-3W"
      },
      "execution_count": null,
      "outputs": []
    },
    {
      "cell_type": "code",
      "source": [
        "# Run this cell to show first 20 lines of newly created file.\n",
        "\n",
        "!head -20 m4_candidates.list | cut -b -80"
      ],
      "metadata": {
        "id": "8h41nUmMu-3X"
      },
      "execution_count": null,
      "outputs": []
    },
    {
      "cell_type": "code",
      "source": [
        "# Run this cell to count the number of selected stars.\n",
        "\n",
        "!grep -v '#' m4_candidates.list | wc"
      ],
      "metadata": {
        "id": "yl8UbqGiu-3X"
      },
      "execution_count": null,
      "outputs": []
    },
    {
      "cell_type": "markdown",
      "source": [
        "## 12.5. Proper motion of star cluster member candidates"
      ],
      "metadata": {
        "id": "qdZJyA6wu-3Y"
      }
    },
    {
      "cell_type": "code",
      "source": [
        "# Run this cell to execute the script.\n",
        "\n",
        "!python3.13 appy_s11_05_11.py -i m4_candidates.list -o m4_pm1.png"
      ],
      "metadata": {
        "id": "T2B7jslUu-3Y"
      },
      "execution_count": null,
      "outputs": []
    },
    {
      "cell_type": "code",
      "source": [
        "# Run this cell to find newly created file.\n",
        "\n",
        "!ls -lF m4*.png"
      ],
      "metadata": {
        "id": "5__Psn3Eu-3Y"
      },
      "execution_count": null,
      "outputs": []
    },
    {
      "cell_type": "code",
      "source": [
        "# Run this cell to display image file.\n",
        "\n",
        "# importing IPython module\n",
        "import IPython.display\n",
        "\n",
        "# displaying image file\n",
        "IPython.display.Image ('m4_pm1.png')"
      ],
      "metadata": {
        "id": "fIQHITTju-3Z"
      },
      "execution_count": null,
      "outputs": []
    },
    {
      "cell_type": "code",
      "source": [
        "# Run this cell to execute the script.\n",
        "\n",
        "!python3.13 appy_s11_05_12.py -i m4_candidates.list -o m4_pm2.png -a1 -22 -a2 -2 -d1 -29 -d2 -9"
      ],
      "metadata": {
        "id": "K0Sn0zBPu-3Z"
      },
      "execution_count": null,
      "outputs": []
    },
    {
      "cell_type": "code",
      "source": [
        "# Run this cell to find newly created file.\n",
        "\n",
        "!ls -lF m4*.png"
      ],
      "metadata": {
        "id": "cIMjhffpu-3Z"
      },
      "execution_count": null,
      "outputs": []
    },
    {
      "cell_type": "code",
      "source": [
        "# Run this cell to display image file.\n",
        "\n",
        "# importing IPython module\n",
        "import IPython.display\n",
        "\n",
        "# displaying image file\n",
        "IPython.display.Image ('m4_pm2.png')"
      ],
      "metadata": {
        "id": "uL2FD2TSu-3a"
      },
      "execution_count": null,
      "outputs": []
    },
    {
      "cell_type": "code",
      "source": [
        "# Run this cell to execute the script.\n",
        "\n",
        "!python3.13 appy_s11_05_12.py -i m4_candidates.list -o m4_pm3.png -a1 -15 -a2 -10 -d1 -21.5 -d2 -16.5"
      ],
      "metadata": {
        "id": "y5TxUtFUu-3a"
      },
      "execution_count": null,
      "outputs": []
    },
    {
      "cell_type": "code",
      "source": [
        "# Run this cell to find newly created file.\n",
        "\n",
        "!ls -lF m4*.png"
      ],
      "metadata": {
        "id": "-WswQYuFu-3b"
      },
      "execution_count": null,
      "outputs": []
    },
    {
      "cell_type": "code",
      "source": [
        "# Run this cell to display image file.\n",
        "\n",
        "# importing IPython module\n",
        "import IPython.display\n",
        "\n",
        "# displaying image file\n",
        "IPython.display.Image ('m4_pm3.png')"
      ],
      "metadata": {
        "id": "DPxxK3M4u-3b"
      },
      "execution_count": null,
      "outputs": []
    },
    {
      "cell_type": "markdown",
      "source": [
        "## 12.6. Further selection of stars by proper motion"
      ],
      "metadata": {
        "id": "4OX1tH6gu-3c"
      }
    },
    {
      "cell_type": "code",
      "source": [
        "# Run this cell to execute the script.\n",
        "\n",
        "!python3.13 appy_s11_05_13.py -i m4_candidates.list -a1 -15 -a2 -10 -d1 -21.5 -d2 -16.5"
      ],
      "metadata": {
        "id": "muXCvkaTu-3c"
      },
      "execution_count": null,
      "outputs": []
    },
    {
      "cell_type": "code",
      "source": [
        "# Run this cell to execute the script.\n",
        "\n",
        "!python3.13 appy_s11_05_14.py -i m4_candidates.list -o m4_pm4.png -a1 -15 -a2 -10 -d1 -21.5 -d2 -16.5 0.50 0.75 1.00 1.25 1.50"
      ],
      "metadata": {
        "id": "MvLSBdgdu-3c"
      },
      "execution_count": null,
      "outputs": []
    },
    {
      "cell_type": "code",
      "source": [
        "# Run this cell to find newly created file.\n",
        "\n",
        "!ls -lF m4*.png"
      ],
      "metadata": {
        "id": "ghlIFu98u-3d"
      },
      "execution_count": null,
      "outputs": []
    },
    {
      "cell_type": "code",
      "source": [
        "# Run this cell to display image file.\n",
        "\n",
        "# importing IPython module\n",
        "import IPython.display\n",
        "\n",
        "# displaying image file\n",
        "IPython.display.Image ('m4_pm4.png')"
      ],
      "metadata": {
        "id": "BY5VO1o_u-3d"
      },
      "execution_count": null,
      "outputs": []
    },
    {
      "cell_type": "code",
      "source": [
        "# Run this cell to execute the script.\n",
        "\n",
        "!python3.13 appy_s11_05_15.py -i m4_candidates.list -o m4_candidates2.list -a1 -15 -a2 -10 -d1 -21.5 -d2 -16.5 -r 1.50"
      ],
      "metadata": {
        "id": "PWL5eWQUu-3e"
      },
      "execution_count": null,
      "outputs": []
    },
    {
      "cell_type": "code",
      "source": [
        "# Run this cell to find newly created file.\n",
        "\n",
        "!ls -lF m4*.list"
      ],
      "metadata": {
        "id": "cAFHVu2Bu-3e"
      },
      "execution_count": null,
      "outputs": []
    },
    {
      "cell_type": "code",
      "source": [
        "# Run this cell to show first 20 lines of newly created file.\n",
        "\n",
        "!head -20 m4_candidates2.list | cut -b -80"
      ],
      "metadata": {
        "id": "0JuzkdTqu-3e"
      },
      "execution_count": null,
      "outputs": []
    },
    {
      "cell_type": "code",
      "source": [
        "# Run this cell to count the number of selected stars.\n",
        "\n",
        "!grep -v '#' m4_candidates2.list | wc"
      ],
      "metadata": {
        "id": "9RJF4Jlqu-3f"
      },
      "execution_count": null,
      "outputs": []
    },
    {
      "cell_type": "code",
      "source": [
        "# Run this cell to execute the script.\n",
        "\n",
        "!python3.13 appy_s11_05_16.py -i m4_candidates2.list -o m4_pm5.png"
      ],
      "metadata": {
        "id": "vaHGLg6ju-3f"
      },
      "execution_count": null,
      "outputs": []
    },
    {
      "cell_type": "code",
      "source": [
        "# Run this cell to find newly created file.\n",
        "\n",
        "!ls -lF m4*.png"
      ],
      "metadata": {
        "id": "hDc3nGuru-3f"
      },
      "execution_count": null,
      "outputs": []
    },
    {
      "cell_type": "code",
      "source": [
        "# Run this cell to display image file.\n",
        "\n",
        "# importing IPython module\n",
        "import IPython.display\n",
        "\n",
        "# displaying image file\n",
        "IPython.display.Image ('m4_pm5.png')"
      ],
      "metadata": {
        "id": "1LTZJksNu-3g"
      },
      "execution_count": null,
      "outputs": []
    },
    {
      "cell_type": "markdown",
      "source": [
        "## 12.7. Constructing HR diagram of M4"
      ],
      "metadata": {
        "id": "jwhCyjmvu-3g"
      }
    },
    {
      "cell_type": "code",
      "source": [
        "# Run this cell to execute the script.\n",
        "\n",
        "!python3.13 appy_s11_05_17.py -i m4_candidates2.list -o m4_hr.png -t \"Globular Cluster M4\""
      ],
      "metadata": {
        "id": "EBP5-icOu-3g"
      },
      "execution_count": null,
      "outputs": []
    },
    {
      "cell_type": "code",
      "source": [
        "# Run this cell to find newly created file.\n",
        "\n",
        "!ls -lF m4*.png"
      ],
      "metadata": {
        "id": "_-J9fB_8u-3h"
      },
      "execution_count": null,
      "outputs": []
    },
    {
      "cell_type": "code",
      "source": [
        "# Run this cell to display image file.\n",
        "\n",
        "# importing IPython module\n",
        "import IPython.display\n",
        "\n",
        "# displaying image file\n",
        "IPython.display.Image ('m4_hr.png')"
      ],
      "metadata": {
        "id": "vnZyq2tvu-3h"
      },
      "execution_count": null,
      "outputs": []
    },
    {
      "cell_type": "markdown",
      "source": [
        "## 12.8. Superimposing synthetic main-sequence"
      ],
      "metadata": {
        "id": "oB-kbMB1u-3h"
      }
    },
    {
      "cell_type": "code",
      "source": [
        "# Run this cell to execute the script.\n",
        "\n",
        "!python3.13 appy_s11_06_02.py -i m4_candidates2.list -o m4_hr2.png -t \"Globular Cluster M4\""
      ],
      "metadata": {
        "id": "akTGIN5uu-3i"
      },
      "execution_count": null,
      "outputs": []
    },
    {
      "cell_type": "code",
      "source": [
        "# Run this cell to find newly created file.\n",
        "\n",
        "!ls -lF m4*.png"
      ],
      "metadata": {
        "id": "gMm50GaTu-3i"
      },
      "execution_count": null,
      "outputs": []
    },
    {
      "cell_type": "code",
      "source": [
        "# Run this cell to display image file.\n",
        "\n",
        "# importing IPython module\n",
        "import IPython.display\n",
        "\n",
        "# displaying image file\n",
        "IPython.display.Image ('m4_hr2.png')"
      ],
      "metadata": {
        "id": "FKVnUZw9u-3i"
      },
      "execution_count": null,
      "outputs": []
    },
    {
      "cell_type": "markdown",
      "source": [
        "# 13. HR diagram of globular cluster NGC 6397"
      ],
      "metadata": {
        "id": "2GzsMndN3O_l"
      }
    },
    {
      "cell_type": "markdown",
      "source": [
        "## 13.1. Downloading DSS image of NGC 6397"
      ],
      "metadata": {
        "id": "HIS3JMmG3O_o"
      }
    },
    {
      "cell_type": "code",
      "source": [
        "# Run this cell to execute the script.\n",
        "\n",
        "!python3.13 appy_s11_02_04.py -t \"NGC 6397\" -f 90 -o ngc6397.png -n \"NGC 6397\" -s \"DSS2 Red\" -c viridis"
      ],
      "metadata": {
        "id": "Z0bpR-Wz3O_p"
      },
      "execution_count": null,
      "outputs": []
    },
    {
      "cell_type": "code",
      "source": [
        "# Run this cell to find downloaded file.\n",
        "\n",
        "!ls -lF ngc6397*.png"
      ],
      "metadata": {
        "id": "oXuvykfK3O_r"
      },
      "execution_count": null,
      "outputs": []
    },
    {
      "cell_type": "code",
      "source": [
        "# Run this cell to display image file.\n",
        "\n",
        "# importing IPython module\n",
        "import IPython.display\n",
        "\n",
        "# displaying image file\n",
        "IPython.display.Image ('ngc6397.png')"
      ],
      "metadata": {
        "id": "zp3gaqEl3O_s"
      },
      "execution_count": null,
      "outputs": []
    },
    {
      "cell_type": "markdown",
      "source": [
        "## 13.2. Downloading Gaia DR3 data"
      ],
      "metadata": {
        "id": "dyJeD3S93O_t"
      }
    },
    {
      "cell_type": "code",
      "source": [
        "# Run this cell to execute the script.\n",
        "\n",
        "!python3.13 appy_s11_03_01.py -t \"NGC 6397\" -o ngc6397.vot.gz -r 30"
      ],
      "metadata": {
        "id": "K8H7HwKv3O_u"
      },
      "execution_count": null,
      "outputs": []
    },
    {
      "cell_type": "code",
      "source": [
        "# Run this cell to find newly downloaded file.\n",
        "\n",
        "!ls -lF *.vot.gz"
      ],
      "metadata": {
        "id": "hGzZv2Ua3O_v"
      },
      "execution_count": null,
      "outputs": []
    },
    {
      "cell_type": "markdown",
      "source": [
        "## 13.3. Visualising distance distribution of stars"
      ],
      "metadata": {
        "id": "M5Ai-tNi3O_w"
      }
    },
    {
      "cell_type": "code",
      "source": [
        "# Run this cell to execute the script.\n",
        "\n",
        "!python3.13 appy_s11_05_09.py -i ngc6397.vot.gz -o ngc6397_dist.png -a 0 -b 5000 -n 250"
      ],
      "metadata": {
        "id": "6_dYqHc03O_w"
      },
      "execution_count": null,
      "outputs": []
    },
    {
      "cell_type": "code",
      "source": [
        "# Run this cell to find newly created file.\n",
        "\n",
        "!ls -lF ngc6397*.png"
      ],
      "metadata": {
        "id": "Tyix5Ull3O_x"
      },
      "execution_count": null,
      "outputs": []
    },
    {
      "cell_type": "code",
      "source": [
        "# Run this cell to display image file.\n",
        "\n",
        "# importing IPython module\n",
        "import IPython.display\n",
        "\n",
        "# displaying image file\n",
        "IPython.display.Image ('ngc6397_dist.png')"
      ],
      "metadata": {
        "id": "nyGBRwLI3O_z"
      },
      "execution_count": null,
      "outputs": []
    },
    {
      "cell_type": "code",
      "source": [
        "# Run this cell to execute the script.\n",
        "\n",
        "!python3.13 appy_s11_05_09.py -i ngc6397.vot.gz -o ngc6397_dist2.png -a 1800 -b 3200 -n 70"
      ],
      "metadata": {
        "id": "g4UEZzmR3O_z"
      },
      "execution_count": null,
      "outputs": []
    },
    {
      "cell_type": "code",
      "source": [
        "# Run this cell to find newly created file.\n",
        "\n",
        "!ls -lF ngc6397*.png"
      ],
      "metadata": {
        "id": "41klbf3T3O_0"
      },
      "execution_count": null,
      "outputs": []
    },
    {
      "cell_type": "code",
      "source": [
        "# Run this cell to display image file.\n",
        "\n",
        "# importing IPython module\n",
        "import IPython.display\n",
        "\n",
        "# displaying image file\n",
        "IPython.display.Image ('ngc6397_dist2.png')"
      ],
      "metadata": {
        "id": "SyNzDnCU3O_0"
      },
      "execution_count": null,
      "outputs": []
    },
    {
      "cell_type": "markdown",
      "source": [
        "## 13.4. Selecting stars by distance"
      ],
      "metadata": {
        "id": "WGRdLe1R3O_1"
      }
    },
    {
      "cell_type": "code",
      "source": [
        "# Run this cell to execute the script.\n",
        "\n",
        "!python3.13 appy_s11_05_10.py -i ngc6397.vot.gz -o ngc6397_candidates.list -a 2000 -b 3000"
      ],
      "metadata": {
        "id": "pNnapKnY3O_2"
      },
      "execution_count": null,
      "outputs": []
    },
    {
      "cell_type": "code",
      "source": [
        "# Run this cell to find newly created file.\n",
        "\n",
        "!ls -lF ngc6397*.list"
      ],
      "metadata": {
        "id": "XAl0ZRYo3O_2"
      },
      "execution_count": null,
      "outputs": []
    },
    {
      "cell_type": "code",
      "source": [
        "# Run this cell to show first 20 lines of newly created file.\n",
        "\n",
        "!head -20 ngc6397_candidates.list | cut -b -80"
      ],
      "metadata": {
        "id": "m9uG9XY23O_5"
      },
      "execution_count": null,
      "outputs": []
    },
    {
      "cell_type": "code",
      "source": [
        "# Run this cell to count the number of selected stars.\n",
        "\n",
        "!grep -v '#' ngc6397_candidates.list | wc"
      ],
      "metadata": {
        "id": "q9XdQlFx3O_6"
      },
      "execution_count": null,
      "outputs": []
    },
    {
      "cell_type": "markdown",
      "source": [
        "## 13.5. Proper motion of star cluster member candidates"
      ],
      "metadata": {
        "id": "nP1tkuRt3O_6"
      }
    },
    {
      "cell_type": "code",
      "source": [
        "# Run this cell to execute the script.\n",
        "\n",
        "!python3.13 appy_s11_05_11.py -i ngc6397_candidates.list -o ngc6397_pm1.png"
      ],
      "metadata": {
        "id": "o1Zv_WgX3O_7"
      },
      "execution_count": null,
      "outputs": []
    },
    {
      "cell_type": "code",
      "source": [
        "# Run this cell to find newly created file.\n",
        "\n",
        "!ls -lF ngc6397*.png"
      ],
      "metadata": {
        "id": "DPt8HP8T3O_7"
      },
      "execution_count": null,
      "outputs": []
    },
    {
      "cell_type": "code",
      "source": [
        "# Run this cell to display image file.\n",
        "\n",
        "# importing IPython module\n",
        "import IPython.display\n",
        "\n",
        "# displaying image file\n",
        "IPython.display.Image ('ngc6397_pm1.png')"
      ],
      "metadata": {
        "id": "7Al3mHcp3O_8"
      },
      "execution_count": null,
      "outputs": []
    },
    {
      "cell_type": "code",
      "source": [
        "# Run this cell to execute the script.\n",
        "\n",
        "!python3.13 appy_s11_05_12.py -i ngc6397_candidates.list -o ngc6397_pm2.png -a1 -2 -a2 8 -d1 -23 -d2 -13"
      ],
      "metadata": {
        "id": "3jgXyc1p3O_8"
      },
      "execution_count": null,
      "outputs": []
    },
    {
      "cell_type": "code",
      "source": [
        "# Run this cell to find newly created file.\n",
        "\n",
        "!ls -lF ngc6397*.png"
      ],
      "metadata": {
        "id": "6EpHMIiG3O_9"
      },
      "execution_count": null,
      "outputs": []
    },
    {
      "cell_type": "code",
      "source": [
        "# Run this cell to display image file.\n",
        "\n",
        "# importing IPython module\n",
        "import IPython.display\n",
        "\n",
        "# displaying image file\n",
        "IPython.display.Image ('ngc6397_pm2.png')"
      ],
      "metadata": {
        "id": "X7j274wf3O_9"
      },
      "execution_count": null,
      "outputs": []
    },
    {
      "cell_type": "code",
      "source": [
        "# Run this cell to execute the script.\n",
        "\n",
        "!python3.13 appy_s11_05_12.py -i ngc6397_candidates.list -o ngc6397_pm3.png -a1 1 -a2 6 -d1 -20 -d2 -15"
      ],
      "metadata": {
        "id": "9AaEWxDL3O_-"
      },
      "execution_count": null,
      "outputs": []
    },
    {
      "cell_type": "code",
      "source": [
        "# Run this cell to find newly created file.\n",
        "\n",
        "!ls -lF ngc6397*.png"
      ],
      "metadata": {
        "id": "2s2Rqsmn3O__"
      },
      "execution_count": null,
      "outputs": []
    },
    {
      "cell_type": "code",
      "source": [
        "# Run this cell to display image file.\n",
        "\n",
        "# importing IPython module\n",
        "import IPython.display\n",
        "\n",
        "# displaying image file\n",
        "IPython.display.Image ('ngc6397_pm3.png')"
      ],
      "metadata": {
        "id": "pP7nMDaF3O__"
      },
      "execution_count": null,
      "outputs": []
    },
    {
      "cell_type": "markdown",
      "source": [
        "## 13.6. Further selection of stars by proper motion"
      ],
      "metadata": {
        "id": "lS3941p_3PAA"
      }
    },
    {
      "cell_type": "code",
      "source": [
        "# Run this cell to execute the script.\n",
        "\n",
        "!python3.13 appy_s11_05_13.py -i ngc6397_candidates.list -a1 1 -a2 6 -d1 -20 -d2 -15"
      ],
      "metadata": {
        "id": "jxnhAcjL3PAA"
      },
      "execution_count": null,
      "outputs": []
    },
    {
      "cell_type": "code",
      "source": [
        "# Run this cell to execute the script.\n",
        "\n",
        "!python3.13 appy_s11_05_14.py -i ngc6397_candidates.list -o ngc6397_pm4.png -a1 1 -a2 6 -d1 -20 -d2 -15 0.50 0.75 1.00 1.25 1.50"
      ],
      "metadata": {
        "id": "QLKtYpAt3PAB"
      },
      "execution_count": null,
      "outputs": []
    },
    {
      "cell_type": "code",
      "source": [
        "# Run this cell to find newly created file.\n",
        "\n",
        "!ls -lF ngc6397*.png"
      ],
      "metadata": {
        "id": "YDRdfZw03PAB"
      },
      "execution_count": null,
      "outputs": []
    },
    {
      "cell_type": "code",
      "source": [
        "# Run this cell to display image file.\n",
        "\n",
        "# importing IPython module\n",
        "import IPython.display\n",
        "\n",
        "# displaying image file\n",
        "IPython.display.Image ('ngc6397_pm4.png')"
      ],
      "metadata": {
        "id": "bPO0nrwo3PAC"
      },
      "execution_count": null,
      "outputs": []
    },
    {
      "cell_type": "code",
      "source": [
        "# Run this cell to execute the script.\n",
        "\n",
        "!python3.13 appy_s11_05_15.py -i ngc6397_candidates.list -o ngc6397_candidates2.list -a1 1 -a2 6 -d1 -20 -d2 -15 -r 1.00"
      ],
      "metadata": {
        "id": "0hob0eRl3PAD"
      },
      "execution_count": null,
      "outputs": []
    },
    {
      "cell_type": "code",
      "source": [
        "# Run this cell to find newly created file.\n",
        "\n",
        "!ls -lF ngc6397*.list"
      ],
      "metadata": {
        "id": "ZjXsFKIw3PAD"
      },
      "execution_count": null,
      "outputs": []
    },
    {
      "cell_type": "code",
      "source": [
        "# Run this cell to show first 20 lines of newly created file.\n",
        "\n",
        "!head -20 ngc6397_candidates2.list | cut -b -80"
      ],
      "metadata": {
        "id": "GBpXGESa3PAD"
      },
      "execution_count": null,
      "outputs": []
    },
    {
      "cell_type": "code",
      "source": [
        "# Run this cell to count the number of selected stars.\n",
        "\n",
        "!grep -v '#' ngc6397_candidates2.list | wc"
      ],
      "metadata": {
        "id": "4_7p8sLD3PAF"
      },
      "execution_count": null,
      "outputs": []
    },
    {
      "cell_type": "code",
      "source": [
        "# Run this cell to execute the script.\n",
        "\n",
        "!python3.13 appy_s11_05_16.py -i ngc6397_candidates2.list -o ngc6397_pm5.png"
      ],
      "metadata": {
        "id": "2en3jR_P3PAF"
      },
      "execution_count": null,
      "outputs": []
    },
    {
      "cell_type": "code",
      "source": [
        "# Run this cell to find newly created file.\n",
        "\n",
        "!ls -lF ngc6397*.png"
      ],
      "metadata": {
        "id": "Pt83MCa53PAF"
      },
      "execution_count": null,
      "outputs": []
    },
    {
      "cell_type": "code",
      "source": [
        "# Run this cell to display image file.\n",
        "\n",
        "# importing IPython module\n",
        "import IPython.display\n",
        "\n",
        "# displaying image file\n",
        "IPython.display.Image ('ngc6397_pm5.png')"
      ],
      "metadata": {
        "id": "lQCpZ9O-3PAG"
      },
      "execution_count": null,
      "outputs": []
    },
    {
      "cell_type": "markdown",
      "source": [
        "## 13.7. Constructing HR diagram of NGC 6397"
      ],
      "metadata": {
        "id": "_ETxolqs3PAH"
      }
    },
    {
      "cell_type": "code",
      "source": [
        "# Run this cell to execute the script.\n",
        "\n",
        "!python3.13 appy_s11_05_17.py -i ngc6397_candidates2.list -o ngc6397_hr.png -t \"Globular Cluster NGC 6397\""
      ],
      "metadata": {
        "id": "aim5PN4W3PAH"
      },
      "execution_count": null,
      "outputs": []
    },
    {
      "cell_type": "code",
      "source": [
        "# Run this cell to find newly created file.\n",
        "\n",
        "!ls -lF ngc6397*.png"
      ],
      "metadata": {
        "id": "9iV4kAE-3PAH"
      },
      "execution_count": null,
      "outputs": []
    },
    {
      "cell_type": "code",
      "source": [
        "# Run this cell to display image file.\n",
        "\n",
        "# importing IPython module\n",
        "import IPython.display\n",
        "\n",
        "# displaying image file\n",
        "IPython.display.Image ('ngc6397_hr.png')"
      ],
      "metadata": {
        "id": "HS8iOqEH3PAI"
      },
      "execution_count": null,
      "outputs": []
    },
    {
      "cell_type": "markdown",
      "source": [
        "## 13.8. Superimposing synthetic main-sequence"
      ],
      "metadata": {
        "id": "XR5lTlEU3PAI"
      }
    },
    {
      "cell_type": "code",
      "source": [
        "# Run this cell to execute the script.\n",
        "\n",
        "!python3.13 appy_s11_06_02.py -i ngc6397_candidates2.list -m ms.data -o ngc6397_hr2.png -t \"Globular Cluster NGC 6397\""
      ],
      "metadata": {
        "id": "oGOyfUh53PAJ"
      },
      "execution_count": null,
      "outputs": []
    },
    {
      "cell_type": "code",
      "source": [
        "# Run this cell to find newly created file.\n",
        "\n",
        "!ls -lF ngc6397*.png"
      ],
      "metadata": {
        "id": "udLytnbj3PAJ"
      },
      "execution_count": null,
      "outputs": []
    },
    {
      "cell_type": "code",
      "source": [
        "# Run this cell to display image file.\n",
        "\n",
        "# importing IPython module\n",
        "import IPython.display\n",
        "\n",
        "# displaying image file\n",
        "IPython.display.Image ('ngc6397_hr2.png')"
      ],
      "metadata": {
        "id": "YrE0zKSK3PAJ"
      },
      "execution_count": null,
      "outputs": []
    },
    {
      "cell_type": "markdown",
      "source": [
        "# End of this notebook"
      ],
      "metadata": {
        "id": "rglj2-o-Fm6b"
      }
    },
    {
      "cell_type": "code",
      "source": [],
      "metadata": {
        "id": "EtnZUDwMEM3E"
      },
      "execution_count": null,
      "outputs": []
    }
  ]
}